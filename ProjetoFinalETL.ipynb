{
  "cells": [
    {
      "cell_type": "markdown",
      "metadata": {
        "id": "view-in-github",
        "colab_type": "text"
      },
      "source": [
        "<a href=\"https://colab.research.google.com/github/LumaLynai/ProjetoFinalETL/blob/main/ProjetoFinalETL.ipynb\" target=\"_parent\"><img src=\"https://colab.research.google.com/assets/colab-badge.svg\" alt=\"Open In Colab\"/></a>"
      ]
    },
    {
      "cell_type": "markdown",
      "metadata": {
        "id": "BjV39KFNzAV9"
      },
      "source": [
        "# **Bibliotecas**"
      ]
    },
    {
      "cell_type": "code",
      "execution_count": null,
      "metadata": {
        "id": "dJdiJSRcy4kt",
        "colab": {
          "base_uri": "https://localhost:8080/"
        },
        "outputId": "c9082187-2b29-49dc-a85b-8ff61d1629a1"
      },
      "outputs": [
        {
          "output_type": "stream",
          "name": "stdout",
          "text": [
            "Looking in indexes: https://pypi.org/simple, https://us-python.pkg.dev/colab-wheels/public/simple/\n",
            "Requirement already satisfied: pandas in /usr/local/lib/python3.7/dist-packages (1.3.5)\n",
            "Requirement already satisfied: python-dateutil>=2.7.3 in /usr/local/lib/python3.7/dist-packages (from pandas) (2.8.2)\n",
            "Requirement already satisfied: pytz>=2017.3 in /usr/local/lib/python3.7/dist-packages (from pandas) (2022.1)\n",
            "Requirement already satisfied: numpy>=1.17.3 in /usr/local/lib/python3.7/dist-packages (from pandas) (1.21.6)\n",
            "Requirement already satisfied: six>=1.5 in /usr/local/lib/python3.7/dist-packages (from python-dateutil>=2.7.3->pandas) (1.15.0)\n",
            "Looking in indexes: https://pypi.org/simple, https://us-python.pkg.dev/colab-wheels/public/simple/\n",
            "Collecting gcsfs\n",
            "  Downloading gcsfs-2022.5.0-py2.py3-none-any.whl (25 kB)\n",
            "Collecting fsspec==2022.5.0\n",
            "  Downloading fsspec-2022.5.0-py3-none-any.whl (140 kB)\n",
            "\u001b[K     |████████████████████████████████| 140 kB 3.6 MB/s \n",
            "\u001b[?25hRequirement already satisfied: google-auth-oauthlib in /usr/local/lib/python3.7/dist-packages (from gcsfs) (0.4.6)\n",
            "Requirement already satisfied: requests in /usr/local/lib/python3.7/dist-packages (from gcsfs) (2.23.0)\n",
            "Requirement already satisfied: google-cloud-storage in /usr/local/lib/python3.7/dist-packages (from gcsfs) (1.18.1)\n",
            "Requirement already satisfied: google-auth>=1.2 in /usr/local/lib/python3.7/dist-packages (from gcsfs) (1.35.0)\n",
            "Requirement already satisfied: decorator>4.1.2 in /usr/local/lib/python3.7/dist-packages (from gcsfs) (4.4.2)\n",
            "Collecting aiohttp<4\n",
            "  Downloading aiohttp-3.8.1-cp37-cp37m-manylinux_2_5_x86_64.manylinux1_x86_64.manylinux_2_12_x86_64.manylinux2010_x86_64.whl (1.1 MB)\n",
            "\u001b[K     |████████████████████████████████| 1.1 MB 43.5 MB/s \n",
            "\u001b[?25hCollecting asynctest==0.13.0\n",
            "  Downloading asynctest-0.13.0-py3-none-any.whl (26 kB)\n",
            "Requirement already satisfied: attrs>=17.3.0 in /usr/local/lib/python3.7/dist-packages (from aiohttp<4->gcsfs) (21.4.0)\n",
            "Collecting async-timeout<5.0,>=4.0.0a3\n",
            "  Downloading async_timeout-4.0.2-py3-none-any.whl (5.8 kB)\n",
            "Collecting yarl<2.0,>=1.0\n",
            "  Downloading yarl-1.7.2-cp37-cp37m-manylinux_2_5_x86_64.manylinux1_x86_64.manylinux_2_12_x86_64.manylinux2010_x86_64.whl (271 kB)\n",
            "\u001b[K     |████████████████████████████████| 271 kB 45.2 MB/s \n",
            "\u001b[?25hCollecting aiosignal>=1.1.2\n",
            "  Downloading aiosignal-1.2.0-py3-none-any.whl (8.2 kB)\n",
            "Requirement already satisfied: charset-normalizer<3.0,>=2.0 in /usr/local/lib/python3.7/dist-packages (from aiohttp<4->gcsfs) (2.0.12)\n",
            "Collecting frozenlist>=1.1.1\n",
            "  Downloading frozenlist-1.3.0-cp37-cp37m-manylinux_2_5_x86_64.manylinux1_x86_64.manylinux_2_17_x86_64.manylinux2014_x86_64.whl (144 kB)\n",
            "\u001b[K     |████████████████████████████████| 144 kB 65.4 MB/s \n",
            "\u001b[?25hCollecting multidict<7.0,>=4.5\n",
            "  Downloading multidict-6.0.2-cp37-cp37m-manylinux_2_17_x86_64.manylinux2014_x86_64.whl (94 kB)\n",
            "\u001b[K     |████████████████████████████████| 94 kB 3.1 MB/s \n",
            "\u001b[?25hRequirement already satisfied: typing-extensions>=3.7.4 in /usr/local/lib/python3.7/dist-packages (from aiohttp<4->gcsfs) (4.1.1)\n",
            "Requirement already satisfied: setuptools>=40.3.0 in /usr/local/lib/python3.7/dist-packages (from google-auth>=1.2->gcsfs) (57.4.0)\n",
            "Requirement already satisfied: rsa<5,>=3.1.4 in /usr/local/lib/python3.7/dist-packages (from google-auth>=1.2->gcsfs) (4.8)\n",
            "Requirement already satisfied: six>=1.9.0 in /usr/local/lib/python3.7/dist-packages (from google-auth>=1.2->gcsfs) (1.15.0)\n",
            "Requirement already satisfied: cachetools<5.0,>=2.0.0 in /usr/local/lib/python3.7/dist-packages (from google-auth>=1.2->gcsfs) (4.2.4)\n",
            "Requirement already satisfied: pyasn1-modules>=0.2.1 in /usr/local/lib/python3.7/dist-packages (from google-auth>=1.2->gcsfs) (0.2.8)\n",
            "Requirement already satisfied: pyasn1<0.5.0,>=0.4.6 in /usr/local/lib/python3.7/dist-packages (from pyasn1-modules>=0.2.1->google-auth>=1.2->gcsfs) (0.4.8)\n",
            "Requirement already satisfied: idna>=2.0 in /usr/local/lib/python3.7/dist-packages (from yarl<2.0,>=1.0->aiohttp<4->gcsfs) (2.10)\n",
            "Requirement already satisfied: requests-oauthlib>=0.7.0 in /usr/local/lib/python3.7/dist-packages (from google-auth-oauthlib->gcsfs) (1.3.1)\n",
            "Requirement already satisfied: oauthlib>=3.0.0 in /usr/local/lib/python3.7/dist-packages (from requests-oauthlib>=0.7.0->google-auth-oauthlib->gcsfs) (3.2.0)\n",
            "Requirement already satisfied: certifi>=2017.4.17 in /usr/local/lib/python3.7/dist-packages (from requests->gcsfs) (2022.6.15)\n",
            "Requirement already satisfied: urllib3!=1.25.0,!=1.25.1,<1.26,>=1.21.1 in /usr/local/lib/python3.7/dist-packages (from requests->gcsfs) (1.24.3)\n",
            "Requirement already satisfied: chardet<4,>=3.0.2 in /usr/local/lib/python3.7/dist-packages (from requests->gcsfs) (3.0.4)\n",
            "Requirement already satisfied: google-cloud-core<2.0dev,>=1.0.0 in /usr/local/lib/python3.7/dist-packages (from google-cloud-storage->gcsfs) (1.0.3)\n",
            "Requirement already satisfied: google-resumable-media<0.5.0dev,>=0.3.1 in /usr/local/lib/python3.7/dist-packages (from google-cloud-storage->gcsfs) (0.4.1)\n",
            "Requirement already satisfied: google-api-core<2.0.0dev,>=1.14.0 in /usr/local/lib/python3.7/dist-packages (from google-cloud-core<2.0dev,>=1.0.0->google-cloud-storage->gcsfs) (1.31.6)\n",
            "Requirement already satisfied: packaging>=14.3 in /usr/local/lib/python3.7/dist-packages (from google-api-core<2.0.0dev,>=1.14.0->google-cloud-core<2.0dev,>=1.0.0->google-cloud-storage->gcsfs) (21.3)\n",
            "Requirement already satisfied: pytz in /usr/local/lib/python3.7/dist-packages (from google-api-core<2.0.0dev,>=1.14.0->google-cloud-core<2.0dev,>=1.0.0->google-cloud-storage->gcsfs) (2022.1)\n",
            "Requirement already satisfied: googleapis-common-protos<2.0dev,>=1.6.0 in /usr/local/lib/python3.7/dist-packages (from google-api-core<2.0.0dev,>=1.14.0->google-cloud-core<2.0dev,>=1.0.0->google-cloud-storage->gcsfs) (1.56.2)\n",
            "Requirement already satisfied: protobuf<4.0.0dev,>=3.12.0 in /usr/local/lib/python3.7/dist-packages (from google-api-core<2.0.0dev,>=1.14.0->google-cloud-core<2.0dev,>=1.0.0->google-cloud-storage->gcsfs) (3.17.3)\n",
            "Requirement already satisfied: pyparsing!=3.0.5,>=2.0.2 in /usr/local/lib/python3.7/dist-packages (from packaging>=14.3->google-api-core<2.0.0dev,>=1.14.0->google-cloud-core<2.0dev,>=1.0.0->google-cloud-storage->gcsfs) (3.0.9)\n",
            "Installing collected packages: multidict, frozenlist, yarl, asynctest, async-timeout, aiosignal, fsspec, aiohttp, gcsfs\n",
            "Successfully installed aiohttp-3.8.1 aiosignal-1.2.0 async-timeout-4.0.2 asynctest-0.13.0 frozenlist-1.3.0 fsspec-2022.5.0 gcsfs-2022.5.0 multidict-6.0.2 yarl-1.7.2\n"
          ]
        }
      ],
      "source": [
        "!pip install pandas\n",
        "!pip install gcsfs\n"
      ]
    },
    {
      "cell_type": "code",
      "source": [
        "!pip install plotly"
      ],
      "metadata": {
        "colab": {
          "base_uri": "https://localhost:8080/"
        },
        "id": "94RA2xSE0CAW",
        "outputId": "f113491d-c76f-4268-ba2f-5e4816e091cc"
      },
      "execution_count": null,
      "outputs": [
        {
          "output_type": "stream",
          "name": "stdout",
          "text": [
            "Looking in indexes: https://pypi.org/simple, https://us-python.pkg.dev/colab-wheels/public/simple/\n",
            "Requirement already satisfied: plotly in /usr/local/lib/python3.7/dist-packages (5.5.0)\n",
            "Requirement already satisfied: tenacity>=6.2.0 in /usr/local/lib/python3.7/dist-packages (from plotly) (8.0.1)\n",
            "Requirement already satisfied: six in /usr/local/lib/python3.7/dist-packages (from plotly) (1.15.0)\n"
          ]
        }
      ]
    },
    {
      "cell_type": "code",
      "source": [
        "pd.options.plotting.backend='plotly'"
      ],
      "metadata": {
        "id": "A66_um56zicw"
      },
      "execution_count": null,
      "outputs": []
    },
    {
      "cell_type": "code",
      "execution_count": null,
      "metadata": {
        "id": "1Z6JHbmBzGTD",
        "colab": {
          "base_uri": "https://localhost:8080/"
        },
        "outputId": "4067c699-4847-4d20-921b-05c9bb34ff3d"
      },
      "outputs": [
        {
          "output_type": "stream",
          "name": "stdout",
          "text": [
            "Looking in indexes: https://pypi.org/simple, https://us-python.pkg.dev/colab-wheels/public/simple/\n",
            "Collecting pyspark\n",
            "  Downloading pyspark-3.3.0.tar.gz (281.3 MB)\n",
            "\u001b[K     |████████████████████████████████| 281.3 MB 43 kB/s \n",
            "\u001b[?25hCollecting py4j==0.10.9.5\n",
            "  Downloading py4j-0.10.9.5-py2.py3-none-any.whl (199 kB)\n",
            "\u001b[K     |████████████████████████████████| 199 kB 64.6 MB/s \n",
            "\u001b[?25hBuilding wheels for collected packages: pyspark\n",
            "  Building wheel for pyspark (setup.py) ... \u001b[?25l\u001b[?25hdone\n",
            "  Created wheel for pyspark: filename=pyspark-3.3.0-py2.py3-none-any.whl size=281764026 sha256=1bea4a3f3ca4a54f3df37f617aa996133df83f8d50ad8c28c7fc1f1331d96958\n",
            "  Stored in directory: /root/.cache/pip/wheels/7a/8e/1b/f73a52650d2e5f337708d9f6a1750d451a7349a867f928b885\n",
            "Successfully built pyspark\n",
            "Installing collected packages: py4j, pyspark\n",
            "Successfully installed py4j-0.10.9.5 pyspark-3.3.0\n"
          ]
        }
      ],
      "source": [
        "!pip install pyspark"
      ]
    },
    {
      "cell_type": "code",
      "execution_count": null,
      "metadata": {
        "id": "R5Tkg7SPzGSJ",
        "colab": {
          "base_uri": "https://localhost:8080/"
        },
        "outputId": "7ec39e56-2944-45ec-e258-99ec43403de0"
      },
      "outputs": [
        {
          "output_type": "stream",
          "name": "stderr",
          "text": [
            "/usr/local/lib/python3.7/dist-packages/psycopg2/__init__.py:144: UserWarning: The psycopg2 wheel package will be renamed from release 2.8; in order to keep installing from binary please use \"pip install psycopg2-binary\" instead. For details see: <http://initd.org/psycopg/docs/install.html#binary-install-from-pypi>.\n",
            "  \"\"\")\n"
          ]
        }
      ],
      "source": [
        "import pandas as pd\n",
        "import psycopg2\n",
        "import requests\n",
        "import pymongo\n",
        "import gcsfs\n",
        "import os \n",
        "import csv"
      ]
    },
    {
      "cell_type": "code",
      "source": [
        "from matplotlib import pyplot as plt"
      ],
      "metadata": {
        "id": "74ss3CgTwg1n"
      },
      "execution_count": null,
      "outputs": []
    },
    {
      "cell_type": "code",
      "execution_count": null,
      "metadata": {
        "id": "c_dYNMXJ0aWN"
      },
      "outputs": [],
      "source": [
        "from google.cloud import storage"
      ]
    },
    {
      "cell_type": "code",
      "execution_count": null,
      "metadata": {
        "id": "cqTZs3pAzGRM"
      },
      "outputs": [],
      "source": [
        "from pyspark.sql import SparkSession\n",
        "from pyspark.sql.window import *\n",
        "from pyspark.sql.types import *\n",
        "from pyspark.sql.group import *\n",
        "from pyspark import SparkConf\n",
        "import pyspark.sql.functions as F \n",
        "import pyspark.sql.window as w"
      ]
    },
    {
      "cell_type": "markdown",
      "metadata": {
        "id": "nAlQ4awk0lkx"
      },
      "source": [
        "# **GCP**\n",
        "Conectando backet"
      ]
    },
    {
      "cell_type": "code",
      "execution_count": null,
      "metadata": {
        "id": "L7iBaxiL0u0j"
      },
      "outputs": [],
      "source": [
        "serviceAccount = r'/content/drive/MyDrive/arquivos/macro-mercury-349020-d9ed9a670580 (1).json'\n",
        "os.environ['GOOGLE_APPLICATION_CREDENTIALS'] = serviceAccount"
      ]
    },
    {
      "cell_type": "code",
      "execution_count": null,
      "metadata": {
        "id": "N1iGr64L1jbC"
      },
      "outputs": [],
      "source": [
        "client = storage.Client()\n",
        "bucket = client.get_bucket('soulcode-bc17-telecom')"
      ]
    },
    {
      "cell_type": "markdown",
      "metadata": {
        "id": "FhWiPJvPOFEa"
      },
      "source": [
        "#**Meu_Municio_Acesso.csv**\n",
        "\n",
        "```\n",
        "```\n",
        "\n"
      ]
    },
    {
      "cell_type": "markdown",
      "metadata": {
        "id": "D2g79IBe5QOT"
      },
      "source": [
        "##**Pandas**\n"
      ]
    },
    {
      "cell_type": "code",
      "execution_count": null,
      "metadata": {
        "id": "zniuOlwD5PdK"
      },
      "outputs": [],
      "source": [
        "df1_extrai = pd.read_csv('https://storage.googleapis.com/telecomunicacao2/Meu_Municipio_Acessos.csv',sep=';')"
      ]
    },
    {
      "cell_type": "markdown",
      "metadata": {
        "id": "bX2mxLZ0Y7F6"
      },
      "source": []
    },
    {
      "cell_type": "markdown",
      "metadata": {
        "id": "F1rCsA02ZLGq"
      },
      "source": [
        "**Copy** "
      ]
    },
    {
      "cell_type": "code",
      "execution_count": null,
      "metadata": {
        "id": "fEAhVDi3KeFX"
      },
      "outputs": [],
      "source": [
        "df1_pd = df1_extrai.copy()"
      ]
    },
    {
      "cell_type": "markdown",
      "metadata": {
        "id": "HWpSravAY7H0"
      },
      "source": [
        "### Inserindo no Backet \n",
        "Original"
      ]
    },
    {
      "cell_type": "code",
      "execution_count": null,
      "metadata": {
        "id": "KStwpU7JZXQi"
      },
      "outputs": [],
      "source": [
        "from pandas._libs import index\n",
        "df1_extrai.to_csv('gs://soulcode-bc17-telecom/Original/Meu_Municipio_Acessos.csv',index=False)\n"
      ]
    },
    {
      "cell_type": "code",
      "execution_count": null,
      "metadata": {
        "id": "hSoOIfsY5PbX"
      },
      "outputs": [],
      "source": [
        "df1_pd.head(2)"
      ]
    },
    {
      "cell_type": "markdown",
      "metadata": {
        "id": "3MMYfsr2OXs2"
      },
      "source": [
        "### Info"
      ]
    },
    {
      "cell_type": "code",
      "execution_count": null,
      "metadata": {
        "colab": {
          "base_uri": "https://localhost:8080/"
        },
        "id": "MiLQ8qc05OeB",
        "outputId": "7e7e0b98-a549-43f8-9029-68daa8ceba42"
      },
      "outputs": [
        {
          "name": "stdout",
          "output_type": "stream",
          "text": [
            "<class 'pandas.core.frame.DataFrame'>\n",
            "RangeIndex: 66837 entries, 0 to 66836\n",
            "Data columns (total 11 columns):\n",
            " #   Column           Non-Null Count  Dtype \n",
            "---  ------           --------------  ----- \n",
            " 0   Ano              66837 non-null  int64 \n",
            " 1   Mês              66837 non-null  int64 \n",
            " 2   Acessos          66837 non-null  int64 \n",
            " 3   Serviço          66837 non-null  object\n",
            " 4   Densidade        66837 non-null  object\n",
            " 5   Código IBGE      66837 non-null  int64 \n",
            " 6   Município        66837 non-null  object\n",
            " 7   UF               66837 non-null  object\n",
            " 8   Nome UF          66837 non-null  object\n",
            " 9   Região           66837 non-null  object\n",
            " 10  Código Nacional  66837 non-null  int64 \n",
            "dtypes: int64(5), object(6)\n",
            "memory usage: 5.6+ MB\n"
          ]
        }
      ],
      "source": [
        "df1_pd.info()"
      ]
    },
    {
      "cell_type": "markdown",
      "metadata": {
        "id": "5_dvQbK6Og6e"
      },
      "source": [
        "### Unique"
      ]
    },
    {
      "cell_type": "code",
      "execution_count": null,
      "metadata": {
        "colab": {
          "base_uri": "https://localhost:8080/"
        },
        "id": "4ihUQJC-De05",
        "outputId": "2201798f-1889-4651-8fbd-74eec93e7e8e"
      },
      "outputs": [
        {
          "data": {
            "text/plain": [
              "array(['Paulo Frontin - PR', 'Araruama - RJ', 'Pinhão - PR', ...,\n",
              "       'Ribeiro Gonçalves - PI', 'Itacurubi - RS', 'Carrapateira - PB'],\n",
              "      dtype=object)"
            ]
          },
          "execution_count": 44,
          "metadata": {},
          "output_type": "execute_result"
        }
      ],
      "source": [
        "df1_pd['Município'].unique()"
      ]
    },
    {
      "cell_type": "code",
      "execution_count": null,
      "metadata": {
        "id": "b9TFKDJAQrpN"
      },
      "outputs": [],
      "source": [
        "df1=df1_pd['Município'].str[:-5]"
      ]
    },
    {
      "cell_type": "code",
      "execution_count": null,
      "metadata": {
        "id": "qhGZC4qDGUSp"
      },
      "outputs": [],
      "source": [
        "df1_pd['Município']=df1_pd['Município'].str[:-5]"
      ]
    },
    {
      "cell_type": "code",
      "execution_count": null,
      "metadata": {
        "colab": {
          "base_uri": "https://localhost:8080/"
        },
        "id": "iUhEnKbAG3On",
        "outputId": "f4c35ecf-c88d-44b2-a5b8-bd4e8bc48cb8"
      },
      "outputs": [
        {
          "data": {
            "text/html": [
              "\n",
              "  <div id=\"df-c628c8a7-9a35-4fbf-88ae-e2a2db1632c7\">\n",
              "    <div class=\"colab-df-container\">\n",
              "      <div>\n",
              "<style scoped>\n",
              "    .dataframe tbody tr th:only-of-type {\n",
              "        vertical-align: middle;\n",
              "    }\n",
              "\n",
              "    .dataframe tbody tr th {\n",
              "        vertical-align: top;\n",
              "    }\n",
              "\n",
              "    .dataframe thead th {\n",
              "        text-align: right;\n",
              "    }\n",
              "</style>\n",
              "<table border=\"1\" class=\"dataframe\">\n",
              "  <thead>\n",
              "    <tr style=\"text-align: right;\">\n",
              "      <th></th>\n",
              "      <th>Ano</th>\n",
              "      <th>Mês</th>\n",
              "      <th>Acessos</th>\n",
              "      <th>Serviço</th>\n",
              "      <th>Densidade</th>\n",
              "      <th>Código IBGE</th>\n",
              "      <th>Município</th>\n",
              "      <th>UF</th>\n",
              "      <th>Nome UF</th>\n",
              "      <th>Região</th>\n",
              "      <th>Código Nacional</th>\n",
              "    </tr>\n",
              "  </thead>\n",
              "  <tbody>\n",
              "    <tr>\n",
              "      <th>0</th>\n",
              "      <td>2021</td>\n",
              "      <td>6</td>\n",
              "      <td>5597</td>\n",
              "      <td>Telefonia Móvel</td>\n",
              "      <td>73,114931636659</td>\n",
              "      <td>4118709</td>\n",
              "      <td>Paulo Frontin</td>\n",
              "      <td>PR</td>\n",
              "      <td>Paraná</td>\n",
              "      <td>Sul</td>\n",
              "      <td>42</td>\n",
              "    </tr>\n",
              "    <tr>\n",
              "      <th>1</th>\n",
              "      <td>2021</td>\n",
              "      <td>6</td>\n",
              "      <td>713</td>\n",
              "      <td>Banda Larga Fixa</td>\n",
              "      <td>27,993718099725</td>\n",
              "      <td>4118709</td>\n",
              "      <td>Paulo Frontin</td>\n",
              "      <td>PR</td>\n",
              "      <td>Paraná</td>\n",
              "      <td>Sul</td>\n",
              "      <td>42</td>\n",
              "    </tr>\n",
              "    <tr>\n",
              "      <th>2</th>\n",
              "      <td>2021</td>\n",
              "      <td>6</td>\n",
              "      <td>132</td>\n",
              "      <td>TV por Assinatura</td>\n",
              "      <td>5,1825677267373</td>\n",
              "      <td>4118709</td>\n",
              "      <td>Paulo Frontin</td>\n",
              "      <td>PR</td>\n",
              "      <td>Paraná</td>\n",
              "      <td>Sul</td>\n",
              "      <td>42</td>\n",
              "    </tr>\n",
              "    <tr>\n",
              "      <th>3</th>\n",
              "      <td>2021</td>\n",
              "      <td>6</td>\n",
              "      <td>327</td>\n",
              "      <td>Telefonia Fixa</td>\n",
              "      <td>12,83863368669</td>\n",
              "      <td>4118709</td>\n",
              "      <td>Paulo Frontin</td>\n",
              "      <td>PR</td>\n",
              "      <td>Paraná</td>\n",
              "      <td>Sul</td>\n",
              "      <td>42</td>\n",
              "    </tr>\n",
              "    <tr>\n",
              "      <th>4</th>\n",
              "      <td>2021</td>\n",
              "      <td>6</td>\n",
              "      <td>162149</td>\n",
              "      <td>Telefonia Móvel</td>\n",
              "      <td>113,77138048893</td>\n",
              "      <td>3300209</td>\n",
              "      <td>Araruama</td>\n",
              "      <td>RJ</td>\n",
              "      <td>Rio de Janeiro</td>\n",
              "      <td>Sudeste</td>\n",
              "      <td>22</td>\n",
              "    </tr>\n",
              "  </tbody>\n",
              "</table>\n",
              "</div>\n",
              "      <button class=\"colab-df-convert\" onclick=\"convertToInteractive('df-c628c8a7-9a35-4fbf-88ae-e2a2db1632c7')\"\n",
              "              title=\"Convert this dataframe to an interactive table.\"\n",
              "              style=\"display:none;\">\n",
              "        \n",
              "  <svg xmlns=\"http://www.w3.org/2000/svg\" height=\"24px\"viewBox=\"0 0 24 24\"\n",
              "       width=\"24px\">\n",
              "    <path d=\"M0 0h24v24H0V0z\" fill=\"none\"/>\n",
              "    <path d=\"M18.56 5.44l.94 2.06.94-2.06 2.06-.94-2.06-.94-.94-2.06-.94 2.06-2.06.94zm-11 1L8.5 8.5l.94-2.06 2.06-.94-2.06-.94L8.5 2.5l-.94 2.06-2.06.94zm10 10l.94 2.06.94-2.06 2.06-.94-2.06-.94-.94-2.06-.94 2.06-2.06.94z\"/><path d=\"M17.41 7.96l-1.37-1.37c-.4-.4-.92-.59-1.43-.59-.52 0-1.04.2-1.43.59L10.3 9.45l-7.72 7.72c-.78.78-.78 2.05 0 2.83L4 21.41c.39.39.9.59 1.41.59.51 0 1.02-.2 1.41-.59l7.78-7.78 2.81-2.81c.8-.78.8-2.07 0-2.86zM5.41 20L4 18.59l7.72-7.72 1.47 1.35L5.41 20z\"/>\n",
              "  </svg>\n",
              "      </button>\n",
              "      \n",
              "  <style>\n",
              "    .colab-df-container {\n",
              "      display:flex;\n",
              "      flex-wrap:wrap;\n",
              "      gap: 12px;\n",
              "    }\n",
              "\n",
              "    .colab-df-convert {\n",
              "      background-color: #E8F0FE;\n",
              "      border: none;\n",
              "      border-radius: 50%;\n",
              "      cursor: pointer;\n",
              "      display: none;\n",
              "      fill: #1967D2;\n",
              "      height: 32px;\n",
              "      padding: 0 0 0 0;\n",
              "      width: 32px;\n",
              "    }\n",
              "\n",
              "    .colab-df-convert:hover {\n",
              "      background-color: #E2EBFA;\n",
              "      box-shadow: 0px 1px 2px rgba(60, 64, 67, 0.3), 0px 1px 3px 1px rgba(60, 64, 67, 0.15);\n",
              "      fill: #174EA6;\n",
              "    }\n",
              "\n",
              "    [theme=dark] .colab-df-convert {\n",
              "      background-color: #3B4455;\n",
              "      fill: #D2E3FC;\n",
              "    }\n",
              "\n",
              "    [theme=dark] .colab-df-convert:hover {\n",
              "      background-color: #434B5C;\n",
              "      box-shadow: 0px 1px 3px 1px rgba(0, 0, 0, 0.15);\n",
              "      filter: drop-shadow(0px 1px 2px rgba(0, 0, 0, 0.3));\n",
              "      fill: #FFFFFF;\n",
              "    }\n",
              "  </style>\n",
              "\n",
              "      <script>\n",
              "        const buttonEl =\n",
              "          document.querySelector('#df-c628c8a7-9a35-4fbf-88ae-e2a2db1632c7 button.colab-df-convert');\n",
              "        buttonEl.style.display =\n",
              "          google.colab.kernel.accessAllowed ? 'block' : 'none';\n",
              "\n",
              "        async function convertToInteractive(key) {\n",
              "          const element = document.querySelector('#df-c628c8a7-9a35-4fbf-88ae-e2a2db1632c7');\n",
              "          const dataTable =\n",
              "            await google.colab.kernel.invokeFunction('convertToInteractive',\n",
              "                                                     [key], {});\n",
              "          if (!dataTable) return;\n",
              "\n",
              "          const docLinkHtml = 'Like what you see? Visit the ' +\n",
              "            '<a target=\"_blank\" href=https://colab.research.google.com/notebooks/data_table.ipynb>data table notebook</a>'\n",
              "            + ' to learn more about interactive tables.';\n",
              "          element.innerHTML = '';\n",
              "          dataTable['output_type'] = 'display_data';\n",
              "          await google.colab.output.renderOutput(dataTable, element);\n",
              "          const docLink = document.createElement('div');\n",
              "          docLink.innerHTML = docLinkHtml;\n",
              "          element.appendChild(docLink);\n",
              "        }\n",
              "      </script>\n",
              "    </div>\n",
              "  </div>\n",
              "  "
            ],
            "text/plain": [
              "    Ano  Mês  Acessos            Serviço        Densidade  Código IBGE  \\\n",
              "0  2021    6     5597    Telefonia Móvel  73,114931636659      4118709   \n",
              "1  2021    6      713   Banda Larga Fixa  27,993718099725      4118709   \n",
              "2  2021    6      132  TV por Assinatura  5,1825677267373      4118709   \n",
              "3  2021    6      327     Telefonia Fixa   12,83863368669      4118709   \n",
              "4  2021    6   162149    Telefonia Móvel  113,77138048893      3300209   \n",
              "\n",
              "       Município  UF         Nome UF   Região  Código Nacional  \n",
              "0  Paulo Frontin  PR          Paraná      Sul               42  \n",
              "1  Paulo Frontin  PR          Paraná      Sul               42  \n",
              "2  Paulo Frontin  PR          Paraná      Sul               42  \n",
              "3  Paulo Frontin  PR          Paraná      Sul               42  \n",
              "4       Araruama  RJ  Rio de Janeiro  Sudeste               22  "
            ]
          },
          "execution_count": 104,
          "metadata": {},
          "output_type": "execute_result"
        }
      ],
      "source": [
        "df1_pd.head()"
      ]
    },
    {
      "cell_type": "markdown",
      "metadata": {
        "id": "dzpa5wFsGS0D"
      },
      "source": []
    },
    {
      "cell_type": "markdown",
      "metadata": {
        "id": "oeazwmK6OMXO"
      },
      "source": [
        "##**Spark**"
      ]
    },
    {
      "cell_type": "markdown",
      "metadata": {
        "id": "sfDi0LKWEIrf"
      },
      "source": [
        "###SessionSpark\n"
      ]
    },
    {
      "cell_type": "code",
      "execution_count": null,
      "metadata": {
        "id": "fuhFVSTEDeyl"
      },
      "outputs": [],
      "source": [
        "spark = SparkSession.builder.appName(\"pandas em spark\").getOrCreate()"
      ]
    },
    {
      "cell_type": "code",
      "execution_count": null,
      "metadata": {
        "colab": {
          "base_uri": "https://localhost:8080/"
        },
        "id": "YKmeI4cbk9Ec",
        "outputId": "0af15f2e-ae3c-4525-a641-b75b51451ee6"
      },
      "outputs": [
        {
          "output_type": "execute_result",
          "data": {
            "text/plain": [
              "<pyspark.sql.session.SparkSession at 0x7f0aace24210>"
            ],
            "text/html": [
              "\n",
              "            <div>\n",
              "                <p><b>SparkSession - in-memory</b></p>\n",
              "                \n",
              "        <div>\n",
              "            <p><b>SparkContext</b></p>\n",
              "\n",
              "            <p><a href=\"http://fe8bd0a7a707:4050\">Spark UI</a></p>\n",
              "\n",
              "            <dl>\n",
              "              <dt>Version</dt>\n",
              "                <dd><code>v3.2.1</code></dd>\n",
              "              <dt>Master</dt>\n",
              "                <dd><code>local</code></dd>\n",
              "              <dt>AppName</dt>\n",
              "                <dd><code>spark-gcs</code></dd>\n",
              "            </dl>\n",
              "        </div>\n",
              "        \n",
              "            </div>\n",
              "        "
            ]
          },
          "metadata": {},
          "execution_count": 62
        }
      ],
      "source": [
        "spark"
      ]
    },
    {
      "cell_type": "code",
      "execution_count": null,
      "metadata": {
        "id": "QwHZpPGgDexK"
      },
      "outputs": [],
      "source": [
        "df1_spark = spark.createDataFrame(df1_pd)"
      ]
    },
    {
      "cell_type": "code",
      "execution_count": null,
      "metadata": {
        "colab": {
          "base_uri": "https://localhost:8080/"
        },
        "id": "arQeiATpDevY",
        "outputId": "105e04b7-b98f-4804-aa4a-fbc1e23eb2c0"
      },
      "outputs": [
        {
          "output_type": "stream",
          "name": "stdout",
          "text": [
            "+----+---+-------+-----------------+----------------+-----------+--------------------+---+--------------+--------+---------------+\n",
            "| Ano|Mês|Acessos|          Serviço|       Densidade|Código IBGE|           Município| UF|       Nome UF|  Região|Código Nacional|\n",
            "+----+---+-------+-----------------+----------------+-----------+--------------------+---+--------------+--------+---------------+\n",
            "|2021|  6|   5597|  Telefonia Móvel| 73,114931636659|    4118709|  Paulo Frontin - PR| PR|        Paraná|     Sul|             42|\n",
            "|2021|  6|    713| Banda Larga Fixa| 27,993718099725|    4118709|  Paulo Frontin - PR| PR|        Paraná|     Sul|             42|\n",
            "|2021|  6|    132|TV por Assinatura| 5,1825677267373|    4118709|  Paulo Frontin - PR| PR|        Paraná|     Sul|             42|\n",
            "|2021|  6|    327|   Telefonia Fixa|  12,83863368669|    4118709|  Paulo Frontin - PR| PR|        Paraná|     Sul|             42|\n",
            "|2021|  6| 162149|  Telefonia Móvel| 113,77138048893|    3300209|       Araruama - RJ| RJ|Rio de Janeiro| Sudeste|             22|\n",
            "|2021|  6|  32457| Banda Larga Fixa| 67,673734909614|    3300209|       Araruama - RJ| RJ|Rio de Janeiro| Sudeste|             22|\n",
            "|2021|  6|  11287|TV por Assinatura| 23,533704468214|    3300209|       Araruama - RJ| RJ|Rio de Janeiro| Sudeste|             22|\n",
            "|2021|  6|  10160|   Telefonia Fixa| 21,183878568003|    3300209|       Araruama - RJ| RJ|Rio de Janeiro| Sudeste|             22|\n",
            "|2021|  6|  23556|  Telefonia Móvel| 70,773058140606|    4119301|         Pinhão - PR| PR|        Paraná|     Sul|             42|\n",
            "|2021|  6|   7269| Banda Larga Fixa| 64,745702324753|    4119301|         Pinhão - PR| PR|        Paraná|     Sul|             42|\n",
            "|2021|  6|    294|TV por Assinatura| 2,6186870936136|    4119301|         Pinhão - PR| PR|        Paraná|     Sul|             42|\n",
            "|2021|  6|    804|   Telefonia Fixa|  7,161307562127|    4119301|         Pinhão - PR| PR|        Paraná|     Sul|             42|\n",
            "|2021|  6|  20349|  Telefonia Móvel| 87,231329690346|    4117305|     Ortigueira - PR| PR|        Paraná|     Sul|             42|\n",
            "|2021|  6|   2120| Banda Larga Fixa| 27,997886951928|    4117305|     Ortigueira - PR| PR|        Paraná|     Sul|             42|\n",
            "|2021|  6|   1136|TV por Assinatura|  15,00264131009|    4117305|     Ortigueira - PR| PR|        Paraná|     Sul|             42|\n",
            "|2021|  6|    698|   Telefonia Fixa| 9,2181722134179|    4117305|     Ortigueira - PR| PR|        Paraná|     Sul|             42|\n",
            "|2021|  6|   7617|  Telefonia Móvel| 63,604984004041|    2901809|Antônio Gonçalves...| BA|         Bahia|Nordeste|             74|\n",
            "|2021|  6|    191| Banda Larga Fixa| 4,8244506188431|    2901809|Antônio Gonçalves...| BA|         Bahia|Nordeste|             74|\n",
            "|2021|  6|     31|TV por Assinatura|0,78302601667088|    2901809|Antônio Gonçalves...| BA|         Bahia|Nordeste|             74|\n",
            "|2021|  6|     75|   Telefonia Fixa| 1,8944177822682|    2901809|Antônio Gonçalves...| BA|         Bahia|Nordeste|             74|\n",
            "+----+---+-------+-----------------+----------------+-----------+--------------------+---+--------------+--------+---------------+\n",
            "only showing top 20 rows\n",
            "\n"
          ]
        }
      ],
      "source": [
        "df1_spark.show()"
      ]
    },
    {
      "cell_type": "markdown",
      "metadata": {
        "id": "WITqF2Y1tiY9"
      },
      "source": [
        "### Distinct"
      ]
    },
    {
      "cell_type": "code",
      "execution_count": null,
      "metadata": {
        "colab": {
          "base_uri": "https://localhost:8080/"
        },
        "id": "sNaaHp2XsCtb",
        "outputId": "7a9055fd-1472-4d82-dd01-e4f88fa7e908"
      },
      "outputs": [
        {
          "data": {
            "text/plain": [
              "67"
            ]
          },
          "execution_count": 82,
          "metadata": {},
          "output_type": "execute_result"
        }
      ],
      "source": [
        "df1_spark.select('Código Nacional').distinct().count()"
      ]
    },
    {
      "cell_type": "code",
      "execution_count": null,
      "metadata": {
        "colab": {
          "base_uri": "https://localhost:8080/"
        },
        "id": "8YREOhZQsNPL",
        "outputId": "d18e0f64-2944-45bc-883c-18fc0706c195"
      },
      "outputs": [
        {
          "name": "stdout",
          "output_type": "stream",
          "text": [
            "+---------------+\n",
            "|Código Nacional|\n",
            "+---------------+\n",
            "|             65|\n",
            "|             19|\n",
            "|             54|\n",
            "|             22|\n",
            "|             77|\n",
            "|             34|\n",
            "|             94|\n",
            "|             43|\n",
            "|             32|\n",
            "|             84|\n",
            "|             31|\n",
            "|             98|\n",
            "|             95|\n",
            "|             71|\n",
            "|             68|\n",
            "|             87|\n",
            "|             63|\n",
            "|             27|\n",
            "|             51|\n",
            "|             17|\n",
            "+---------------+\n",
            "only showing top 20 rows\n",
            "\n"
          ]
        }
      ],
      "source": [
        "df1_spark.select('Código Nacional').distinct().show()"
      ]
    },
    {
      "cell_type": "code",
      "execution_count": null,
      "metadata": {
        "colab": {
          "base_uri": "https://localhost:8080/"
        },
        "id": "_tAwRp9BO00g",
        "outputId": "ff15e82a-c230-43fc-c467-652f9d76cf8a"
      },
      "outputs": [
        {
          "name": "stdout",
          "output_type": "stream",
          "text": [
            "+--------------------+\n",
            "|           Município|\n",
            "+--------------------+\n",
            "|            Araruama|\n",
            "|        Borrazópolis|\n",
            "|              Utinga|\n",
            "|              Maruim|\n",
            "|             Ibiporã|\n",
            "|          Livramento|\n",
            "|    Senador Guiomard|\n",
            "|           Fronteira|\n",
            "|              Pongaí|\n",
            "| Leopoldo de Bulhões|\n",
            "|               Apodi|\n",
            "|      Benedito Leite|\n",
            "|   Tiradentes do Sul|\n",
            "|        Assis Brasil|\n",
            "|  Ribas do Rio Pardo|\n",
            "|Santo Antônio dos...|\n",
            "|Boa Esperança do Sul|\n",
            "|           Carrancas|\n",
            "|         Piranguinho|\n",
            "|            Rio Novo|\n",
            "+--------------------+\n",
            "only showing top 20 rows\n",
            "\n"
          ]
        }
      ],
      "source": [
        "df1_spark.select('Município').distinct().show()"
      ]
    },
    {
      "cell_type": "markdown",
      "metadata": {
        "id": "F-L7qb5XmP_U"
      },
      "source": [
        "### Like"
      ]
    },
    {
      "cell_type": "code",
      "execution_count": null,
      "metadata": {
        "colab": {
          "base_uri": "https://localhost:8080/"
        },
        "id": "CCNhExLzO0ev",
        "outputId": "bc9a61c5-547c-4bf6-a9dd-b7f7fca5288b"
      },
      "outputs": [
        {
          "name": "stdout",
          "output_type": "stream",
          "text": [
            "+----+---+-------+-----------------+---------------+-----------+--------------------+---+--------+--------+\n",
            "| Ano|Mês|Acessos|          Serviço|      Densidade|Código IBGE|           Município| UF| Nome UF|  Região|\n",
            "+----+---+-------+-----------------+---------------+-----------+--------------------+---+--------+--------+\n",
            "|2021|  6|  11480|  Telefonia Móvel|77,558187577469|    2110302|Santo Antônio dos...| MA|Maranhão|Nordeste|\n",
            "|2021|  6|     54| Banda Larga Fixa|1,3015184381779|    2110302|Santo Antônio dos...| MA|Maranhão|Nordeste|\n",
            "|2021|  6|    428|TV por Assinatura|10,315738732225|    2110302|Santo Antônio dos...| MA|Maranhão|Nordeste|\n",
            "|2021|  6|     46|   Telefonia Fixa|1,1087008917812|    2110302|Santo Antônio dos...| MA|Maranhão|Nordeste|\n",
            "|2021|  6|   1914|  Telefonia Móvel|87,165281625115|    2209450|Santo Antônio dos...| PI|   Piauí|Nordeste|\n",
            "|2021|  6|     93| Banda Larga Fixa|14,176829268293|    2209450|Santo Antônio dos...| PI|   Piauí|Nordeste|\n",
            "|2021|  6|     82|TV por Assinatura|           12,5|    2209450|Santo Antônio dos...| PI|   Piauí|Nordeste|\n",
            "|2021|  6|      9|   Telefonia Fixa|1,3719512195122|    2209450|Santo Antônio dos...| PI|   Piauí|Nordeste|\n",
            "|2020| 12|    897|  Telefonia Móvel|41,412742382271|    2209450|Santo Antônio dos...| PI|   Piauí|Nordeste|\n",
            "|2020| 12|     50| Banda Larga Fixa|7,6219512195122|    2209450|Santo Antônio dos...| PI|   Piauí|Nordeste|\n",
            "|2020| 12|     87|TV por Assinatura|13,262195121951|    2209450|Santo Antônio dos...| PI|   Piauí|Nordeste|\n",
            "|2020| 12|     16|   Telefonia Fixa|2,4390243902439|    2209450|Santo Antônio dos...| PI|   Piauí|Nordeste|\n",
            "|2020| 12|   7035|  Telefonia Móvel|48,443740531607|    2110302|Santo Antônio dos...| MA|Maranhão|Nordeste|\n",
            "|2020| 12|     60| Banda Larga Fixa|1,4461315979754|    2110302|Santo Antônio dos...| MA|Maranhão|Nordeste|\n",
            "|2020| 12|    248|TV por Assinatura|5,9773439382984|    2110302|Santo Antônio dos...| MA|Maranhão|Nordeste|\n",
            "|2020| 12|    105|   Telefonia Fixa| 2,530730296457|    2110302|Santo Antônio dos...| MA|Maranhão|Nordeste|\n",
            "|2019| 12|   6641|  Telefonia Móvel| 45,71172907489|    2110302|Santo Antônio dos...| MA|Maranhão|Nordeste|\n",
            "|2019| 12|     61| Banda Larga Fixa|1,4698795180723|    2110302|Santo Antônio dos...| MA|Maranhão|Nordeste|\n",
            "|2019| 12|    214|TV por Assinatura|5,1566265060241|    2110302|Santo Antônio dos...| MA|Maranhão|Nordeste|\n",
            "|2019| 12|    160|   Telefonia Fixa| 3,855421686747|    2110302|Santo Antônio dos...| MA|Maranhão|Nordeste|\n",
            "+----+---+-------+-----------------+---------------+-----------+--------------------+---+--------+--------+\n",
            "only showing top 20 rows\n",
            "\n"
          ]
        }
      ],
      "source": [
        "df1_spark.filter(F.col('Município').like(\"%Santo Antônio dos%\")).show()"
      ]
    },
    {
      "cell_type": "code",
      "execution_count": null,
      "metadata": {
        "colab": {
          "base_uri": "https://localhost:8080/"
        },
        "id": "xpF3F24fm-5D",
        "outputId": "b7d9b8ca-982b-47c1-8282-2c32fccc0165"
      },
      "outputs": [
        {
          "name": "stdout",
          "output_type": "stream",
          "text": [
            "+----+---+-------+-----------------+---------------+-----------+--------------------+---+------------+-------+\n",
            "| Ano|Mês|Acessos|          Serviço|      Densidade|Código IBGE|           Município| UF|     Nome UF| Região|\n",
            "+----+---+-------+-----------------+---------------+-----------+--------------------+---+------------+-------+\n",
            "|2021|  6|   3390|  Telefonia Móvel|73,841284196247|    3120102|Couto de Magalhãe...| MG|Minas Gerais|Sudeste|\n",
            "|2021|  6|    372| Banda Larga Fixa|25,237449118046|    3120102|Couto de Magalhãe...| MG|Minas Gerais|Sudeste|\n",
            "|2021|  6|    177|TV por Assinatura|12,008141112619|    3120102|Couto de Magalhãe...| MG|Minas Gerais|Sudeste|\n",
            "|2021|  6|     91|   Telefonia Fixa|6,1736770691995|    3120102|Couto de Magalhãe...| MG|Minas Gerais|Sudeste|\n",
            "|2020| 12|   2598|  Telefonia Móvel|58,738412841962|    3120102|Couto de Magalhãe...| MG|Minas Gerais|Sudeste|\n",
            "|2020| 12|     69| Banda Larga Fixa|4,6811397557666|    3120102|Couto de Magalhãe...| MG|Minas Gerais|Sudeste|\n",
            "|2020| 12|    168|TV por Assinatura|11,397557666214|    3120102|Couto de Magalhãe...| MG|Minas Gerais|Sudeste|\n",
            "|2020| 12|    269|   Telefonia Fixa|18,249660786974|    3120102|Couto de Magalhãe...| MG|Minas Gerais|Sudeste|\n",
            "|2019| 12|   2572|  Telefonia Móvel|58,321995464853|    3120102|Couto de Magalhãe...| MG|Minas Gerais|Sudeste|\n",
            "|2019| 12|     66| Banda Larga Fixa|4,4897959183673|    3120102|Couto de Magalhãe...| MG|Minas Gerais|Sudeste|\n",
            "|2019| 12|    123|TV por Assinatura|8,3673469387755|    3120102|Couto de Magalhãe...| MG|Minas Gerais|Sudeste|\n",
            "|2019| 12|    328|   Telefonia Fixa|22,312925170068|    3120102|Couto de Magalhãe...| MG|Minas Gerais|Sudeste|\n",
            "+----+---+-------+-----------------+---------------+-----------+--------------------+---+------------+-------+\n",
            "\n"
          ]
        }
      ],
      "source": [
        "df1_spark.filter(F.col('Município').like(\"%Couto de Magalhãe%\")).show()"
      ]
    },
    {
      "cell_type": "code",
      "execution_count": null,
      "metadata": {
        "colab": {
          "base_uri": "https://localhost:8080/"
        },
        "id": "B95cJ-u9noPe",
        "outputId": "3883dd8f-5f7f-41d7-9666-8c58e881e78e"
      },
      "outputs": [
        {
          "data": {
            "text/plain": [
              "10235"
            ]
          },
          "execution_count": 82,
          "metadata": {},
          "output_type": "execute_result"
        }
      ],
      "source": [
        "df1_spark.filter(F.col('Município').like(\"%MG%\")).count()"
      ]
    },
    {
      "cell_type": "markdown",
      "metadata": {
        "id": "QDHSxa1_RpXe"
      },
      "source": [
        "### Drop coluna\n",
        "* Código Nacional\n",
        "* Nome UF"
      ]
    },
    {
      "cell_type": "code",
      "execution_count": null,
      "metadata": {
        "id": "RBTY6tR4R5FS"
      },
      "outputs": [],
      "source": [
        "df1_spark=df1_spark.drop(F.col('Código Nacional')).drop(F.col('Nome UF'))"
      ]
    },
    {
      "cell_type": "code",
      "execution_count": null,
      "metadata": {
        "colab": {
          "base_uri": "https://localhost:8080/"
        },
        "id": "d8qSTUtCSpSK",
        "outputId": "ee143799-3da1-41f7-da33-27c698a4731a"
      },
      "outputs": [
        {
          "output_type": "stream",
          "name": "stdout",
          "text": [
            "+----+---+-------+---------------+---------------+-----------+------------------+---+------+\n",
            "| Ano|Mês|Acessos|        Serviço|      Densidade|Código IBGE|         Município| UF|Região|\n",
            "+----+---+-------+---------------+---------------+-----------+------------------+---+------+\n",
            "|2021|  6|   5597|Telefonia Móvel|73,114931636659|    4118709|Paulo Frontin - PR| PR|   Sul|\n",
            "+----+---+-------+---------------+---------------+-----------+------------------+---+------+\n",
            "only showing top 1 row\n",
            "\n"
          ]
        }
      ],
      "source": [
        "df1_spark.show(1)"
      ]
    },
    {
      "cell_type": "markdown",
      "metadata": {
        "id": "Jg8oUWvyRpVv"
      },
      "source": []
    },
    {
      "cell_type": "markdown",
      "metadata": {
        "id": "Id7NYiUwRdtX"
      },
      "source": [
        "###witcolumnRenamed\n",
        "* Mês == Mes\n",
        "* Serviço == Servico\n",
        "* Código IBGE == Cod_IBGE\n",
        "* Município == Municipio\n",
        "* Região == Regiao"
      ]
    },
    {
      "cell_type": "code",
      "execution_count": null,
      "metadata": {
        "id": "tuHTzuR_noNz"
      },
      "outputs": [],
      "source": [
        "df1_spark=(df1_spark.withColumnRenamed(\"Mês\",\"Mes\")\n",
        "         .withColumnRenamed(\"Serviço\",\"Servico\")\n",
        "         .withColumnRenamed(\"Código IBGE\",\"Cod_IBGE\")\n",
        "         .withColumnRenamed(\"Município\",\"Municipio\")\n",
        "         .withColumnRenamed(\"Região\",\"Regiao\")\n",
        ")"
      ]
    },
    {
      "cell_type": "code",
      "execution_count": null,
      "metadata": {
        "colab": {
          "base_uri": "https://localhost:8080/"
        },
        "id": "KmG9ieZUV-mT",
        "outputId": "d92229a9-7ba0-4542-c66b-b727788feb28"
      },
      "outputs": [
        {
          "name": "stdout",
          "output_type": "stream",
          "text": [
            "+----+---+-------+-----------------+----------------+--------+--------------------+---+--------------+--------+\n",
            "| Ano|Mes|Acessos|          Servico|       Densidade|Cod_IBGE|           Municipio| UF|       Nome UF|  Regiao|\n",
            "+----+---+-------+-----------------+----------------+--------+--------------------+---+--------------+--------+\n",
            "|2021|  6|   5597|  Telefonia Móvel| 73,114931636659| 4118709|  Paulo Frontin - PR| PR|        Paraná|     Sul|\n",
            "|2021|  6|    713| Banda Larga Fixa| 27,993718099725| 4118709|  Paulo Frontin - PR| PR|        Paraná|     Sul|\n",
            "|2021|  6|    132|TV por Assinatura| 5,1825677267373| 4118709|  Paulo Frontin - PR| PR|        Paraná|     Sul|\n",
            "|2021|  6|    327|   Telefonia Fixa|  12,83863368669| 4118709|  Paulo Frontin - PR| PR|        Paraná|     Sul|\n",
            "|2021|  6| 162149|  Telefonia Móvel| 113,77138048893| 3300209|       Araruama - RJ| RJ|Rio de Janeiro| Sudeste|\n",
            "|2021|  6|  32457| Banda Larga Fixa| 67,673734909614| 3300209|       Araruama - RJ| RJ|Rio de Janeiro| Sudeste|\n",
            "|2021|  6|  11287|TV por Assinatura| 23,533704468214| 3300209|       Araruama - RJ| RJ|Rio de Janeiro| Sudeste|\n",
            "|2021|  6|  10160|   Telefonia Fixa| 21,183878568003| 3300209|       Araruama - RJ| RJ|Rio de Janeiro| Sudeste|\n",
            "|2021|  6|  23556|  Telefonia Móvel| 70,773058140606| 4119301|         Pinhão - PR| PR|        Paraná|     Sul|\n",
            "|2021|  6|   7269| Banda Larga Fixa| 64,745702324753| 4119301|         Pinhão - PR| PR|        Paraná|     Sul|\n",
            "|2021|  6|    294|TV por Assinatura| 2,6186870936136| 4119301|         Pinhão - PR| PR|        Paraná|     Sul|\n",
            "|2021|  6|    804|   Telefonia Fixa|  7,161307562127| 4119301|         Pinhão - PR| PR|        Paraná|     Sul|\n",
            "|2021|  6|  20349|  Telefonia Móvel| 87,231329690346| 4117305|     Ortigueira - PR| PR|        Paraná|     Sul|\n",
            "|2021|  6|   2120| Banda Larga Fixa| 27,997886951928| 4117305|     Ortigueira - PR| PR|        Paraná|     Sul|\n",
            "|2021|  6|   1136|TV por Assinatura|  15,00264131009| 4117305|     Ortigueira - PR| PR|        Paraná|     Sul|\n",
            "|2021|  6|    698|   Telefonia Fixa| 9,2181722134179| 4117305|     Ortigueira - PR| PR|        Paraná|     Sul|\n",
            "|2021|  6|   7617|  Telefonia Móvel| 63,604984004041| 2901809|Antônio Gonçalves...| BA|         Bahia|Nordeste|\n",
            "|2021|  6|    191| Banda Larga Fixa| 4,8244506188431| 2901809|Antônio Gonçalves...| BA|         Bahia|Nordeste|\n",
            "|2021|  6|     31|TV por Assinatura|0,78302601667088| 2901809|Antônio Gonçalves...| BA|         Bahia|Nordeste|\n",
            "|2021|  6|     75|   Telefonia Fixa| 1,8944177822682| 2901809|Antônio Gonçalves...| BA|         Bahia|Nordeste|\n",
            "+----+---+-------+-----------------+----------------+--------+--------------------+---+--------------+--------+\n",
            "only showing top 20 rows\n",
            "\n"
          ]
        }
      ],
      "source": [
        "df1_spark.show()"
      ]
    },
    {
      "cell_type": "markdown",
      "metadata": {
        "id": "ZDbRTnLwEItO"
      },
      "source": [
        "###Inserindo bucket \n",
        "Tratados "
      ]
    },
    {
      "cell_type": "code",
      "execution_count": null,
      "metadata": {
        "id": "tWnz21C4We58"
      },
      "outputs": [],
      "source": [
        "df1_spark.toPandas().to_parquet('gs://soulcode-bc17-telecom/Tratados/Meu_Municipio_AcessosTratad.gzip',compression='gzip')"
      ]
    },
    {
      "cell_type": "markdown",
      "metadata": {
        "id": "w_eOiH6PzOrY"
      },
      "source": [
        "# **Velocidade_Contratada_SCM.csv**\n"
      ]
    },
    {
      "cell_type": "code",
      "execution_count": null,
      "metadata": {
        "id": "jIOwGc4teAJz"
      },
      "outputs": [],
      "source": [
        "df2_extrai=pd.read_csv('gs://telecomunicacao2/Velocidade_Contratada_SCM.csv',sep=\";\")"
      ]
    },
    {
      "cell_type": "markdown",
      "metadata": {
        "id": "VzQT-0ZNhvL3"
      },
      "source": [
        "**Copy**"
      ]
    },
    {
      "cell_type": "code",
      "execution_count": null,
      "metadata": {
        "id": "q5BofyrLfmVw"
      },
      "outputs": [],
      "source": [
        "df2_pd = df2_extrai.copy()"
      ]
    },
    {
      "cell_type": "markdown",
      "metadata": {
        "id": "1mki6icAygnZ"
      },
      "source": [
        "###Inserindo Bucket"
      ]
    },
    {
      "cell_type": "code",
      "execution_count": null,
      "metadata": {
        "id": "q2CZAjYEygIz"
      },
      "outputs": [],
      "source": [
        "df2_extrai.to_csv('gs://soulcode-bc17-telecom/Original/Velocidade_Contratada_SCM.csv',index=False)\n"
      ]
    },
    {
      "cell_type": "code",
      "execution_count": null,
      "metadata": {
        "colab": {
          "base_uri": "https://localhost:8080/"
        },
        "id": "msOJz55sht__",
        "outputId": "531d5c1c-340f-47d8-a056-1024e0de3cbd"
      },
      "outputs": [
        {
          "data": {
            "text/html": [
              "\n",
              "  <div id=\"df-c192ab3c-883f-4d52-82c4-8f442b378e0b\">\n",
              "    <div class=\"colab-df-container\">\n",
              "      <div>\n",
              "<style scoped>\n",
              "    .dataframe tbody tr th:only-of-type {\n",
              "        vertical-align: middle;\n",
              "    }\n",
              "\n",
              "    .dataframe tbody tr th {\n",
              "        vertical-align: top;\n",
              "    }\n",
              "\n",
              "    .dataframe thead th {\n",
              "        text-align: right;\n",
              "    }\n",
              "</style>\n",
              "<table border=\"1\" class=\"dataframe\">\n",
              "  <thead>\n",
              "    <tr style=\"text-align: right;\">\n",
              "      <th></th>\n",
              "      <th>Ano</th>\n",
              "      <th>Mês</th>\n",
              "      <th>razao_social</th>\n",
              "      <th>cnpj</th>\n",
              "      <th>velocidade_contratada_mbps</th>\n",
              "      <th>uf</th>\n",
              "      <th>municipio</th>\n",
              "      <th>codigo_ibge</th>\n",
              "      <th>acessos</th>\n",
              "      <th>tipo</th>\n",
              "      <th>municipio_uf</th>\n",
              "    </tr>\n",
              "  </thead>\n",
              "  <tbody>\n",
              "    <tr>\n",
              "      <th>0</th>\n",
              "      <td>2020.0</td>\n",
              "      <td>12.0</td>\n",
              "      <td>algar telecom s/a</td>\n",
              "      <td>71.208.516/0001-74</td>\n",
              "      <td>40</td>\n",
              "      <td>MG</td>\n",
              "      <td>UBERLANDIA</td>\n",
              "      <td>3170206.0</td>\n",
              "      <td>16660.0</td>\n",
              "      <td>INTERNET</td>\n",
              "      <td>Uberlândia - MG</td>\n",
              "    </tr>\n",
              "    <tr>\n",
              "      <th>1</th>\n",
              "      <td>2020.0</td>\n",
              "      <td>12.0</td>\n",
              "      <td>algar telecom s/a</td>\n",
              "      <td>71.208.516/0001-74</td>\n",
              "      <td>40</td>\n",
              "      <td>SP</td>\n",
              "      <td>FRANCA</td>\n",
              "      <td>3516200.0</td>\n",
              "      <td>5093.0</td>\n",
              "      <td>INTERNET</td>\n",
              "      <td>Franca - SP</td>\n",
              "    </tr>\n",
              "  </tbody>\n",
              "</table>\n",
              "</div>\n",
              "      <button class=\"colab-df-convert\" onclick=\"convertToInteractive('df-c192ab3c-883f-4d52-82c4-8f442b378e0b')\"\n",
              "              title=\"Convert this dataframe to an interactive table.\"\n",
              "              style=\"display:none;\">\n",
              "        \n",
              "  <svg xmlns=\"http://www.w3.org/2000/svg\" height=\"24px\"viewBox=\"0 0 24 24\"\n",
              "       width=\"24px\">\n",
              "    <path d=\"M0 0h24v24H0V0z\" fill=\"none\"/>\n",
              "    <path d=\"M18.56 5.44l.94 2.06.94-2.06 2.06-.94-2.06-.94-.94-2.06-.94 2.06-2.06.94zm-11 1L8.5 8.5l.94-2.06 2.06-.94-2.06-.94L8.5 2.5l-.94 2.06-2.06.94zm10 10l.94 2.06.94-2.06 2.06-.94-2.06-.94-.94-2.06-.94 2.06-2.06.94z\"/><path d=\"M17.41 7.96l-1.37-1.37c-.4-.4-.92-.59-1.43-.59-.52 0-1.04.2-1.43.59L10.3 9.45l-7.72 7.72c-.78.78-.78 2.05 0 2.83L4 21.41c.39.39.9.59 1.41.59.51 0 1.02-.2 1.41-.59l7.78-7.78 2.81-2.81c.8-.78.8-2.07 0-2.86zM5.41 20L4 18.59l7.72-7.72 1.47 1.35L5.41 20z\"/>\n",
              "  </svg>\n",
              "      </button>\n",
              "      \n",
              "  <style>\n",
              "    .colab-df-container {\n",
              "      display:flex;\n",
              "      flex-wrap:wrap;\n",
              "      gap: 12px;\n",
              "    }\n",
              "\n",
              "    .colab-df-convert {\n",
              "      background-color: #E8F0FE;\n",
              "      border: none;\n",
              "      border-radius: 50%;\n",
              "      cursor: pointer;\n",
              "      display: none;\n",
              "      fill: #1967D2;\n",
              "      height: 32px;\n",
              "      padding: 0 0 0 0;\n",
              "      width: 32px;\n",
              "    }\n",
              "\n",
              "    .colab-df-convert:hover {\n",
              "      background-color: #E2EBFA;\n",
              "      box-shadow: 0px 1px 2px rgba(60, 64, 67, 0.3), 0px 1px 3px 1px rgba(60, 64, 67, 0.15);\n",
              "      fill: #174EA6;\n",
              "    }\n",
              "\n",
              "    [theme=dark] .colab-df-convert {\n",
              "      background-color: #3B4455;\n",
              "      fill: #D2E3FC;\n",
              "    }\n",
              "\n",
              "    [theme=dark] .colab-df-convert:hover {\n",
              "      background-color: #434B5C;\n",
              "      box-shadow: 0px 1px 3px 1px rgba(0, 0, 0, 0.15);\n",
              "      filter: drop-shadow(0px 1px 2px rgba(0, 0, 0, 0.3));\n",
              "      fill: #FFFFFF;\n",
              "    }\n",
              "  </style>\n",
              "\n",
              "      <script>\n",
              "        const buttonEl =\n",
              "          document.querySelector('#df-c192ab3c-883f-4d52-82c4-8f442b378e0b button.colab-df-convert');\n",
              "        buttonEl.style.display =\n",
              "          google.colab.kernel.accessAllowed ? 'block' : 'none';\n",
              "\n",
              "        async function convertToInteractive(key) {\n",
              "          const element = document.querySelector('#df-c192ab3c-883f-4d52-82c4-8f442b378e0b');\n",
              "          const dataTable =\n",
              "            await google.colab.kernel.invokeFunction('convertToInteractive',\n",
              "                                                     [key], {});\n",
              "          if (!dataTable) return;\n",
              "\n",
              "          const docLinkHtml = 'Like what you see? Visit the ' +\n",
              "            '<a target=\"_blank\" href=https://colab.research.google.com/notebooks/data_table.ipynb>data table notebook</a>'\n",
              "            + ' to learn more about interactive tables.';\n",
              "          element.innerHTML = '';\n",
              "          dataTable['output_type'] = 'display_data';\n",
              "          await google.colab.output.renderOutput(dataTable, element);\n",
              "          const docLink = document.createElement('div');\n",
              "          docLink.innerHTML = docLinkHtml;\n",
              "          element.appendChild(docLink);\n",
              "        }\n",
              "      </script>\n",
              "    </div>\n",
              "  </div>\n",
              "  "
            ],
            "text/plain": [
              "      Ano   Mês       razao_social                cnpj  \\\n",
              "0  2020.0  12.0  algar telecom s/a  71.208.516/0001-74   \n",
              "1  2020.0  12.0  algar telecom s/a  71.208.516/0001-74   \n",
              "\n",
              "  velocidade_contratada_mbps  uf   municipio  codigo_ibge  acessos      tipo  \\\n",
              "0                         40  MG  UBERLANDIA    3170206.0  16660.0  INTERNET   \n",
              "1                         40  SP      FRANCA    3516200.0   5093.0  INTERNET   \n",
              "\n",
              "      municipio_uf  \n",
              "0  Uberlândia - MG  \n",
              "1      Franca - SP  "
            ]
          },
          "execution_count": 176,
          "metadata": {},
          "output_type": "execute_result"
        }
      ],
      "source": [
        "df2_pd.head(2)"
      ]
    },
    {
      "cell_type": "markdown",
      "metadata": {
        "id": "Y2BnJO2MxmSR"
      },
      "source": [
        "###Unique"
      ]
    },
    {
      "cell_type": "code",
      "execution_count": null,
      "metadata": {
        "colab": {
          "base_uri": "https://localhost:8080/"
        },
        "id": "tMIFC-RolfBw",
        "outputId": "f6b6368c-9565-4e75-ba73-cc644b43f514"
      },
      "outputs": [
        {
          "data": {
            "text/plain": [
              "array([12., 11., 10.,  9.,  8.,  7.,  6.,  5.,  4.,  3.,  2.,  1., nan])"
            ]
          },
          "execution_count": 155,
          "metadata": {},
          "output_type": "execute_result"
        }
      ],
      "source": [
        "pd.unique(df2_pd['Mês'])"
      ]
    },
    {
      "cell_type": "markdown",
      "metadata": {
        "id": "zZpNUXQixpgT"
      },
      "source": [
        "###Info"
      ]
    },
    {
      "cell_type": "code",
      "execution_count": null,
      "metadata": {
        "colab": {
          "base_uri": "https://localhost:8080/"
        },
        "id": "HDtpopY0l_E2",
        "outputId": "374173f0-2298-4946-f08d-a6ff54904557"
      },
      "outputs": [
        {
          "name": "stdout",
          "output_type": "stream",
          "text": [
            "<class 'pandas.core.frame.DataFrame'>\n",
            "RangeIndex: 5789372 entries, 0 to 5789371\n",
            "Data columns (total 11 columns):\n",
            " #   Column                      Dtype  \n",
            "---  ------                      -----  \n",
            " 0   Ano                         float64\n",
            " 1   Mês                         float64\n",
            " 2   razao_social                object \n",
            " 3   cnpj                        object \n",
            " 4   velocidade_contratada_mbps  object \n",
            " 5   uf                          object \n",
            " 6   municipio                   object \n",
            " 7   codigo_ibge                 float64\n",
            " 8   acessos                     float64\n",
            " 9   tipo                        object \n",
            " 10  municipio_uf                object \n",
            "dtypes: float64(4), object(7)\n",
            "memory usage: 485.9+ MB\n"
          ]
        }
      ],
      "source": [
        "df2_pd.info()"
      ]
    },
    {
      "cell_type": "markdown",
      "metadata": {
        "id": "JrreecvYxuVx"
      },
      "source": [
        "###Duplicated"
      ]
    },
    {
      "cell_type": "code",
      "execution_count": null,
      "metadata": {
        "colab": {
          "base_uri": "https://localhost:8080/"
        },
        "id": "ykoN2lhJme7V",
        "outputId": "d6ca5892-a1ae-452d-cbae-48aab47bc2db"
      },
      "outputs": [
        {
          "data": {
            "text/plain": [
              "11684"
            ]
          },
          "execution_count": 162,
          "metadata": {},
          "output_type": "execute_result"
        }
      ],
      "source": [
        "df2_pd.duplicated().sum()"
      ]
    },
    {
      "cell_type": "code",
      "execution_count": null,
      "metadata": {
        "id": "UT6JxPTPpa4R"
      },
      "outputs": [],
      "source": [
        "df_pd=df2_pd[df2_pd.duplicated()]"
      ]
    },
    {
      "cell_type": "code",
      "execution_count": null,
      "metadata": {
        "id": "fgRxLa3xqNJs"
      },
      "outputs": [],
      "source": [
        "df_pd.head()"
      ]
    },
    {
      "cell_type": "code",
      "execution_count": null,
      "metadata": {
        "id": "Z-dlRSaJoobv"
      },
      "outputs": [],
      "source": [
        "df2_pd= df2_pd.drop_duplicates()"
      ]
    },
    {
      "cell_type": "code",
      "execution_count": null,
      "metadata": {
        "colab": {
          "base_uri": "https://localhost:8080/"
        },
        "id": "fZsYq-zhtoJz",
        "outputId": "d1690d21-77dd-4bf0-9a77-7010d3d88eec"
      },
      "outputs": [
        {
          "data": {
            "text/plain": [
              "Ano                           5777687\n",
              "Mês                           5777687\n",
              "razao_social                  5777687\n",
              "cnpj                          5777687\n",
              "velocidade_contratada_mbps    5777593\n",
              "uf                            5777687\n",
              "municipio                     5777687\n",
              "codigo_ibge                   5777687\n",
              "acessos                       5777432\n",
              "tipo                          5777687\n",
              "municipio_uf                  5777687\n",
              "dtype: int64"
            ]
          },
          "execution_count": 182,
          "metadata": {},
          "output_type": "execute_result"
        }
      ],
      "source": [
        "df2_pd.count()"
      ]
    },
    {
      "cell_type": "markdown",
      "metadata": {
        "id": "OAIbhVHax6Ph"
      },
      "source": [
        "###Isnull"
      ]
    },
    {
      "cell_type": "code",
      "execution_count": null,
      "metadata": {
        "colab": {
          "base_uri": "https://localhost:8080/"
        },
        "id": "yM58P2oZpa2d",
        "outputId": "c2fb5de7-26b1-48dc-9733-42e796f500d1"
      },
      "outputs": [
        {
          "data": {
            "text/plain": [
              "Ano                             1\n",
              "Mês                             1\n",
              "razao_social                    1\n",
              "cnpj                            1\n",
              "velocidade_contratada_mbps     95\n",
              "uf                              1\n",
              "municipio                       1\n",
              "codigo_ibge                     1\n",
              "acessos                       256\n",
              "tipo                            1\n",
              "municipio_uf                    1\n",
              "dtype: int64"
            ]
          },
          "execution_count": 181,
          "metadata": {},
          "output_type": "execute_result"
        }
      ],
      "source": [
        "pd.isnull(df2_pd).sum()"
      ]
    },
    {
      "cell_type": "markdown",
      "metadata": {
        "id": "yl7uw7e17Szf"
      },
      "source": [
        "###Drop"
      ]
    },
    {
      "cell_type": "markdown",
      "metadata": {
        "id": "Bjl8_m6k7Y4L"
      },
      "source": [
        "**Coluna**"
      ]
    },
    {
      "cell_type": "code",
      "execution_count": null,
      "metadata": {
        "id": "SbXBN6eI7YYn"
      },
      "outputs": [],
      "source": [
        "df2_pd=df2_pd.drop(columns=['municipio_uf'])"
      ]
    },
    {
      "cell_type": "code",
      "execution_count": null,
      "metadata": {
        "colab": {
          "base_uri": "https://localhost:8080/"
        },
        "id": "uB6Ko4FY85UP",
        "outputId": "503d696c-1538-455f-a13e-9a6fd845939e"
      },
      "outputs": [
        {
          "data": {
            "text/html": [
              "\n",
              "  <div id=\"df-9d3de4e5-e97c-4fa6-89cf-dd339ea33354\">\n",
              "    <div class=\"colab-df-container\">\n",
              "      <div>\n",
              "<style scoped>\n",
              "    .dataframe tbody tr th:only-of-type {\n",
              "        vertical-align: middle;\n",
              "    }\n",
              "\n",
              "    .dataframe tbody tr th {\n",
              "        vertical-align: top;\n",
              "    }\n",
              "\n",
              "    .dataframe thead th {\n",
              "        text-align: right;\n",
              "    }\n",
              "</style>\n",
              "<table border=\"1\" class=\"dataframe\">\n",
              "  <thead>\n",
              "    <tr style=\"text-align: right;\">\n",
              "      <th></th>\n",
              "      <th>Ano</th>\n",
              "      <th>Mes</th>\n",
              "      <th>razao_social</th>\n",
              "      <th>cnpj</th>\n",
              "      <th>velocidade_contratada_mbps</th>\n",
              "      <th>uf</th>\n",
              "      <th>municipio</th>\n",
              "      <th>Cod_IBGE</th>\n",
              "      <th>acessos</th>\n",
              "      <th>tipo</th>\n",
              "    </tr>\n",
              "  </thead>\n",
              "  <tbody>\n",
              "    <tr>\n",
              "      <th>0</th>\n",
              "      <td>2020.0</td>\n",
              "      <td>12.0</td>\n",
              "      <td>algar telecom s/a</td>\n",
              "      <td>71.208.516/0001-74</td>\n",
              "      <td>40</td>\n",
              "      <td>MG</td>\n",
              "      <td>UBERLANDIA</td>\n",
              "      <td>3170206.0</td>\n",
              "      <td>16660.0</td>\n",
              "      <td>INTERNET</td>\n",
              "    </tr>\n",
              "    <tr>\n",
              "      <th>1</th>\n",
              "      <td>2020.0</td>\n",
              "      <td>12.0</td>\n",
              "      <td>algar telecom s/a</td>\n",
              "      <td>71.208.516/0001-74</td>\n",
              "      <td>40</td>\n",
              "      <td>SP</td>\n",
              "      <td>FRANCA</td>\n",
              "      <td>3516200.0</td>\n",
              "      <td>5093.0</td>\n",
              "      <td>INTERNET</td>\n",
              "    </tr>\n",
              "    <tr>\n",
              "      <th>2</th>\n",
              "      <td>2020.0</td>\n",
              "      <td>12.0</td>\n",
              "      <td>algar telecom s/a</td>\n",
              "      <td>71.208.516/0001-74</td>\n",
              "      <td>10</td>\n",
              "      <td>MG</td>\n",
              "      <td>UBERLANDIA</td>\n",
              "      <td>3170206.0</td>\n",
              "      <td>10507.0</td>\n",
              "      <td>INTERNET</td>\n",
              "    </tr>\n",
              "    <tr>\n",
              "      <th>3</th>\n",
              "      <td>2020.0</td>\n",
              "      <td>12.0</td>\n",
              "      <td>algar telecom s/a</td>\n",
              "      <td>71.208.516/0001-74</td>\n",
              "      <td>60</td>\n",
              "      <td>MG</td>\n",
              "      <td>CAPINOPOLIS</td>\n",
              "      <td>3112604.0</td>\n",
              "      <td>498.0</td>\n",
              "      <td>INTERNET</td>\n",
              "    </tr>\n",
              "    <tr>\n",
              "      <th>4</th>\n",
              "      <td>2020.0</td>\n",
              "      <td>12.0</td>\n",
              "      <td>algar telecom s/a</td>\n",
              "      <td>71.208.516/0001-74</td>\n",
              "      <td>100</td>\n",
              "      <td>MG</td>\n",
              "      <td>SANTA JULIANA</td>\n",
              "      <td>3157708.0</td>\n",
              "      <td>508.0</td>\n",
              "      <td>INTERNET</td>\n",
              "    </tr>\n",
              "  </tbody>\n",
              "</table>\n",
              "</div>\n",
              "      <button class=\"colab-df-convert\" onclick=\"convertToInteractive('df-9d3de4e5-e97c-4fa6-89cf-dd339ea33354')\"\n",
              "              title=\"Convert this dataframe to an interactive table.\"\n",
              "              style=\"display:none;\">\n",
              "        \n",
              "  <svg xmlns=\"http://www.w3.org/2000/svg\" height=\"24px\"viewBox=\"0 0 24 24\"\n",
              "       width=\"24px\">\n",
              "    <path d=\"M0 0h24v24H0V0z\" fill=\"none\"/>\n",
              "    <path d=\"M18.56 5.44l.94 2.06.94-2.06 2.06-.94-2.06-.94-.94-2.06-.94 2.06-2.06.94zm-11 1L8.5 8.5l.94-2.06 2.06-.94-2.06-.94L8.5 2.5l-.94 2.06-2.06.94zm10 10l.94 2.06.94-2.06 2.06-.94-2.06-.94-.94-2.06-.94 2.06-2.06.94z\"/><path d=\"M17.41 7.96l-1.37-1.37c-.4-.4-.92-.59-1.43-.59-.52 0-1.04.2-1.43.59L10.3 9.45l-7.72 7.72c-.78.78-.78 2.05 0 2.83L4 21.41c.39.39.9.59 1.41.59.51 0 1.02-.2 1.41-.59l7.78-7.78 2.81-2.81c.8-.78.8-2.07 0-2.86zM5.41 20L4 18.59l7.72-7.72 1.47 1.35L5.41 20z\"/>\n",
              "  </svg>\n",
              "      </button>\n",
              "      \n",
              "  <style>\n",
              "    .colab-df-container {\n",
              "      display:flex;\n",
              "      flex-wrap:wrap;\n",
              "      gap: 12px;\n",
              "    }\n",
              "\n",
              "    .colab-df-convert {\n",
              "      background-color: #E8F0FE;\n",
              "      border: none;\n",
              "      border-radius: 50%;\n",
              "      cursor: pointer;\n",
              "      display: none;\n",
              "      fill: #1967D2;\n",
              "      height: 32px;\n",
              "      padding: 0 0 0 0;\n",
              "      width: 32px;\n",
              "    }\n",
              "\n",
              "    .colab-df-convert:hover {\n",
              "      background-color: #E2EBFA;\n",
              "      box-shadow: 0px 1px 2px rgba(60, 64, 67, 0.3), 0px 1px 3px 1px rgba(60, 64, 67, 0.15);\n",
              "      fill: #174EA6;\n",
              "    }\n",
              "\n",
              "    [theme=dark] .colab-df-convert {\n",
              "      background-color: #3B4455;\n",
              "      fill: #D2E3FC;\n",
              "    }\n",
              "\n",
              "    [theme=dark] .colab-df-convert:hover {\n",
              "      background-color: #434B5C;\n",
              "      box-shadow: 0px 1px 3px 1px rgba(0, 0, 0, 0.15);\n",
              "      filter: drop-shadow(0px 1px 2px rgba(0, 0, 0, 0.3));\n",
              "      fill: #FFFFFF;\n",
              "    }\n",
              "  </style>\n",
              "\n",
              "      <script>\n",
              "        const buttonEl =\n",
              "          document.querySelector('#df-9d3de4e5-e97c-4fa6-89cf-dd339ea33354 button.colab-df-convert');\n",
              "        buttonEl.style.display =\n",
              "          google.colab.kernel.accessAllowed ? 'block' : 'none';\n",
              "\n",
              "        async function convertToInteractive(key) {\n",
              "          const element = document.querySelector('#df-9d3de4e5-e97c-4fa6-89cf-dd339ea33354');\n",
              "          const dataTable =\n",
              "            await google.colab.kernel.invokeFunction('convertToInteractive',\n",
              "                                                     [key], {});\n",
              "          if (!dataTable) return;\n",
              "\n",
              "          const docLinkHtml = 'Like what you see? Visit the ' +\n",
              "            '<a target=\"_blank\" href=https://colab.research.google.com/notebooks/data_table.ipynb>data table notebook</a>'\n",
              "            + ' to learn more about interactive tables.';\n",
              "          element.innerHTML = '';\n",
              "          dataTable['output_type'] = 'display_data';\n",
              "          await google.colab.output.renderOutput(dataTable, element);\n",
              "          const docLink = document.createElement('div');\n",
              "          docLink.innerHTML = docLinkHtml;\n",
              "          element.appendChild(docLink);\n",
              "        }\n",
              "      </script>\n",
              "    </div>\n",
              "  </div>\n",
              "  "
            ],
            "text/plain": [
              "      Ano   Mes       razao_social                cnpj  \\\n",
              "0  2020.0  12.0  algar telecom s/a  71.208.516/0001-74   \n",
              "1  2020.0  12.0  algar telecom s/a  71.208.516/0001-74   \n",
              "2  2020.0  12.0  algar telecom s/a  71.208.516/0001-74   \n",
              "3  2020.0  12.0  algar telecom s/a  71.208.516/0001-74   \n",
              "4  2020.0  12.0  algar telecom s/a  71.208.516/0001-74   \n",
              "\n",
              "  velocidade_contratada_mbps  uf      municipio   Cod_IBGE  acessos      tipo  \n",
              "0                         40  MG     UBERLANDIA  3170206.0  16660.0  INTERNET  \n",
              "1                         40  SP         FRANCA  3516200.0   5093.0  INTERNET  \n",
              "2                         10  MG     UBERLANDIA  3170206.0  10507.0  INTERNET  \n",
              "3                         60  MG    CAPINOPOLIS  3112604.0    498.0  INTERNET  \n",
              "4                        100  MG  SANTA JULIANA  3157708.0    508.0  INTERNET  "
            ]
          },
          "execution_count": 232,
          "metadata": {},
          "output_type": "execute_result"
        }
      ],
      "source": [
        "df2_pd.head()"
      ]
    },
    {
      "cell_type": "markdown",
      "metadata": {
        "id": "MZkqTQ4atEs7"
      },
      "source": [
        "**Linhas** \n",
        "* Valores  isnull == 360\n",
        "* df2_pd == 5777687\n",
        "* isnull 0.006% == df2_pd"
      ]
    },
    {
      "cell_type": "code",
      "execution_count": null,
      "metadata": {
        "id": "lVPfalUjtEUL"
      },
      "outputs": [],
      "source": [
        "df2_pd=df2_pd.dropna()"
      ]
    },
    {
      "cell_type": "code",
      "execution_count": null,
      "metadata": {
        "colab": {
          "base_uri": "https://localhost:8080/"
        },
        "id": "MHKjIMQhxAKz",
        "outputId": "dfe6c5f8-bf80-4620-8c75-bf9d8f728889"
      },
      "outputs": [
        {
          "data": {
            "text/plain": [
              "Ano                           0\n",
              "Mês                           0\n",
              "razao_social                  0\n",
              "cnpj                          0\n",
              "velocidade_contratada_mbps    0\n",
              "uf                            0\n",
              "municipio                     0\n",
              "codigo_ibge                   0\n",
              "acessos                       0\n",
              "tipo                          0\n",
              "municipio_uf                  0\n",
              "dtype: int64"
            ]
          },
          "execution_count": 214,
          "metadata": {},
          "output_type": "execute_result"
        }
      ],
      "source": [
        "pd.isnull(df2_pd).sum()"
      ]
    },
    {
      "cell_type": "markdown",
      "metadata": {
        "id": "8Ft23ii30JTp"
      },
      "source": [
        "###Unique"
      ]
    },
    {
      "cell_type": "code",
      "execution_count": null,
      "metadata": {
        "colab": {
          "base_uri": "https://localhost:8080/"
        },
        "id": "02vJIMVF0FnT",
        "outputId": "75ee179f-3377-4d32-ad05-4cb1e5893eea"
      },
      "outputs": [
        {
          "data": {
            "text/plain": [
              "array(['Uberlândia - MG', 'Franca - SP', 'Capinópolis - MG', ...,\n",
              "       'Quixaba - PB', 'Quixaba - PE', 'São Valério - TO'], dtype=object)"
            ]
          },
          "execution_count": 215,
          "metadata": {},
          "output_type": "execute_result"
        }
      ],
      "source": [
        "pd.unique(df2_pd['municipio_uf'])"
      ]
    },
    {
      "cell_type": "markdown",
      "metadata": {
        "id": "pI2l-UMD5dbf"
      },
      "source": [
        "###Rename \n"
      ]
    },
    {
      "cell_type": "code",
      "execution_count": null,
      "metadata": {
        "id": "ewhbYM1554jY"
      },
      "outputs": [],
      "source": [
        "df2_pd.rename(columns = {'Mês':'Mes','codigo_ibge':'Cod_IBGE'},inplace=True)"
      ]
    },
    {
      "cell_type": "code",
      "execution_count": null,
      "metadata": {
        "colab": {
          "base_uri": "https://localhost:8080/",
          "height": 162
        },
        "id": "-AIc11TF1ufQ",
        "outputId": "9c54d1a7-7f2c-4803-f1b4-98527510d0e2"
      },
      "outputs": [
        {
          "data": {
            "text/html": [
              "\n",
              "  <div id=\"df-d2a30bfa-4cb0-4126-826b-aba941cf1f2c\">\n",
              "    <div class=\"colab-df-container\">\n",
              "      <div>\n",
              "<style scoped>\n",
              "    .dataframe tbody tr th:only-of-type {\n",
              "        vertical-align: middle;\n",
              "    }\n",
              "\n",
              "    .dataframe tbody tr th {\n",
              "        vertical-align: top;\n",
              "    }\n",
              "\n",
              "    .dataframe thead th {\n",
              "        text-align: right;\n",
              "    }\n",
              "</style>\n",
              "<table border=\"1\" class=\"dataframe\">\n",
              "  <thead>\n",
              "    <tr style=\"text-align: right;\">\n",
              "      <th></th>\n",
              "      <th>Ano</th>\n",
              "      <th>Mes</th>\n",
              "      <th>razao_social</th>\n",
              "      <th>cnpj</th>\n",
              "      <th>velocidade_contratada_mbps</th>\n",
              "      <th>uf</th>\n",
              "      <th>municipio</th>\n",
              "      <th>Cod_IBGE</th>\n",
              "      <th>acessos</th>\n",
              "      <th>tipo</th>\n",
              "    </tr>\n",
              "  </thead>\n",
              "  <tbody>\n",
              "    <tr>\n",
              "      <th>0</th>\n",
              "      <td>2020.0</td>\n",
              "      <td>12.0</td>\n",
              "      <td>algar telecom s/a</td>\n",
              "      <td>71.208.516/0001-74</td>\n",
              "      <td>40</td>\n",
              "      <td>MG</td>\n",
              "      <td>UBERLANDIA</td>\n",
              "      <td>3170206.0</td>\n",
              "      <td>16660.0</td>\n",
              "      <td>INTERNET</td>\n",
              "    </tr>\n",
              "  </tbody>\n",
              "</table>\n",
              "</div>\n",
              "      <button class=\"colab-df-convert\" onclick=\"convertToInteractive('df-d2a30bfa-4cb0-4126-826b-aba941cf1f2c')\"\n",
              "              title=\"Convert this dataframe to an interactive table.\"\n",
              "              style=\"display:none;\">\n",
              "        \n",
              "  <svg xmlns=\"http://www.w3.org/2000/svg\" height=\"24px\"viewBox=\"0 0 24 24\"\n",
              "       width=\"24px\">\n",
              "    <path d=\"M0 0h24v24H0V0z\" fill=\"none\"/>\n",
              "    <path d=\"M18.56 5.44l.94 2.06.94-2.06 2.06-.94-2.06-.94-.94-2.06-.94 2.06-2.06.94zm-11 1L8.5 8.5l.94-2.06 2.06-.94-2.06-.94L8.5 2.5l-.94 2.06-2.06.94zm10 10l.94 2.06.94-2.06 2.06-.94-2.06-.94-.94-2.06-.94 2.06-2.06.94z\"/><path d=\"M17.41 7.96l-1.37-1.37c-.4-.4-.92-.59-1.43-.59-.52 0-1.04.2-1.43.59L10.3 9.45l-7.72 7.72c-.78.78-.78 2.05 0 2.83L4 21.41c.39.39.9.59 1.41.59.51 0 1.02-.2 1.41-.59l7.78-7.78 2.81-2.81c.8-.78.8-2.07 0-2.86zM5.41 20L4 18.59l7.72-7.72 1.47 1.35L5.41 20z\"/>\n",
              "  </svg>\n",
              "      </button>\n",
              "      \n",
              "  <style>\n",
              "    .colab-df-container {\n",
              "      display:flex;\n",
              "      flex-wrap:wrap;\n",
              "      gap: 12px;\n",
              "    }\n",
              "\n",
              "    .colab-df-convert {\n",
              "      background-color: #E8F0FE;\n",
              "      border: none;\n",
              "      border-radius: 50%;\n",
              "      cursor: pointer;\n",
              "      display: none;\n",
              "      fill: #1967D2;\n",
              "      height: 32px;\n",
              "      padding: 0 0 0 0;\n",
              "      width: 32px;\n",
              "    }\n",
              "\n",
              "    .colab-df-convert:hover {\n",
              "      background-color: #E2EBFA;\n",
              "      box-shadow: 0px 1px 2px rgba(60, 64, 67, 0.3), 0px 1px 3px 1px rgba(60, 64, 67, 0.15);\n",
              "      fill: #174EA6;\n",
              "    }\n",
              "\n",
              "    [theme=dark] .colab-df-convert {\n",
              "      background-color: #3B4455;\n",
              "      fill: #D2E3FC;\n",
              "    }\n",
              "\n",
              "    [theme=dark] .colab-df-convert:hover {\n",
              "      background-color: #434B5C;\n",
              "      box-shadow: 0px 1px 3px 1px rgba(0, 0, 0, 0.15);\n",
              "      filter: drop-shadow(0px 1px 2px rgba(0, 0, 0, 0.3));\n",
              "      fill: #FFFFFF;\n",
              "    }\n",
              "  </style>\n",
              "\n",
              "      <script>\n",
              "        const buttonEl =\n",
              "          document.querySelector('#df-d2a30bfa-4cb0-4126-826b-aba941cf1f2c button.colab-df-convert');\n",
              "        buttonEl.style.display =\n",
              "          google.colab.kernel.accessAllowed ? 'block' : 'none';\n",
              "\n",
              "        async function convertToInteractive(key) {\n",
              "          const element = document.querySelector('#df-d2a30bfa-4cb0-4126-826b-aba941cf1f2c');\n",
              "          const dataTable =\n",
              "            await google.colab.kernel.invokeFunction('convertToInteractive',\n",
              "                                                     [key], {});\n",
              "          if (!dataTable) return;\n",
              "\n",
              "          const docLinkHtml = 'Like what you see? Visit the ' +\n",
              "            '<a target=\"_blank\" href=https://colab.research.google.com/notebooks/data_table.ipynb>data table notebook</a>'\n",
              "            + ' to learn more about interactive tables.';\n",
              "          element.innerHTML = '';\n",
              "          dataTable['output_type'] = 'display_data';\n",
              "          await google.colab.output.renderOutput(dataTable, element);\n",
              "          const docLink = document.createElement('div');\n",
              "          docLink.innerHTML = docLinkHtml;\n",
              "          element.appendChild(docLink);\n",
              "        }\n",
              "      </script>\n",
              "    </div>\n",
              "  </div>\n",
              "  "
            ],
            "text/plain": [
              "      Ano   Mes       razao_social                cnpj  \\\n",
              "0  2020.0  12.0  algar telecom s/a  71.208.516/0001-74   \n",
              "\n",
              "  velocidade_contratada_mbps  uf   municipio   Cod_IBGE  acessos      tipo  \n",
              "0                         40  MG  UBERLANDIA  3170206.0  16660.0  INTERNET  "
            ]
          },
          "execution_count": 233,
          "metadata": {},
          "output_type": "execute_result"
        }
      ],
      "source": [
        "df2_pd.head(1)"
      ]
    },
    {
      "cell_type": "markdown",
      "metadata": {
        "id": "LKxHxOP7-Ua-"
      },
      "source": [
        "###Inserindo bucket \n",
        "Tratados"
      ]
    },
    {
      "cell_type": "code",
      "execution_count": null,
      "metadata": {
        "id": "ApddnQOf-Zhf"
      },
      "outputs": [],
      "source": [
        "df2_pd.to_parquet('gs://soulcode-bc17-telecom/Tratados/Velocidade_Contratada_Tratad.gzip',compression='gzip')"
      ]
    },
    {
      "cell_type": "code",
      "execution_count": null,
      "metadata": {
        "colab": {
          "base_uri": "https://localhost:8080/"
        },
        "id": "b49GA3Zt38Mo",
        "outputId": "959dcf4f-4927-4760-a193-9f8ef1e48e9c"
      },
      "outputs": [
        {
          "data": {
            "text/html": [
              "\n",
              "  <div id=\"df-b6f53e2d-2cf4-4db2-8d68-2bd42042cc2e\">\n",
              "    <div class=\"colab-df-container\">\n",
              "      <div>\n",
              "<style scoped>\n",
              "    .dataframe tbody tr th:only-of-type {\n",
              "        vertical-align: middle;\n",
              "    }\n",
              "\n",
              "    .dataframe tbody tr th {\n",
              "        vertical-align: top;\n",
              "    }\n",
              "\n",
              "    .dataframe thead th {\n",
              "        text-align: right;\n",
              "    }\n",
              "</style>\n",
              "<table border=\"1\" class=\"dataframe\">\n",
              "  <thead>\n",
              "    <tr style=\"text-align: right;\">\n",
              "      <th></th>\n",
              "      <th>Ano</th>\n",
              "      <th>Mês</th>\n",
              "      <th>razao_social</th>\n",
              "      <th>cnpj</th>\n",
              "      <th>velocidade_contratada_mbps</th>\n",
              "      <th>uf</th>\n",
              "      <th>municipio</th>\n",
              "      <th>codigo_ibge</th>\n",
              "      <th>acessos</th>\n",
              "      <th>tipo</th>\n",
              "      <th>municipio_uf</th>\n",
              "    </tr>\n",
              "  </thead>\n",
              "  <tbody>\n",
              "    <tr>\n",
              "      <th>0</th>\n",
              "      <td>2020.0</td>\n",
              "      <td>12.0</td>\n",
              "      <td>algar telecom s/a</td>\n",
              "      <td>71.208.516/0001-74</td>\n",
              "      <td>40</td>\n",
              "      <td>MG</td>\n",
              "      <td>UBERLANDIA</td>\n",
              "      <td>3170206.0</td>\n",
              "      <td>16660.0</td>\n",
              "      <td>INTERNET</td>\n",
              "      <td>Uberlândia - MG</td>\n",
              "    </tr>\n",
              "  </tbody>\n",
              "</table>\n",
              "</div>\n",
              "      <button class=\"colab-df-convert\" onclick=\"convertToInteractive('df-b6f53e2d-2cf4-4db2-8d68-2bd42042cc2e')\"\n",
              "              title=\"Convert this dataframe to an interactive table.\"\n",
              "              style=\"display:none;\">\n",
              "        \n",
              "  <svg xmlns=\"http://www.w3.org/2000/svg\" height=\"24px\"viewBox=\"0 0 24 24\"\n",
              "       width=\"24px\">\n",
              "    <path d=\"M0 0h24v24H0V0z\" fill=\"none\"/>\n",
              "    <path d=\"M18.56 5.44l.94 2.06.94-2.06 2.06-.94-2.06-.94-.94-2.06-.94 2.06-2.06.94zm-11 1L8.5 8.5l.94-2.06 2.06-.94-2.06-.94L8.5 2.5l-.94 2.06-2.06.94zm10 10l.94 2.06.94-2.06 2.06-.94-2.06-.94-.94-2.06-.94 2.06-2.06.94z\"/><path d=\"M17.41 7.96l-1.37-1.37c-.4-.4-.92-.59-1.43-.59-.52 0-1.04.2-1.43.59L10.3 9.45l-7.72 7.72c-.78.78-.78 2.05 0 2.83L4 21.41c.39.39.9.59 1.41.59.51 0 1.02-.2 1.41-.59l7.78-7.78 2.81-2.81c.8-.78.8-2.07 0-2.86zM5.41 20L4 18.59l7.72-7.72 1.47 1.35L5.41 20z\"/>\n",
              "  </svg>\n",
              "      </button>\n",
              "      \n",
              "  <style>\n",
              "    .colab-df-container {\n",
              "      display:flex;\n",
              "      flex-wrap:wrap;\n",
              "      gap: 12px;\n",
              "    }\n",
              "\n",
              "    .colab-df-convert {\n",
              "      background-color: #E8F0FE;\n",
              "      border: none;\n",
              "      border-radius: 50%;\n",
              "      cursor: pointer;\n",
              "      display: none;\n",
              "      fill: #1967D2;\n",
              "      height: 32px;\n",
              "      padding: 0 0 0 0;\n",
              "      width: 32px;\n",
              "    }\n",
              "\n",
              "    .colab-df-convert:hover {\n",
              "      background-color: #E2EBFA;\n",
              "      box-shadow: 0px 1px 2px rgba(60, 64, 67, 0.3), 0px 1px 3px 1px rgba(60, 64, 67, 0.15);\n",
              "      fill: #174EA6;\n",
              "    }\n",
              "\n",
              "    [theme=dark] .colab-df-convert {\n",
              "      background-color: #3B4455;\n",
              "      fill: #D2E3FC;\n",
              "    }\n",
              "\n",
              "    [theme=dark] .colab-df-convert:hover {\n",
              "      background-color: #434B5C;\n",
              "      box-shadow: 0px 1px 3px 1px rgba(0, 0, 0, 0.15);\n",
              "      filter: drop-shadow(0px 1px 2px rgba(0, 0, 0, 0.3));\n",
              "      fill: #FFFFFF;\n",
              "    }\n",
              "  </style>\n",
              "\n",
              "      <script>\n",
              "        const buttonEl =\n",
              "          document.querySelector('#df-b6f53e2d-2cf4-4db2-8d68-2bd42042cc2e button.colab-df-convert');\n",
              "        buttonEl.style.display =\n",
              "          google.colab.kernel.accessAllowed ? 'block' : 'none';\n",
              "\n",
              "        async function convertToInteractive(key) {\n",
              "          const element = document.querySelector('#df-b6f53e2d-2cf4-4db2-8d68-2bd42042cc2e');\n",
              "          const dataTable =\n",
              "            await google.colab.kernel.invokeFunction('convertToInteractive',\n",
              "                                                     [key], {});\n",
              "          if (!dataTable) return;\n",
              "\n",
              "          const docLinkHtml = 'Like what you see? Visit the ' +\n",
              "            '<a target=\"_blank\" href=https://colab.research.google.com/notebooks/data_table.ipynb>data table notebook</a>'\n",
              "            + ' to learn more about interactive tables.';\n",
              "          element.innerHTML = '';\n",
              "          dataTable['output_type'] = 'display_data';\n",
              "          await google.colab.output.renderOutput(dataTable, element);\n",
              "          const docLink = document.createElement('div');\n",
              "          docLink.innerHTML = docLinkHtml;\n",
              "          element.appendChild(docLink);\n",
              "        }\n",
              "      </script>\n",
              "    </div>\n",
              "  </div>\n",
              "  "
            ],
            "text/plain": [
              "      Ano   Mês       razao_social                cnpj  \\\n",
              "0  2020.0  12.0  algar telecom s/a  71.208.516/0001-74   \n",
              "\n",
              "  velocidade_contratada_mbps  uf   municipio  codigo_ibge  acessos      tipo  \\\n",
              "0                         40  MG  UBERLANDIA    3170206.0  16660.0  INTERNET   \n",
              "\n",
              "      municipio_uf  \n",
              "0  Uberlândia - MG  "
            ]
          },
          "execution_count": 217,
          "metadata": {},
          "output_type": "execute_result"
        }
      ],
      "source": [
        "df2_pd.head(1)"
      ]
    },
    {
      "cell_type": "markdown",
      "metadata": {
        "id": "uKl2Xto9zPn3"
      },
      "source": [
        "# **Acessos_Telefonia_Movel_Pre_Pos_Total.json**"
      ]
    },
    {
      "cell_type": "markdown",
      "metadata": {
        "id": "DBVBhXaQzkEY"
      },
      "source": [
        "\n",
        "\n",
        "\n",
        "\n"
      ]
    },
    {
      "cell_type": "code",
      "execution_count": null,
      "metadata": {
        "id": "PC4SSFUuzGE7"
      },
      "outputs": [],
      "source": [
        "df3_extrai = pd.read_json('gs://soulcode-bc17-telecom/Acessos_Telefonia_Movel_Pre_Pos_Total.json')"
      ]
    },
    {
      "cell_type": "code",
      "execution_count": null,
      "metadata": {
        "id": "3xJRX8qi0IZe"
      },
      "outputs": [],
      "source": [
        "df3_pd=df3_extrai.copy()"
      ]
    },
    {
      "cell_type": "code",
      "execution_count": null,
      "metadata": {
        "colab": {
          "base_uri": "https://localhost:8080/",
          "height": 206
        },
        "id": "huVvZRZN16k_",
        "outputId": "23435747-3f69-45d4-c794-cd65aef6453e"
      },
      "outputs": [
        {
          "data": {
            "text/html": [
              "\n",
              "  <div id=\"df-0917da1b-a2dd-4a55-bbcb-96d7f8ff848d\">\n",
              "    <div class=\"colab-df-container\">\n",
              "      <div>\n",
              "<style scoped>\n",
              "    .dataframe tbody tr th:only-of-type {\n",
              "        vertical-align: middle;\n",
              "    }\n",
              "\n",
              "    .dataframe tbody tr th {\n",
              "        vertical-align: top;\n",
              "    }\n",
              "\n",
              "    .dataframe thead th {\n",
              "        text-align: right;\n",
              "    }\n",
              "</style>\n",
              "<table border=\"1\" class=\"dataframe\">\n",
              "  <thead>\n",
              "    <tr style=\"text-align: right;\">\n",
              "      <th></th>\n",
              "      <th>Ano</th>\n",
              "      <th>Mês</th>\n",
              "      <th>Modalidade de Cobrança</th>\n",
              "      <th>Acessos</th>\n",
              "    </tr>\n",
              "  </thead>\n",
              "  <tbody>\n",
              "    <tr>\n",
              "      <th>0</th>\n",
              "      <td>2022</td>\n",
              "      <td>3</td>\n",
              "      <td>Pós-pago</td>\n",
              "      <td>138629611</td>\n",
              "    </tr>\n",
              "    <tr>\n",
              "      <th>1</th>\n",
              "      <td>2022</td>\n",
              "      <td>3</td>\n",
              "      <td>Pré-pago</td>\n",
              "      <td>119642952</td>\n",
              "    </tr>\n",
              "    <tr>\n",
              "      <th>2</th>\n",
              "      <td>2022</td>\n",
              "      <td>2</td>\n",
              "      <td>Pós-pago</td>\n",
              "      <td>137439913</td>\n",
              "    </tr>\n",
              "    <tr>\n",
              "      <th>3</th>\n",
              "      <td>2022</td>\n",
              "      <td>2</td>\n",
              "      <td>Pré-pago</td>\n",
              "      <td>119004007</td>\n",
              "    </tr>\n",
              "    <tr>\n",
              "      <th>4</th>\n",
              "      <td>2022</td>\n",
              "      <td>1</td>\n",
              "      <td>Pós-pago</td>\n",
              "      <td>136500794</td>\n",
              "    </tr>\n",
              "  </tbody>\n",
              "</table>\n",
              "</div>\n",
              "      <button class=\"colab-df-convert\" onclick=\"convertToInteractive('df-0917da1b-a2dd-4a55-bbcb-96d7f8ff848d')\"\n",
              "              title=\"Convert this dataframe to an interactive table.\"\n",
              "              style=\"display:none;\">\n",
              "        \n",
              "  <svg xmlns=\"http://www.w3.org/2000/svg\" height=\"24px\"viewBox=\"0 0 24 24\"\n",
              "       width=\"24px\">\n",
              "    <path d=\"M0 0h24v24H0V0z\" fill=\"none\"/>\n",
              "    <path d=\"M18.56 5.44l.94 2.06.94-2.06 2.06-.94-2.06-.94-.94-2.06-.94 2.06-2.06.94zm-11 1L8.5 8.5l.94-2.06 2.06-.94-2.06-.94L8.5 2.5l-.94 2.06-2.06.94zm10 10l.94 2.06.94-2.06 2.06-.94-2.06-.94-.94-2.06-.94 2.06-2.06.94z\"/><path d=\"M17.41 7.96l-1.37-1.37c-.4-.4-.92-.59-1.43-.59-.52 0-1.04.2-1.43.59L10.3 9.45l-7.72 7.72c-.78.78-.78 2.05 0 2.83L4 21.41c.39.39.9.59 1.41.59.51 0 1.02-.2 1.41-.59l7.78-7.78 2.81-2.81c.8-.78.8-2.07 0-2.86zM5.41 20L4 18.59l7.72-7.72 1.47 1.35L5.41 20z\"/>\n",
              "  </svg>\n",
              "      </button>\n",
              "      \n",
              "  <style>\n",
              "    .colab-df-container {\n",
              "      display:flex;\n",
              "      flex-wrap:wrap;\n",
              "      gap: 12px;\n",
              "    }\n",
              "\n",
              "    .colab-df-convert {\n",
              "      background-color: #E8F0FE;\n",
              "      border: none;\n",
              "      border-radius: 50%;\n",
              "      cursor: pointer;\n",
              "      display: none;\n",
              "      fill: #1967D2;\n",
              "      height: 32px;\n",
              "      padding: 0 0 0 0;\n",
              "      width: 32px;\n",
              "    }\n",
              "\n",
              "    .colab-df-convert:hover {\n",
              "      background-color: #E2EBFA;\n",
              "      box-shadow: 0px 1px 2px rgba(60, 64, 67, 0.3), 0px 1px 3px 1px rgba(60, 64, 67, 0.15);\n",
              "      fill: #174EA6;\n",
              "    }\n",
              "\n",
              "    [theme=dark] .colab-df-convert {\n",
              "      background-color: #3B4455;\n",
              "      fill: #D2E3FC;\n",
              "    }\n",
              "\n",
              "    [theme=dark] .colab-df-convert:hover {\n",
              "      background-color: #434B5C;\n",
              "      box-shadow: 0px 1px 3px 1px rgba(0, 0, 0, 0.15);\n",
              "      filter: drop-shadow(0px 1px 2px rgba(0, 0, 0, 0.3));\n",
              "      fill: #FFFFFF;\n",
              "    }\n",
              "  </style>\n",
              "\n",
              "      <script>\n",
              "        const buttonEl =\n",
              "          document.querySelector('#df-0917da1b-a2dd-4a55-bbcb-96d7f8ff848d button.colab-df-convert');\n",
              "        buttonEl.style.display =\n",
              "          google.colab.kernel.accessAllowed ? 'block' : 'none';\n",
              "\n",
              "        async function convertToInteractive(key) {\n",
              "          const element = document.querySelector('#df-0917da1b-a2dd-4a55-bbcb-96d7f8ff848d');\n",
              "          const dataTable =\n",
              "            await google.colab.kernel.invokeFunction('convertToInteractive',\n",
              "                                                     [key], {});\n",
              "          if (!dataTable) return;\n",
              "\n",
              "          const docLinkHtml = 'Like what you see? Visit the ' +\n",
              "            '<a target=\"_blank\" href=https://colab.research.google.com/notebooks/data_table.ipynb>data table notebook</a>'\n",
              "            + ' to learn more about interactive tables.';\n",
              "          element.innerHTML = '';\n",
              "          dataTable['output_type'] = 'display_data';\n",
              "          await google.colab.output.renderOutput(dataTable, element);\n",
              "          const docLink = document.createElement('div');\n",
              "          docLink.innerHTML = docLinkHtml;\n",
              "          element.appendChild(docLink);\n",
              "        }\n",
              "      </script>\n",
              "    </div>\n",
              "  </div>\n",
              "  "
            ],
            "text/plain": [
              "    Ano  Mês Modalidade de Cobrança    Acessos\n",
              "0  2022    3               Pós-pago  138629611\n",
              "1  2022    3               Pré-pago  119642952\n",
              "2  2022    2               Pós-pago  137439913\n",
              "3  2022    2               Pré-pago  119004007\n",
              "4  2022    1               Pós-pago  136500794"
            ]
          },
          "execution_count": 23,
          "metadata": {},
          "output_type": "execute_result"
        }
      ],
      "source": [
        "df3_pd.head()"
      ]
    },
    {
      "cell_type": "markdown",
      "metadata": {
        "id": "0CBq2lAg10se"
      },
      "source": [
        "## Duplicated"
      ]
    },
    {
      "cell_type": "code",
      "execution_count": null,
      "metadata": {
        "id": "kArKCRqZ1OtO"
      },
      "outputs": [],
      "source": [
        "df3_test=df3_pd[df3_pd.duplicated()]"
      ]
    },
    {
      "cell_type": "code",
      "execution_count": null,
      "metadata": {
        "colab": {
          "base_uri": "https://localhost:8080/"
        },
        "id": "KzFjVxMQ0IWB",
        "outputId": "c90e47fc-7024-4a75-d5c4-7bb186bf7912"
      },
      "outputs": [
        {
          "data": {
            "text/plain": [
              "Ano                       0\n",
              "Mês                       0\n",
              "Modalidade de Cobrança    0\n",
              "Acessos                   0\n",
              "dtype: int64"
            ]
          },
          "execution_count": 18,
          "metadata": {},
          "output_type": "execute_result"
        }
      ],
      "source": [
        "df3_test.count()"
      ]
    },
    {
      "cell_type": "markdown",
      "metadata": {
        "id": "TueNlMmo2Dmv"
      },
      "source": [
        "## Info"
      ]
    },
    {
      "cell_type": "code",
      "execution_count": null,
      "metadata": {
        "colab": {
          "base_uri": "https://localhost:8080/"
        },
        "id": "Y8YCkuov0IQ8",
        "outputId": "5e7aa376-1699-4d5a-b275-bc15d614b388"
      },
      "outputs": [
        {
          "name": "stdout",
          "output_type": "stream",
          "text": [
            "<class 'pandas.core.frame.DataFrame'>\n",
            "Int64Index: 412 entries, 0 to 411\n",
            "Data columns (total 4 columns):\n",
            " #   Column                  Non-Null Count  Dtype \n",
            "---  ------                  --------------  ----- \n",
            " 0   Ano                     412 non-null    int64 \n",
            " 1   Mês                     412 non-null    int64 \n",
            " 2   Modalidade de Cobrança  412 non-null    object\n",
            " 3   Acessos                 412 non-null    int64 \n",
            "dtypes: int64(3), object(1)\n",
            "memory usage: 16.1+ KB\n"
          ]
        }
      ],
      "source": [
        "df3_pd.info()"
      ]
    },
    {
      "cell_type": "markdown",
      "metadata": {
        "id": "zgXxHu2z2PMG"
      },
      "source": [
        "## Unique "
      ]
    },
    {
      "cell_type": "code",
      "execution_count": null,
      "metadata": {
        "colab": {
          "base_uri": "https://localhost:8080/"
        },
        "id": "w4CISW5D0IOH",
        "outputId": "58954e5a-7fbb-480c-e7b4-ed83fd19037a"
      },
      "outputs": [
        {
          "data": {
            "text/plain": [
              "array([ 3,  2,  1, 12, 11, 10,  9,  8,  7,  6,  5,  4])"
            ]
          },
          "execution_count": 30,
          "metadata": {},
          "output_type": "execute_result"
        }
      ],
      "source": [
        "pd.unique(df3_pd['Mês'])"
      ]
    },
    {
      "cell_type": "markdown",
      "metadata": {
        "id": "megzpK0u4V91"
      },
      "source": [
        "## Rename"
      ]
    },
    {
      "cell_type": "code",
      "execution_count": null,
      "metadata": {
        "id": "3fpYVqGN0IHp"
      },
      "outputs": [],
      "source": [
        "df3_pd.rename(columns = {'Mês':'Mes','Modalidade de Cobrança':'ModalidadeCobranca'},inplace=True)"
      ]
    },
    {
      "cell_type": "code",
      "execution_count": null,
      "metadata": {
        "id": "nG7Jc5Ou0IER"
      },
      "outputs": [],
      "source": [
        "df3_pd.head()"
      ]
    },
    {
      "cell_type": "markdown",
      "metadata": {
        "id": "_Py_TTQM48Pf"
      },
      "source": [
        "## Inserindo Bucket"
      ]
    },
    {
      "cell_type": "code",
      "execution_count": null,
      "metadata": {
        "id": "WpmaZ2Kz0IBQ"
      },
      "outputs": [],
      "source": [
        "df3_pd.to_parquet('gs://soulcode-bc17-telecom/Tratados/Acessos_Telefonia_Movel_Pre_Pos_TotalTratad.gzip',compression='gzip')"
      ]
    },
    {
      "cell_type": "markdown",
      "metadata": {
        "id": "J2ArVQCX6SXl"
      },
      "source": [
        "#**Densidade_Telefonia_Movel.json**"
      ]
    },
    {
      "cell_type": "code",
      "execution_count": null,
      "metadata": {
        "id": "65esdsONDVTN"
      },
      "outputs": [],
      "source": [
        "df4_extrai = pd.read_json('gs://soulcode-bc17-telecom/Densidade_Telefonia_Movel.json')"
      ]
    },
    {
      "cell_type": "code",
      "execution_count": null,
      "metadata": {
        "id": "aKWgWXjkDkqm"
      },
      "outputs": [],
      "source": [
        "df4_pd = df4_extrai.copy()"
      ]
    },
    {
      "cell_type": "code",
      "execution_count": null,
      "metadata": {
        "colab": {
          "base_uri": "https://localhost:8080/"
        },
        "id": "t89nmFbaDvO_",
        "outputId": "2e77d640-204a-434a-9695-354c646b512c"
      },
      "outputs": [
        {
          "data": {
            "text/plain": [
              "Ano                           223046\n",
              "Mês                           223046\n",
              "UF                            222998\n",
              "Município                     222998\n",
              "Código IBGE                   222998\n",
              "Densidade                     222998\n",
              "Nível Geográfico Densidade    223046\n",
              "dtype: int64"
            ]
          },
          "execution_count": 64,
          "metadata": {},
          "output_type": "execute_result"
        }
      ],
      "source": [
        "df4_pd.count()"
      ]
    },
    {
      "cell_type": "code",
      "execution_count": null,
      "metadata": {
        "colab": {
          "base_uri": "https://localhost:8080/"
        },
        "id": "cX-VXF6WD48l",
        "outputId": "fa46710d-318b-43a6-84a1-f7fdeef620bf"
      },
      "outputs": [
        {
          "name": "stdout",
          "output_type": "stream",
          "text": [
            "<class 'pandas.core.frame.DataFrame'>\n",
            "Int64Index: 223046 entries, 0 to 223045\n",
            "Data columns (total 7 columns):\n",
            " #   Column                      Non-Null Count   Dtype  \n",
            "---  ------                      --------------   -----  \n",
            " 0   Ano                         223046 non-null  int64  \n",
            " 1   Mês                         223046 non-null  int64  \n",
            " 2   UF                          222998 non-null  object \n",
            " 3   Município                   222998 non-null  object \n",
            " 4   Código IBGE                 222998 non-null  float64\n",
            " 5   Densidade                   222998 non-null  object \n",
            " 6   Nível Geográfico Densidade  223046 non-null  object \n",
            "dtypes: float64(1), int64(2), object(4)\n",
            "memory usage: 13.6+ MB\n"
          ]
        }
      ],
      "source": [
        "df4_pd.info()"
      ]
    },
    {
      "cell_type": "code",
      "execution_count": null,
      "metadata": {
        "colab": {
          "base_uri": "https://localhost:8080/"
        },
        "id": "w81HgUYqEC8M",
        "outputId": "212fb315-9227-4218-a200-163ff89fc868"
      },
      "outputs": [
        {
          "data": {
            "text/plain": [
              "array(['Brasil', 'UF', 'Municipio'], dtype=object)"
            ]
          },
          "execution_count": 65,
          "metadata": {},
          "output_type": "execute_result"
        }
      ],
      "source": [
        "pd.unique(df4_pd['Nível Geográfico Densidade'])"
      ]
    },
    {
      "cell_type": "code",
      "execution_count": null,
      "metadata": {
        "id": "ns18x6pOajLL"
      },
      "outputs": [],
      "source": [
        "df4_test=df4_pd[df4_pd.duplicated()]"
      ]
    },
    {
      "cell_type": "code",
      "execution_count": null,
      "metadata": {
        "colab": {
          "base_uri": "https://localhost:8080/"
        },
        "id": "0SwO0qdzaq4q",
        "outputId": "33e17275-4390-48f0-c927-23c231e8a0e9"
      },
      "outputs": [
        {
          "data": {
            "text/plain": [
              "Ano                           0\n",
              "Mês                           0\n",
              "UF                            0\n",
              "Município                     0\n",
              "Código IBGE                   0\n",
              "Densidade                     0\n",
              "Nível Geográfico Densidade    0\n",
              "dtype: int64"
            ]
          },
          "execution_count": 56,
          "metadata": {},
          "output_type": "execute_result"
        }
      ],
      "source": [
        "df4_test.count()"
      ]
    },
    {
      "cell_type": "markdown",
      "metadata": {
        "id": "piF0k8dTfqkq"
      },
      "source": [
        "## Rename"
      ]
    },
    {
      "cell_type": "code",
      "execution_count": null,
      "metadata": {
        "id": "06n_V0r3fgoi"
      },
      "outputs": [],
      "source": [
        "df4_pd.rename(columns = {'Mês':'Mes','Município':'Municipio','Código IBGE':'Cod_IBGE','Nível Geográfico Densidade':'NivelGeografico'},inplace=True)"
      ]
    },
    {
      "cell_type": "code",
      "execution_count": null,
      "metadata": {
        "id": "Q3tF2ZW1hnXh"
      },
      "outputs": [],
      "source": [
        "df4_pd.head()"
      ]
    },
    {
      "cell_type": "markdown",
      "metadata": {
        "id": "xRLO2qm8i-eC"
      },
      "source": [
        "## Inserindo no Bucket "
      ]
    },
    {
      "cell_type": "code",
      "execution_count": null,
      "metadata": {
        "id": "Kv0jez64i8nx"
      },
      "outputs": [],
      "source": [
        "df4_pd.to_parquet('gs://soulcode-bc17-telecom/Tratados/Densidade_Telefonia_Movel.gzip',compression='gzip')"
      ]
    },
    {
      "cell_type": "markdown",
      "metadata": {
        "id": "BYYir_Wbt97C"
      },
      "source": [
        "#**Select**\n",
        "Spark SQL"
      ]
    },
    {
      "cell_type": "code",
      "execution_count": null,
      "metadata": {
        "id": "fk_s1JKjuK88"
      },
      "outputs": [],
      "source": [
        "spark = (\n",
        "    SparkSession.builder\n",
        "                .master('local')\n",
        "                .appName('spark-gcs')\n",
        "                .config('spark.ui.port', '4050')\n",
        "                .config(\"spark.jars\", 'https://storage.googleapis.com/hadoop-lib/gcs/gcs-connector-hadoop2-latest.jar')\n",
        "                .getOrCreate()\n",
        ")"
      ]
    },
    {
      "cell_type": "markdown",
      "metadata": {
        "id": "mlDmtrHiuMAZ"
      },
      "source": [
        "### Acessos_Banda_Larga_FixaTratad.parquet\n",
        "df1_spark"
      ]
    },
    {
      "cell_type": "code",
      "execution_count": null,
      "metadata": {
        "id": "KozDlkMVuK14"
      },
      "outputs": [],
      "source": [
        "df1_sp = (spark.read.format(\"parquet\")\n",
        "                .option(\"header\", True)\n",
        "                .option(\"delimiter\", \",\")\n",
        "                .load(\"gs://soulcode-bc17-telecom/Tratados/Acessos_Banda_Larga_FixaTratad.parquet\")\n",
        ")"
      ]
    },
    {
      "cell_type": "code",
      "execution_count": null,
      "metadata": {
        "id": "zu1FJCmYuKxC",
        "colab": {
          "base_uri": "https://localhost:8080/"
        },
        "outputId": "a58a3f06-3401-41f6-d986-7ed616fc64cf"
      },
      "outputs": [
        {
          "output_type": "stream",
          "name": "stdout",
          "text": [
            "+----+\n",
            "| Ano|\n",
            "+----+\n",
            "|2022|\n",
            "+----+\n",
            "\n"
          ]
        }
      ],
      "source": [
        "df1_sp.select('Ano').distinct().show()"
      ]
    },
    {
      "cell_type": "code",
      "source": [
        "df1_sp.select('empresa').distinct().show()"
      ],
      "metadata": {
        "id": "w8KrGFuMS8_3"
      },
      "execution_count": null,
      "outputs": []
    },
    {
      "cell_type": "code",
      "source": [
        "df1_sp.createOrReplaceTempView(\"bandfixa\")"
      ],
      "metadata": {
        "id": "e_3Dn4Umbg_d"
      },
      "execution_count": null,
      "outputs": []
    },
    {
      "cell_type": "code",
      "source": [
        "spark.sql(\"select * from bandfixa\").show(2)"
      ],
      "metadata": {
        "colab": {
          "base_uri": "https://localhost:8080/"
        },
        "id": "ajzZAOS4R6Dq",
        "outputId": "6f13dfb0-781c-4ddf-9fd3-9bc0b9c0d577"
      },
      "execution_count": null,
      "outputs": [
        {
          "output_type": "stream",
          "name": "stdout",
          "text": [
            "+----+---+--------------+--------------------+--------------+---------------+---+-------------+--------+---------------+----------+-------------+---------------+-------+-----------------+\n",
            "| Ano|Mes|GrupoEconomico|             Empresa|          CNPJ|PortePrestadora| UF|    Municipio|Cod_IBGE|FaixaVelocidade|Tecnologia|   MeioAcesso|     TipoPessoa|Acessos|__index_level_0__|\n",
            "+----+---+--------------+--------------------+--------------+---------------+---+-------------+--------+---------------+----------+-------------+---------------+-------+-----------------+\n",
            "|2022|  3|            OI|                  OI|76535764000143|   Grande Porte| RS|Caxias do Sul| 4305108|512kbps a 2Mbps|     ADSL1|Cabo Metálico|Pessoa Jurídica|      2|                0|\n",
            "|2022|  3|        OUTROS|Telecomunicacoes ...|  336701000104|  Pequeno Porte| MG|    Rio Acima| 3154804|512kbps a 2Mbps|      VSAT|     Satélite|Pessoa Jurídica|      1|                1|\n",
            "+----+---+--------------+--------------------+--------------+---------------+---+-------------+--------+---------------+----------+-------------+---------------+-------+-----------------+\n",
            "only showing top 2 rows\n",
            "\n"
          ]
        }
      ]
    },
    {
      "cell_type": "markdown",
      "source": [
        "#### Quantos acessos por UF decrescente "
      ],
      "metadata": {
        "id": "FAi_R4eqxHky"
      }
    },
    {
      "cell_type": "code",
      "source": [
        "spark.sql(\"select uf,sum(acessos) as acessos From bandfixa group by uf order by acessos desc\").show()"
      ],
      "metadata": {
        "colab": {
          "base_uri": "https://localhost:8080/"
        },
        "id": "pdFul6kdLuYi",
        "outputId": "e8688a15-1f51-4aa8-a425-329fbc91810b"
      },
      "execution_count": null,
      "outputs": [
        {
          "output_type": "stream",
          "name": "stdout",
          "text": [
            "+---+--------+\n",
            "| uf| acessos|\n",
            "+---+--------+\n",
            "| SP|38570157|\n",
            "| MG|13497977|\n",
            "| RJ|11003963|\n",
            "| RS| 8741519|\n",
            "| PR| 8683036|\n",
            "| SC| 6876966|\n",
            "| BA| 4502075|\n",
            "| CE| 3942285|\n",
            "| GO| 3527592|\n",
            "| PE| 2493138|\n",
            "| DF| 2388766|\n",
            "| ES| 2240146|\n",
            "| MT| 1949371|\n",
            "| PA| 1864320|\n",
            "| RN| 1803992|\n",
            "| PB| 1672301|\n",
            "| MS| 1467560|\n",
            "| MA| 1379286|\n",
            "| AM| 1352689|\n",
            "| PI| 1067413|\n",
            "+---+--------+\n",
            "only showing top 20 rows\n",
            "\n"
          ]
        }
      ]
    },
    {
      "cell_type": "markdown",
      "source": [
        "#####Pandas graficos "
      ],
      "metadata": {
        "id": "krC1yCJBhiSV"
      }
    },
    {
      "cell_type": "code",
      "source": [
        "df1pd = spark.sql(\"select uf,sum(acessos) as acessos From bandfixa group by uf order by acessos desc\")"
      ],
      "metadata": {
        "id": "dodl769Bhra_"
      },
      "execution_count": null,
      "outputs": []
    },
    {
      "cell_type": "code",
      "source": [
        "df1pd=df1pd.toPandas()"
      ],
      "metadata": {
        "id": "3etSpUruhhdc"
      },
      "execution_count": null,
      "outputs": []
    },
    {
      "cell_type": "code",
      "source": [
        "df1pd.head(1)"
      ],
      "metadata": {
        "colab": {
          "base_uri": "https://localhost:8080/",
          "height": 81
        },
        "id": "zTirVLkFj_kV",
        "outputId": "b083b82c-349a-4ef0-b61a-8ceaa4a9646f"
      },
      "execution_count": null,
      "outputs": [
        {
          "output_type": "execute_result",
          "data": {
            "text/plain": [
              "   uf   acessos\n",
              "0  SP  38570157"
            ],
            "text/html": [
              "\n",
              "  <div id=\"df-05e44d4b-5881-4f41-a369-ff93c632eeab\">\n",
              "    <div class=\"colab-df-container\">\n",
              "      <div>\n",
              "<style scoped>\n",
              "    .dataframe tbody tr th:only-of-type {\n",
              "        vertical-align: middle;\n",
              "    }\n",
              "\n",
              "    .dataframe tbody tr th {\n",
              "        vertical-align: top;\n",
              "    }\n",
              "\n",
              "    .dataframe thead th {\n",
              "        text-align: right;\n",
              "    }\n",
              "</style>\n",
              "<table border=\"1\" class=\"dataframe\">\n",
              "  <thead>\n",
              "    <tr style=\"text-align: right;\">\n",
              "      <th></th>\n",
              "      <th>uf</th>\n",
              "      <th>acessos</th>\n",
              "    </tr>\n",
              "  </thead>\n",
              "  <tbody>\n",
              "    <tr>\n",
              "      <th>0</th>\n",
              "      <td>SP</td>\n",
              "      <td>38570157</td>\n",
              "    </tr>\n",
              "  </tbody>\n",
              "</table>\n",
              "</div>\n",
              "      <button class=\"colab-df-convert\" onclick=\"convertToInteractive('df-05e44d4b-5881-4f41-a369-ff93c632eeab')\"\n",
              "              title=\"Convert this dataframe to an interactive table.\"\n",
              "              style=\"display:none;\">\n",
              "        \n",
              "  <svg xmlns=\"http://www.w3.org/2000/svg\" height=\"24px\"viewBox=\"0 0 24 24\"\n",
              "       width=\"24px\">\n",
              "    <path d=\"M0 0h24v24H0V0z\" fill=\"none\"/>\n",
              "    <path d=\"M18.56 5.44l.94 2.06.94-2.06 2.06-.94-2.06-.94-.94-2.06-.94 2.06-2.06.94zm-11 1L8.5 8.5l.94-2.06 2.06-.94-2.06-.94L8.5 2.5l-.94 2.06-2.06.94zm10 10l.94 2.06.94-2.06 2.06-.94-2.06-.94-.94-2.06-.94 2.06-2.06.94z\"/><path d=\"M17.41 7.96l-1.37-1.37c-.4-.4-.92-.59-1.43-.59-.52 0-1.04.2-1.43.59L10.3 9.45l-7.72 7.72c-.78.78-.78 2.05 0 2.83L4 21.41c.39.39.9.59 1.41.59.51 0 1.02-.2 1.41-.59l7.78-7.78 2.81-2.81c.8-.78.8-2.07 0-2.86zM5.41 20L4 18.59l7.72-7.72 1.47 1.35L5.41 20z\"/>\n",
              "  </svg>\n",
              "      </button>\n",
              "      \n",
              "  <style>\n",
              "    .colab-df-container {\n",
              "      display:flex;\n",
              "      flex-wrap:wrap;\n",
              "      gap: 12px;\n",
              "    }\n",
              "\n",
              "    .colab-df-convert {\n",
              "      background-color: #E8F0FE;\n",
              "      border: none;\n",
              "      border-radius: 50%;\n",
              "      cursor: pointer;\n",
              "      display: none;\n",
              "      fill: #1967D2;\n",
              "      height: 32px;\n",
              "      padding: 0 0 0 0;\n",
              "      width: 32px;\n",
              "    }\n",
              "\n",
              "    .colab-df-convert:hover {\n",
              "      background-color: #E2EBFA;\n",
              "      box-shadow: 0px 1px 2px rgba(60, 64, 67, 0.3), 0px 1px 3px 1px rgba(60, 64, 67, 0.15);\n",
              "      fill: #174EA6;\n",
              "    }\n",
              "\n",
              "    [theme=dark] .colab-df-convert {\n",
              "      background-color: #3B4455;\n",
              "      fill: #D2E3FC;\n",
              "    }\n",
              "\n",
              "    [theme=dark] .colab-df-convert:hover {\n",
              "      background-color: #434B5C;\n",
              "      box-shadow: 0px 1px 3px 1px rgba(0, 0, 0, 0.15);\n",
              "      filter: drop-shadow(0px 1px 2px rgba(0, 0, 0, 0.3));\n",
              "      fill: #FFFFFF;\n",
              "    }\n",
              "  </style>\n",
              "\n",
              "      <script>\n",
              "        const buttonEl =\n",
              "          document.querySelector('#df-05e44d4b-5881-4f41-a369-ff93c632eeab button.colab-df-convert');\n",
              "        buttonEl.style.display =\n",
              "          google.colab.kernel.accessAllowed ? 'block' : 'none';\n",
              "\n",
              "        async function convertToInteractive(key) {\n",
              "          const element = document.querySelector('#df-05e44d4b-5881-4f41-a369-ff93c632eeab');\n",
              "          const dataTable =\n",
              "            await google.colab.kernel.invokeFunction('convertToInteractive',\n",
              "                                                     [key], {});\n",
              "          if (!dataTable) return;\n",
              "\n",
              "          const docLinkHtml = 'Like what you see? Visit the ' +\n",
              "            '<a target=\"_blank\" href=https://colab.research.google.com/notebooks/data_table.ipynb>data table notebook</a>'\n",
              "            + ' to learn more about interactive tables.';\n",
              "          element.innerHTML = '';\n",
              "          dataTable['output_type'] = 'display_data';\n",
              "          await google.colab.output.renderOutput(dataTable, element);\n",
              "          const docLink = document.createElement('div');\n",
              "          docLink.innerHTML = docLinkHtml;\n",
              "          element.appendChild(docLink);\n",
              "        }\n",
              "      </script>\n",
              "    </div>\n",
              "  </div>\n",
              "  "
            ]
          },
          "metadata": {},
          "execution_count": 31
        }
      ]
    },
    {
      "cell_type": "code",
      "source": [
        "df1pd.plot(x='uf', y='acessos',kind='barh',figsize=(15,7),sharey=True)"
      ],
      "metadata": {
        "id": "-uznjRJ5h8dL"
      },
      "execution_count": null,
      "outputs": []
    },
    {
      "cell_type": "markdown",
      "source": [
        "#### Porcentagem de acessos por UF"
      ],
      "metadata": {
        "id": "67WF-wxQxgNh"
      }
    },
    {
      "cell_type": "code",
      "source": [
        "df1_sp.createOrReplaceTempView(\"bandfixa\")"
      ],
      "metadata": {
        "id": "dVbramqkYbFw"
      },
      "execution_count": null,
      "outputs": []
    },
    {
      "cell_type": "code",
      "source": [
        "spark.sql(\"select uf,sum(acessos) as acessos,round((sum(acessos)/122858439)*100,2) as porcent From bandfixa group by uf order by porcent desc \").show(3)"
      ],
      "metadata": {
        "colab": {
          "base_uri": "https://localhost:8080/"
        },
        "id": "BS6SPGUUdCVm",
        "outputId": "b567ad72-b897-48b9-ebf0-77882bc2a891"
      },
      "execution_count": null,
      "outputs": [
        {
          "output_type": "stream",
          "name": "stdout",
          "text": [
            "+---+--------+-------+\n",
            "| uf| acessos|porcent|\n",
            "+---+--------+-------+\n",
            "| SP|38570157|  31.39|\n",
            "| MG|13497977|  10.99|\n",
            "| RJ|11003963|   8.96|\n",
            "+---+--------+-------+\n",
            "only showing top 3 rows\n",
            "\n"
          ]
        }
      ]
    },
    {
      "cell_type": "markdown",
      "source": [
        "#####Pandas graficos "
      ],
      "metadata": {
        "id": "tu-D0vPzoOmh"
      }
    },
    {
      "cell_type": "code",
      "source": [
        "df12pd=spark.sql(\"select uf,sum(acessos) as acessos,round((sum(acessos)/122858439)*100,2) as porcent From bandfixa group by uf order by porcent desc \")"
      ],
      "metadata": {
        "id": "EgYea8ruoj2q"
      },
      "execution_count": null,
      "outputs": []
    },
    {
      "cell_type": "code",
      "source": [
        "df12pd=df12pd.toPandas()"
      ],
      "metadata": {
        "id": "K395BbrLuVjU"
      },
      "execution_count": null,
      "outputs": []
    },
    {
      "cell_type": "code",
      "source": [
        "df12pd.plot(x='uf', y='porcent',kind='bar',color='porcent')"
      ],
      "metadata": {
        "id": "NY8C7XFXtkgw"
      },
      "execution_count": null,
      "outputs": []
    },
    {
      "cell_type": "markdown",
      "source": [
        "###Porcentagem de acessos por empresa"
      ],
      "metadata": {
        "id": "0PzL3h98x4eA"
      }
    },
    {
      "cell_type": "code",
      "source": [
        "spark.sql(\"select empresa,sum(acessos) as acessos,round((sum(acessos)/122858439)*100,2) as porcent From bandfixa group by empresa order by porcent desc \").show(5)"
      ],
      "metadata": {
        "colab": {
          "base_uri": "https://localhost:8080/"
        },
        "id": "tLaMOidugNLH",
        "outputId": "244ca512-c96d-4d4d-9246-dba57f4cd52e"
      },
      "execution_count": null,
      "outputs": [
        {
          "output_type": "stream",
          "name": "stdout",
          "text": [
            "+--------------------+--------+-------+\n",
            "|             empresa| acessos|porcent|\n",
            "+--------------------+--------+-------+\n",
            "|               CLARO|29138258|  23.72|\n",
            "|                VIVO|18949934|  15.42|\n",
            "|                  OI|15426785|  12.56|\n",
            "|Brisanet Servicos...| 2654973|   2.16|\n",
            "|ALGAR (CTBC TELECOM)| 2253743|   1.83|\n",
            "+--------------------+--------+-------+\n",
            "only showing top 5 rows\n",
            "\n"
          ]
        }
      ]
    },
    {
      "cell_type": "markdown",
      "source": [
        "#####Pandas graficos \n"
      ],
      "metadata": {
        "id": "-Jd1-Rzi2eWJ"
      }
    },
    {
      "cell_type": "code",
      "source": [
        "spark.sql(\"select empresa,sum(acessos) as acessos,round((sum(acessos)/122858439)*100,2) as porcent From bandfixa where acessos between 29138258 and 15426785   group by empresa order by porcent desc \").show()"
      ],
      "metadata": {
        "colab": {
          "base_uri": "https://localhost:8080/"
        },
        "id": "Uz2FGTku2nLr",
        "outputId": "c99837e0-7d06-4986-84b6-47613ea6c88b"
      },
      "execution_count": null,
      "outputs": [
        {
          "output_type": "stream",
          "name": "stdout",
          "text": [
            "+-------+-------+-------+\n",
            "|empresa|acessos|porcent|\n",
            "+-------+-------+-------+\n",
            "+-------+-------+-------+\n",
            "\n"
          ]
        }
      ]
    },
    {
      "cell_type": "code",
      "source": [
        "df13pd=df13pd.toPandas()"
      ],
      "metadata": {
        "id": "65dbQley23Ge"
      },
      "execution_count": null,
      "outputs": []
    },
    {
      "cell_type": "code",
      "source": [
        "df13=df13pd['acessos']>=2253743"
      ],
      "metadata": {
        "id": "jwRQCuFd-6qX"
      },
      "execution_count": null,
      "outputs": []
    },
    {
      "cell_type": "code",
      "source": [
        "df13.head()"
      ],
      "metadata": {
        "colab": {
          "base_uri": "https://localhost:8080/"
        },
        "id": "fRacLuY6CDPF",
        "outputId": "e5964842-10df-4ae5-9ef4-67d861db76c9"
      },
      "execution_count": null,
      "outputs": [
        {
          "output_type": "execute_result",
          "data": {
            "text/plain": [
              "0    True\n",
              "1    True\n",
              "2    True\n",
              "3    True\n",
              "4    True\n",
              "Name: acessos, dtype: bool"
            ]
          },
          "metadata": {},
          "execution_count": 139
        }
      ]
    },
    {
      "cell_type": "code",
      "source": [
        "df13.plot(x='empresa',y='porcent',kind='bar')"
      ],
      "metadata": {
        "id": "E8LVve9b3XU8"
      },
      "execution_count": null,
      "outputs": []
    },
    {
      "cell_type": "markdown",
      "source": [
        "### Porcentagem de acessos por tecnologia e meio de acesso "
      ],
      "metadata": {
        "id": "fOlzzgDBytpn"
      }
    },
    {
      "cell_type": "code",
      "source": [
        "spark.sql(\"select Tecnologia,meioacesso, sum(acessos) as acessos,round((sum(acessos)/122858439)*100,2) as porcent From bandfixa group by tecnologia, meioacesso  order by porcent desc \").show(7)"
      ],
      "metadata": {
        "colab": {
          "base_uri": "https://localhost:8080/"
        },
        "id": "Ze7DeFlPhH-B",
        "outputId": "05d12d70-3641-4069-c1ab-f760d4df74ce"
      },
      "execution_count": null,
      "outputs": [
        {
          "output_type": "stream",
          "name": "stdout",
          "text": [
            "+----------+-------------+--------+-------+\n",
            "|Tecnologia|   meioacesso| acessos|porcent|\n",
            "+----------+-------------+--------+-------+\n",
            "|      FTTH|        Fibra|72030841|  58.63|\n",
            "|       HFC| Cabo Coaxial|27106018|  22.06|\n",
            "|     ADSL2|Cabo Metálico| 7497119|    6.1|\n",
            "|  ETHERNET|        Fibra| 4056768|    3.3|\n",
            "|     Wi-Fi|        Rádio| 1816009|   1.48|\n",
            "|  ETHERNET|        Rádio| 1704919|   1.39|\n",
            "|  ETHERNET|Cabo Metálico| 1541481|   1.25|\n",
            "+----------+-------------+--------+-------+\n",
            "only showing top 7 rows\n",
            "\n"
          ]
        }
      ]
    },
    {
      "cell_type": "markdown",
      "source": [
        "### Porcentagem acessos por meio de acessos "
      ],
      "metadata": {
        "id": "1HAKhNXozjtf"
      }
    },
    {
      "cell_type": "code",
      "source": [
        "spark.sql(\"select meioacesso, sum(acessos) as acessos,round((sum(acessos)/122858439)*100,2) as porcent From bandfixa group by meioacesso  order by porcent desc \").show(7)"
      ],
      "metadata": {
        "colab": {
          "base_uri": "https://localhost:8080/"
        },
        "id": "kDDXPgEainDY",
        "outputId": "ee6f2359-6af0-4fa6-ab5c-05ff019239de"
      },
      "execution_count": null,
      "outputs": [
        {
          "output_type": "stream",
          "name": "stdout",
          "text": [
            "+-------------+--------+-------+\n",
            "|   meioacesso| acessos|porcent|\n",
            "+-------------+--------+-------+\n",
            "|        Fibra|78092548|  63.56|\n",
            "| Cabo Coaxial|27337039|  22.25|\n",
            "|Cabo Metálico|11470946|   9.34|\n",
            "|        Rádio| 5043698|   4.11|\n",
            "|     Satélite|  914208|   0.74|\n",
            "+-------------+--------+-------+\n",
            "\n"
          ]
        }
      ]
    },
    {
      "cell_type": "markdown",
      "source": [
        "### Porcentagem de acessos por faixa de velocidade "
      ],
      "metadata": {
        "id": "X6mpkPK10cMS"
      }
    },
    {
      "cell_type": "code",
      "source": [
        "spark.sql(\"select faixavelocidadde ,sum(acessos) as acessos,round((sum(acessos)/122858439)*100,2) as porcent From bandfixa group by faixavelocidade order by porcent desc \").show(7)"
      ],
      "metadata": {
        "id": "Gw1_xbkCkE7D"
      },
      "execution_count": null,
      "outputs": []
    },
    {
      "cell_type": "markdown",
      "source": [
        "**Porcentagem de acessos por UF a velocidade > 34Mbps**"
      ],
      "metadata": {
        "id": "7kHNgPiU_dpD"
      }
    },
    {
      "cell_type": "code",
      "source": [
        "spark.sql(\"select uf,sum(acessos) as acessos,round((sum(acessos)/99320322)*100,2) as porcent From bandfixa where faixavelocidade='> 34Mbps' group by uf order by porcent desc \").show(5)"
      ],
      "metadata": {
        "colab": {
          "base_uri": "https://localhost:8080/"
        },
        "id": "CNRacHpm_BjK",
        "outputId": "65a86c83-0988-433a-f97b-348511735aac"
      },
      "execution_count": null,
      "outputs": [
        {
          "output_type": "stream",
          "name": "stdout",
          "text": [
            "+---+--------+-------+\n",
            "| uf| acessos|porcent|\n",
            "+---+--------+-------+\n",
            "| SP|32548757|  32.77|\n",
            "| MG|10715173|  10.79|\n",
            "| RJ| 9181128|   9.24|\n",
            "| RS| 6959905|   7.01|\n",
            "| PR| 6847625|   6.89|\n",
            "+---+--------+-------+\n",
            "only showing top 5 rows\n",
            "\n"
          ]
        }
      ]
    },
    {
      "cell_type": "markdown",
      "source": [
        "**Porcentagem de acessos por UF a velocidade 12Mbps a 34Mbps**\n",
        "\n",
        "\n"
      ],
      "metadata": {
        "id": "FD1uENvE-yh_"
      }
    },
    {
      "cell_type": "code",
      "source": [
        "spark.sql(\"select uf,sum(acessos) as acessos,round((sum(acessos)/9857714)*100,2) as porcent From bandfixa where faixavelocidade='12Mbps a 34Mbps' group by uf order by porcent desc \").show(5)"
      ],
      "metadata": {
        "colab": {
          "base_uri": "https://localhost:8080/"
        },
        "id": "Q_WLxOw2-Nno",
        "outputId": "49d3582f-e55b-4018-a899-4caee67350c9"
      },
      "execution_count": null,
      "outputs": [
        {
          "output_type": "stream",
          "name": "stdout",
          "text": [
            "+---+-------+-------+\n",
            "| uf|acessos|porcent|\n",
            "+---+-------+-------+\n",
            "| SP|2014711|  20.44|\n",
            "| MG|1144589|  11.61|\n",
            "| BA| 884924|   8.98|\n",
            "| PR| 851667|   8.64|\n",
            "| RJ| 850718|   8.63|\n",
            "+---+-------+-------+\n",
            "only showing top 5 rows\n",
            "\n"
          ]
        }
      ]
    },
    {
      "cell_type": "markdown",
      "source": [
        "**Porcentagem de acessos por UF a velocidade 2Mbps a 12Mbps**\n"
      ],
      "metadata": {
        "id": "1Ocy340n90PZ"
      }
    },
    {
      "cell_type": "code",
      "source": [
        "spark.sql(\"select uf,sum(acessos) as acessos,round((sum(acessos)/9510361)*100,2) as porcent From bandfixa where faixavelocidade='2Mbps a 12Mbps' group by uf order by porcent desc \").show(5)"
      ],
      "metadata": {
        "colab": {
          "base_uri": "https://localhost:8080/"
        },
        "id": "fYTs866T9O2y",
        "outputId": "ec7cc6e5-16b9-4ed0-f910-ea87ef1b90e9"
      },
      "execution_count": null,
      "outputs": [
        {
          "output_type": "stream",
          "name": "stdout",
          "text": [
            "+---+-------+-------+\n",
            "| uf|acessos|porcent|\n",
            "+---+-------+-------+\n",
            "| SP|2274833|  23.92|\n",
            "| MG|1265958|  13.31|\n",
            "| RS| 815782|   8.58|\n",
            "| PR| 729387|   7.67|\n",
            "| RJ| 644927|   6.78|\n",
            "+---+-------+-------+\n",
            "only showing top 5 rows\n",
            "\n"
          ]
        }
      ]
    },
    {
      "cell_type": "markdown",
      "source": [
        "**Porcentagem de acessos por UF a velocidade 512kbps a 2Mbps**\n",
        "\n",
        "\n"
      ],
      "metadata": {
        "id": "b2k8GmGF1vEW"
      }
    },
    {
      "cell_type": "code",
      "source": [
        "spark.sql(\"select uf,sum(acessos) as acessos,round((sum(acessos)/3859448)*100,2) as porcent From bandfixa where faixavelocidade='512kbps a 2Mbps' group by uf order by porcent desc \").show(5)"
      ],
      "metadata": {
        "colab": {
          "base_uri": "https://localhost:8080/"
        },
        "id": "RYm8SqzWmIkE",
        "outputId": "d4dd7b74-af34-41f4-e1a3-c6a86c28ed27"
      },
      "execution_count": null,
      "outputs": [
        {
          "output_type": "stream",
          "name": "stdout",
          "text": [
            "+---+-------+-------+\n",
            "| uf|acessos|porcent|\n",
            "+---+-------+-------+\n",
            "| SP|1684775|  43.65|\n",
            "| MG| 337801|   8.75|\n",
            "| RJ| 291216|   7.55|\n",
            "| PR| 233830|   6.06|\n",
            "| RS| 197523|   5.12|\n",
            "+---+-------+-------+\n",
            "only showing top 5 rows\n",
            "\n"
          ]
        }
      ]
    },
    {
      "cell_type": "markdown",
      "source": [
        "**Porcentagem de acessos por UF a velocidade 0Kbps a 512Kbps**"
      ],
      "metadata": {
        "id": "KVCPXTEi6bEu"
      }
    },
    {
      "cell_type": "code",
      "source": [
        "spark.sql(\"select uf,sum(acessos) as acessos,round((sum(acessos)/310594)*100,2) as porcent From bandfixa where faixavelocidade='0Kbps a 512Kbps' group by uf order by porcent desc \").show(5)"
      ],
      "metadata": {
        "colab": {
          "base_uri": "https://localhost:8080/"
        },
        "id": "2iqQ6gpSl5-d",
        "outputId": "b3719073-4647-465d-d6cd-1f3cd0ae4d75"
      },
      "execution_count": null,
      "outputs": [
        {
          "output_type": "stream",
          "name": "stdout",
          "text": [
            "+---+-------+-------+\n",
            "| uf|acessos|porcent|\n",
            "+---+-------+-------+\n",
            "| SP|  47081|  15.16|\n",
            "| RJ|  35974|  11.58|\n",
            "| MG|  34456|  11.09|\n",
            "| RS|  28143|   9.06|\n",
            "| PR|  20527|   6.61|\n",
            "+---+-------+-------+\n",
            "only showing top 5 rows\n",
            "\n"
          ]
        }
      ]
    },
    {
      "cell_type": "markdown",
      "source": [
        "###Porcentagem de acesso em SP a faixa de velocidade"
      ],
      "metadata": {
        "id": "QXeKQAJy5Bzt"
      }
    },
    {
      "cell_type": "code",
      "source": [
        "#@title Texto de título padrão\n",
        "spark.sql(\"select  faixavelocidade, sum(acessos) as acessos,round((sum(acessos)/38570157)*100,2) as porcent From bandfixa where uf='SP' group by faixavelocidade order by porcent desc \").show(7)"
      ],
      "metadata": {
        "colab": {
          "base_uri": "https://localhost:8080/"
        },
        "id": "2sRDMyH0pID8",
        "outputId": "833a6384-3304-4ff2-ae97-7364b05cc2d6"
      },
      "execution_count": null,
      "outputs": [
        {
          "output_type": "stream",
          "name": "stdout",
          "text": [
            "+---------------+--------+-------+\n",
            "|faixavelocidade| acessos|porcent|\n",
            "+---------------+--------+-------+\n",
            "|       > 34Mbps|32548757|  84.39|\n",
            "| 2Mbps a 12Mbps| 2274833|    5.9|\n",
            "|12Mbps a 34Mbps| 2014711|   5.22|\n",
            "|512kbps a 2Mbps| 1684775|   4.37|\n",
            "|0Kbps a 512Kbps|   47081|   0.12|\n",
            "+---------------+--------+-------+\n",
            "\n"
          ]
        }
      ]
    },
    {
      "cell_type": "markdown",
      "source": [
        "Ordenando Faixa de Velocidade no estado de SP no mês 3 "
      ],
      "metadata": {
        "id": "RKxgN79hjQT7"
      }
    },
    {
      "cell_type": "code",
      "source": [
        "spark.sql(\"select Ano, Mes,Empresa , UF ,FaixaVelocidade from bandfixa where Mes == '3' and Uf = 'SP' order by FaixaVelocidade ;\").show(10)"
      ],
      "metadata": {
        "id": "7Fpd8PX3YX4H"
      },
      "execution_count": null,
      "outputs": []
    },
    {
      "cell_type": "markdown",
      "source": [
        "contagem de tecnologia por uf"
      ],
      "metadata": {
        "id": "eIwaV9noxr4P"
      }
    },
    {
      "cell_type": "code",
      "source": [
        "spark.sql(\"select UF, tecnologia, count(Tecnologia) as countTec from bandfixa group by uf, tecnologia order by countTec desc ;\").show()"
      ],
      "metadata": {
        "colab": {
          "base_uri": "https://localhost:8080/"
        },
        "id": "k6HWoLP9mZ6n",
        "outputId": "e124d792-0653-40e5-db4b-d986e59c8236"
      },
      "execution_count": null,
      "outputs": [
        {
          "output_type": "stream",
          "name": "stdout",
          "text": [
            "+---+----------+--------+\n",
            "| UF|tecnologia|countTec|\n",
            "+---+----------+--------+\n",
            "| SP|      FTTH|   93092|\n",
            "| MG|      FTTH|   76254|\n",
            "| RS|      FTTH|   51832|\n",
            "| SP|  ETHERNET|   44379|\n",
            "| SC|      FTTH|   44051|\n",
            "| RS|  ETHERNET|   38227|\n",
            "| PR|      FTTH|   37775|\n",
            "| SP|     ADSL2|   29972|\n",
            "| MG|  ETHERNET|   23393|\n",
            "| MG|      VSAT|   20858|\n",
            "| PR|  ETHERNET|   20609|\n",
            "| BA|      FTTH|   20419|\n",
            "| MG|     Wi-Fi|   20292|\n",
            "| SC|  ETHERNET|   19716|\n",
            "| CE|      FTTH|   18794|\n",
            "| RJ|      FTTH|   18542|\n",
            "| RJ|  ETHERNET|   15170|\n",
            "| GO|      FTTH|   14857|\n",
            "| MG|     ADSL1|   14706|\n",
            "| SP|       HFC|   14256|\n",
            "+---+----------+--------+\n",
            "only showing top 20 rows\n",
            "\n"
          ]
        }
      ]
    },
    {
      "cell_type": "markdown",
      "source": [
        "### Acessos_MovelTratad.parquet"
      ],
      "metadata": {
        "id": "YHfLcvA5Ct5u"
      }
    },
    {
      "cell_type": "code",
      "source": [
        "df2_sp = (spark.read.format(\"parquet\")\n",
        "                .option(\"header\", True)\n",
        "                .option(\"delimiter\", \",\")\n",
        "                .load(\"gs://soulcode-bc17-telecom/Tratados/Acessos_MovelTratad.parquet\")\n",
        ")"
      ],
      "metadata": {
        "id": "PtabPk-n2yoC"
      },
      "execution_count": null,
      "outputs": []
    },
    {
      "cell_type": "code",
      "source": [
        "df2_sp.show(4)"
      ],
      "metadata": {
        "colab": {
          "base_uri": "https://localhost:8080/"
        },
        "id": "pdN208ggMKH6",
        "outputId": "93428437-fb1c-4cd7-ad6d-e322d39501a9"
      },
      "execution_count": null,
      "outputs": [
        {
          "output_type": "stream",
          "name": "stdout",
          "text": [
            "+----+---+-------+---+--------------+------------------+----------+-----------------+---------------+-------+-------+-----------------+\n",
            "| Ano|Mes|Empresa| UF|     Municipio|ModalidadeCobranca|Tecnologia|TecnologiaGeracao|     TipoPessoa|Produto|Acessos|__index_level_0__|\n",
            "+----+---+-------+---+--------------+------------------+----------+-----------------+---------------+-------+-------+-----------------+\n",
            "|2021| 12|  CLARO| RS|Estância Velha|          Pós-pago|       LTE|               4G|Pessoa Jurídica|    M2M|      4|                0|\n",
            "|2021| 12|  CLARO| SP|      Botucatu|          Pós-pago|     WCDMA|               3G|Pessoa Jurídica|    M2M|      5|                1|\n",
            "|2021| 12|  CLARO| RS|    Sobradinho|          Pós-pago|       LTE|               4G|Pessoa Jurídica|    M2M|      1|                2|\n",
            "|2021| 12|  CLARO| PR|       Maringá|          Pós-pago|     WCDMA|               3G|Pessoa Jurídica|    M2M|     91|                3|\n",
            "+----+---+-------+---+--------------+------------------+----------+-----------------+---------------+-------+-------+-----------------+\n",
            "only showing top 4 rows\n",
            "\n"
          ]
        }
      ]
    },
    {
      "cell_type": "code",
      "source": [
        "df2_sp.select('Ano').distinct().show()"
      ],
      "metadata": {
        "colab": {
          "base_uri": "https://localhost:8080/"
        },
        "id": "vX_P2XgOTUFm",
        "outputId": "5f752d4e-d156-4e63-ddd4-c137579752e0"
      },
      "execution_count": null,
      "outputs": [
        {
          "output_type": "stream",
          "name": "stdout",
          "text": [
            "+----+\n",
            "| Ano|\n",
            "+----+\n",
            "|2021|\n",
            "|2022|\n",
            "+----+\n",
            "\n"
          ]
        }
      ]
    },
    {
      "cell_type": "code",
      "source": [
        "df2_sp.createOrReplaceTempView(\"acesMovel\")"
      ],
      "metadata": {
        "id": "2wPhIOqTcBmU"
      },
      "execution_count": null,
      "outputs": []
    },
    {
      "cell_type": "markdown",
      "source": [
        "### Acessos_Telefonia_Movel_Pre_Pos_TotalTratad.parquet\n",
        "df3_sp"
      ],
      "metadata": {
        "id": "8YczWluHDBqu"
      }
    },
    {
      "cell_type": "code",
      "source": [
        "df3_sp = (spark.read.format(\"parquet\")\n",
        "                .option(\"header\", True)\n",
        "                .option(\"delimiter\", \",\")\n",
        "                .load(\"gs://soulcode-bc17-telecom/Tratados/Acessos_Telefonia_Movel_Pre_Pos_TotalTratad.parquet\")\n",
        ")"
      ],
      "metadata": {
        "id": "xylT6xHwDA3F"
      },
      "execution_count": null,
      "outputs": []
    },
    {
      "cell_type": "code",
      "source": [
        "df3_sp.show(1)"
      ],
      "metadata": {
        "colab": {
          "base_uri": "https://localhost:8080/"
        },
        "id": "Wif6n6HmMC0i",
        "outputId": "c1ba4b64-3a60-46db-be24-786837c9da3f"
      },
      "execution_count": null,
      "outputs": [
        {
          "output_type": "stream",
          "name": "stdout",
          "text": [
            "+----+---+------------------+---------+-----------------+\n",
            "| Ano|Mes|ModalidadeCobranca|  Acessos|__index_level_0__|\n",
            "+----+---+------------------+---------+-----------------+\n",
            "|2022|  3|          Pós-pago|138629611|                0|\n",
            "+----+---+------------------+---------+-----------------+\n",
            "only showing top 1 row\n",
            "\n"
          ]
        }
      ]
    },
    {
      "cell_type": "code",
      "source": [
        "df3_sp.select('mes').distinct().show()"
      ],
      "metadata": {
        "colab": {
          "base_uri": "https://localhost:8080/"
        },
        "id": "HvN6V4N2UGx2",
        "outputId": "5859b5a5-d312-4fc9-839a-aeaa3091bba7"
      },
      "execution_count": null,
      "outputs": [
        {
          "output_type": "stream",
          "name": "stdout",
          "text": [
            "+---+\n",
            "|mes|\n",
            "+---+\n",
            "|  7|\n",
            "|  6|\n",
            "|  9|\n",
            "|  5|\n",
            "|  1|\n",
            "| 10|\n",
            "|  3|\n",
            "| 12|\n",
            "|  8|\n",
            "| 11|\n",
            "|  2|\n",
            "|  4|\n",
            "+---+\n",
            "\n"
          ]
        }
      ]
    },
    {
      "cell_type": "code",
      "source": [
        "df3_sp.createOrReplaceGlobalTempView(\"acesmovel\")"
      ],
      "metadata": {
        "id": "-MwiyXIIcO-z"
      },
      "execution_count": null,
      "outputs": []
    },
    {
      "cell_type": "markdown",
      "source": [
        "### Densidade_Telefonia_Movel.parque\n",
        "df4_sp"
      ],
      "metadata": {
        "id": "cDeoki5aF5FW"
      }
    },
    {
      "cell_type": "code",
      "source": [
        "df4_sp = (spark.read.format(\"parquet\")\n",
        "                .option(\"header\", True)\n",
        "                .option(\"delimiter\", \",\")\n",
        "                .load(\"gs://soulcode-bc17-telecom/Tratados/Densidade_Telefonia_Movel.parquet\")\n",
        ")"
      ],
      "metadata": {
        "id": "6JMi4OrvGC9c"
      },
      "execution_count": null,
      "outputs": []
    },
    {
      "cell_type": "code",
      "source": [
        "df4_sp.show(1)"
      ],
      "metadata": {
        "colab": {
          "base_uri": "https://localhost:8080/"
        },
        "id": "3ez3Rc3nL9k6",
        "outputId": "9c08dd73-019f-4798-bdaf-a57f0859fe2e"
      },
      "execution_count": null,
      "outputs": [
        {
          "output_type": "stream",
          "name": "stdout",
          "text": [
            "+----+---+------+---------+--------+---------------+---------------+-----------------+\n",
            "| Ano|Mes|    UF|Municipio|Cod_IBGE|      Densidade|NivelGeografico|__index_level_0__|\n",
            "+----+---+------+---------+--------+---------------+---------------+-----------------+\n",
            "|2022|  3|Brasil|   Brasil|     0.0|121,96723524202|         Brasil|                0|\n",
            "+----+---+------+---------+--------+---------------+---------------+-----------------+\n",
            "only showing top 1 row\n",
            "\n"
          ]
        }
      ]
    },
    {
      "cell_type": "code",
      "source": [
        "df4_sp.select('Mes').distinct().show()"
      ],
      "metadata": {
        "colab": {
          "base_uri": "https://localhost:8080/"
        },
        "id": "fPVuR_91VcZr",
        "outputId": "eec5af46-4b58-470e-c527-1e3b4956267f"
      },
      "execution_count": null,
      "outputs": [
        {
          "output_type": "stream",
          "name": "stdout",
          "text": [
            "+---+\n",
            "|Mes|\n",
            "+---+\n",
            "|  7|\n",
            "|  6|\n",
            "|  9|\n",
            "|  5|\n",
            "|  1|\n",
            "| 10|\n",
            "|  3|\n",
            "| 12|\n",
            "|  8|\n",
            "| 11|\n",
            "|  2|\n",
            "|  4|\n",
            "+---+\n",
            "\n"
          ]
        }
      ]
    },
    {
      "cell_type": "code",
      "source": [
        "df4_sp.createOrReplaceTempView(\"densTel\")"
      ],
      "metadata": {
        "id": "kpw8KY8RcXaN"
      },
      "execution_count": null,
      "outputs": []
    },
    {
      "cell_type": "markdown",
      "source": [
        "### Meu_Municipio_AcessosTratad.parquet\n",
        "df5_sp"
      ],
      "metadata": {
        "id": "b8yI740NIDeG"
      }
    },
    {
      "cell_type": "code",
      "source": [
        "df5_sp = (spark.read.format(\"parquet\")\n",
        "                .option(\"header\", True)\n",
        "                .option(\"delimiter\", \",\")\n",
        "                .load(\"gs://soulcode-bc17-telecom/Tratados/Meu_Municipio_AcessosTratad.parquet\")\n",
        ")"
      ],
      "metadata": {
        "id": "90ln3n8HG0Ft"
      },
      "execution_count": null,
      "outputs": []
    },
    {
      "cell_type": "code",
      "source": [
        "df5_sp.show(1)"
      ],
      "metadata": {
        "colab": {
          "base_uri": "https://localhost:8080/"
        },
        "id": "vQFfv0jUL2aS",
        "outputId": "7fe8b3ad-66ce-43d7-a7b5-690a56108200"
      },
      "execution_count": null,
      "outputs": [
        {
          "output_type": "stream",
          "name": "stdout",
          "text": [
            "+----+---+-------+---------------+---------------+--------+-------------+---+------+\n",
            "| Ano|Mes|Acessos|        Servico|      Densidade|Cod_IBGE|    Municipio| UF|Regiao|\n",
            "+----+---+-------+---------------+---------------+--------+-------------+---+------+\n",
            "|2021|  6|   5597|Telefonia Móvel|73,114931636659| 4118709|Paulo Frontin| PR|   Sul|\n",
            "+----+---+-------+---------------+---------------+--------+-------------+---+------+\n",
            "only showing top 1 row\n",
            "\n"
          ]
        }
      ]
    },
    {
      "cell_type": "code",
      "source": [
        "df5_sp.select('Mes').distinct().show()"
      ],
      "metadata": {
        "colab": {
          "base_uri": "https://localhost:8080/"
        },
        "id": "vku8FXdqWfZw",
        "outputId": "409fe8cd-899c-448a-e5aa-aaba704c744f"
      },
      "execution_count": null,
      "outputs": [
        {
          "output_type": "stream",
          "name": "stdout",
          "text": [
            "+---+\n",
            "|Mes|\n",
            "+---+\n",
            "|  6|\n",
            "| 12|\n",
            "+---+\n",
            "\n"
          ]
        }
      ]
    },
    {
      "cell_type": "code",
      "source": [
        "df5_sp.createOrReplaceTempView(\"MeuAcess\")"
      ],
      "metadata": {
        "id": "eH4RalWkchC4"
      },
      "execution_count": null,
      "outputs": []
    },
    {
      "cell_type": "markdown",
      "source": [
        "### Velocidade_Contratada_Tratad.parquet\n",
        "df6_sp"
      ],
      "metadata": {
        "id": "Va7nFZByKVii"
      }
    },
    {
      "cell_type": "code",
      "source": [
        "df6_sp = (spark.read.format(\"parquet\")\n",
        "                .option(\"header\", True)\n",
        "                .option(\"delimiter\", \",\")\n",
        "                .load(\"gs://soulcode-bc17-telecom/Tratados/Velocidade_Contratada_Tratad.parquet\")\n",
        ")"
      ],
      "metadata": {
        "id": "pozXM0bGJKei"
      },
      "execution_count": null,
      "outputs": []
    },
    {
      "cell_type": "code",
      "source": [
        "df6_sp.show(1)"
      ],
      "metadata": {
        "colab": {
          "base_uri": "https://localhost:8080/"
        },
        "id": "JAZuDhLKLVIo",
        "outputId": "ac632c53-ef1c-4177-b0cb-3b0b11f9359d"
      },
      "execution_count": null,
      "outputs": [
        {
          "output_type": "stream",
          "name": "stdout",
          "text": [
            "+------+----+-----------------+------------------+--------------------------+---+----------+---------+-------+--------+-----------------+\n",
            "|   Ano| Mes|     razao_social|              cnpj|velocidade_contratada_mbps| uf| municipio| Cod_IBGE|acessos|    tipo|__index_level_0__|\n",
            "+------+----+-----------------+------------------+--------------------------+---+----------+---------+-------+--------+-----------------+\n",
            "|2020.0|12.0|algar telecom s/a|71.208.516/0001-74|                        40| MG|UBERLANDIA|3170206.0|16660.0|INTERNET|                0|\n",
            "+------+----+-----------------+------------------+--------------------------+---+----------+---------+-------+--------+-----------------+\n",
            "only showing top 1 row\n",
            "\n"
          ]
        }
      ]
    },
    {
      "cell_type": "code",
      "source": [
        "df6_sp.select('Ano').distinct().show()                                                                                                                                    "
      ],
      "metadata": {
        "colab": {
          "base_uri": "https://localhost:8080/"
        },
        "id": "nH7-708DW_52",
        "outputId": "4f8a5c90-75fe-4ad0-bdbc-7f5e199b200c"
      },
      "execution_count": null,
      "outputs": [
        {
          "output_type": "stream",
          "name": "stdout",
          "text": [
            "+------+\n",
            "|   Ano|\n",
            "+------+\n",
            "|2020.0|\n",
            "|2019.0|\n",
            "|2017.0|\n",
            "|2018.0|\n",
            "+------+\n",
            "\n"
          ]
        }
      ]
    }
  ],
  "metadata": {
    "colab": {
      "collapsed_sections": [
        "nAlQ4awk0lkx",
        "HWpSravAY7H0",
        "3MMYfsr2OXs2",
        "5_dvQbK6Og6e",
        "oeazwmK6OMXO",
        "sfDi0LKWEIrf",
        "WITqF2Y1tiY9",
        "F-L7qb5XmP_U",
        "QDHSxa1_RpXe",
        "Id7NYiUwRdtX",
        "w_eOiH6PzOrY",
        "Y2BnJO2MxmSR",
        "zZpNUXQixpgT",
        "JrreecvYxuVx",
        "OAIbhVHax6Ph",
        "yl7uw7e17Szf",
        "uKl2Xto9zPn3",
        "J2ArVQCX6SXl",
        "8YczWluHDBqu",
        "Va7nFZByKVii"
      ],
      "provenance": [],
      "include_colab_link": true
    },
    "kernelspec": {
      "display_name": "Python 3",
      "name": "python3"
    },
    "language_info": {
      "name": "python"
    }
  },
  "nbformat": 4,
  "nbformat_minor": 0
}