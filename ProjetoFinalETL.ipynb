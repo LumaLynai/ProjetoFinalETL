{
  "nbformat": 4,
  "nbformat_minor": 0,
  "metadata": {
    "colab": {
      "name": "ProjetoFinalETL.ipynb",
      "provenance": [],
      "collapsed_sections": [
        "BjV39KFNzAV9",
        "nAlQ4awk0lkx",
        "sfDi0LKWEIrf",
        "F-L7qb5XmP_U",
        "QDHSxa1_RpXe",
        "Id7NYiUwRdtX",
        "Y2BnJO2MxmSR",
        "zZpNUXQixpgT",
        "JrreecvYxuVx",
        "AruX6JqG4_64"
      ],
      "mount_file_id": "1TYkkzKmSIMZn21ueR8tsNlsqxj8HHea6",
      "authorship_tag": "ABX9TyNTbWHRGv19KbEGjblljYNJ",
      "include_colab_link": true
    },
    "kernelspec": {
      "name": "python3",
      "display_name": "Python 3"
    },
    "language_info": {
      "name": "python"
    }
  },
  "cells": [
    {
      "cell_type": "markdown",
      "metadata": {
        "id": "view-in-github",
        "colab_type": "text"
      },
      "source": [
        "<a href=\"https://colab.research.google.com/github/LumaLynai/ProjetoFinalETL/blob/main/ProjetoFinalETL.ipynb\" target=\"_parent\"><img src=\"https://colab.research.google.com/assets/colab-badge.svg\" alt=\"Open In Colab\"/></a>"
      ]
    },
    {
      "cell_type": "markdown",
      "source": [
        "# **Bibliotecas**"
      ],
      "metadata": {
        "id": "BjV39KFNzAV9"
      }
    },
    {
      "cell_type": "code",
      "execution_count": 1,
      "metadata": {
        "colab": {
          "base_uri": "https://localhost:8080/"
        },
        "id": "dJdiJSRcy4kt",
        "outputId": "4ce0cf1d-54fe-4817-ad04-b7d67fadfcd4"
      },
      "outputs": [
        {
          "output_type": "stream",
          "name": "stdout",
          "text": [
            "Looking in indexes: https://pypi.org/simple, https://us-python.pkg.dev/colab-wheels/public/simple/\n",
            "Requirement already satisfied: pandas in /usr/local/lib/python3.7/dist-packages (1.3.5)\n",
            "Requirement already satisfied: pytz>=2017.3 in /usr/local/lib/python3.7/dist-packages (from pandas) (2022.1)\n",
            "Requirement already satisfied: python-dateutil>=2.7.3 in /usr/local/lib/python3.7/dist-packages (from pandas) (2.8.2)\n",
            "Requirement already satisfied: numpy>=1.17.3 in /usr/local/lib/python3.7/dist-packages (from pandas) (1.21.6)\n",
            "Requirement already satisfied: six>=1.5 in /usr/local/lib/python3.7/dist-packages (from python-dateutil>=2.7.3->pandas) (1.15.0)\n",
            "Looking in indexes: https://pypi.org/simple, https://us-python.pkg.dev/colab-wheels/public/simple/\n",
            "Collecting gcsfs\n",
            "  Downloading gcsfs-2022.5.0-py2.py3-none-any.whl (25 kB)\n",
            "Requirement already satisfied: google-cloud-storage in /usr/local/lib/python3.7/dist-packages (from gcsfs) (1.18.1)\n",
            "Collecting aiohttp<4\n",
            "  Downloading aiohttp-3.8.1-cp37-cp37m-manylinux_2_5_x86_64.manylinux1_x86_64.manylinux_2_12_x86_64.manylinux2010_x86_64.whl (1.1 MB)\n",
            "\u001b[K     |████████████████████████████████| 1.1 MB 7.4 MB/s \n",
            "\u001b[?25hRequirement already satisfied: google-auth-oauthlib in /usr/local/lib/python3.7/dist-packages (from gcsfs) (0.4.6)\n",
            "Requirement already satisfied: decorator>4.1.2 in /usr/local/lib/python3.7/dist-packages (from gcsfs) (4.4.2)\n",
            "Requirement already satisfied: requests in /usr/local/lib/python3.7/dist-packages (from gcsfs) (2.23.0)\n",
            "Requirement already satisfied: google-auth>=1.2 in /usr/local/lib/python3.7/dist-packages (from gcsfs) (1.35.0)\n",
            "Collecting fsspec==2022.5.0\n",
            "  Downloading fsspec-2022.5.0-py3-none-any.whl (140 kB)\n",
            "\u001b[K     |████████████████████████████████| 140 kB 66.9 MB/s \n",
            "\u001b[?25hCollecting aiosignal>=1.1.2\n",
            "  Downloading aiosignal-1.2.0-py3-none-any.whl (8.2 kB)\n",
            "Requirement already satisfied: attrs>=17.3.0 in /usr/local/lib/python3.7/dist-packages (from aiohttp<4->gcsfs) (21.4.0)\n",
            "Collecting asynctest==0.13.0\n",
            "  Downloading asynctest-0.13.0-py3-none-any.whl (26 kB)\n",
            "Collecting async-timeout<5.0,>=4.0.0a3\n",
            "  Downloading async_timeout-4.0.2-py3-none-any.whl (5.8 kB)\n",
            "Collecting yarl<2.0,>=1.0\n",
            "  Downloading yarl-1.7.2-cp37-cp37m-manylinux_2_5_x86_64.manylinux1_x86_64.manylinux_2_12_x86_64.manylinux2010_x86_64.whl (271 kB)\n",
            "\u001b[K     |████████████████████████████████| 271 kB 62.3 MB/s \n",
            "\u001b[?25hRequirement already satisfied: typing-extensions>=3.7.4 in /usr/local/lib/python3.7/dist-packages (from aiohttp<4->gcsfs) (4.2.0)\n",
            "Collecting frozenlist>=1.1.1\n",
            "  Downloading frozenlist-1.3.0-cp37-cp37m-manylinux_2_5_x86_64.manylinux1_x86_64.manylinux_2_17_x86_64.manylinux2014_x86_64.whl (144 kB)\n",
            "\u001b[K     |████████████████████████████████| 144 kB 35.7 MB/s \n",
            "\u001b[?25hRequirement already satisfied: charset-normalizer<3.0,>=2.0 in /usr/local/lib/python3.7/dist-packages (from aiohttp<4->gcsfs) (2.0.12)\n",
            "Collecting multidict<7.0,>=4.5\n",
            "  Downloading multidict-6.0.2-cp37-cp37m-manylinux_2_17_x86_64.manylinux2014_x86_64.whl (94 kB)\n",
            "\u001b[K     |████████████████████████████████| 94 kB 3.6 MB/s \n",
            "\u001b[?25hRequirement already satisfied: setuptools>=40.3.0 in /usr/local/lib/python3.7/dist-packages (from google-auth>=1.2->gcsfs) (57.4.0)\n",
            "Requirement already satisfied: rsa<5,>=3.1.4 in /usr/local/lib/python3.7/dist-packages (from google-auth>=1.2->gcsfs) (4.8)\n",
            "Requirement already satisfied: pyasn1-modules>=0.2.1 in /usr/local/lib/python3.7/dist-packages (from google-auth>=1.2->gcsfs) (0.2.8)\n",
            "Requirement already satisfied: cachetools<5.0,>=2.0.0 in /usr/local/lib/python3.7/dist-packages (from google-auth>=1.2->gcsfs) (4.2.4)\n",
            "Requirement already satisfied: six>=1.9.0 in /usr/local/lib/python3.7/dist-packages (from google-auth>=1.2->gcsfs) (1.15.0)\n",
            "Requirement already satisfied: pyasn1<0.5.0,>=0.4.6 in /usr/local/lib/python3.7/dist-packages (from pyasn1-modules>=0.2.1->google-auth>=1.2->gcsfs) (0.4.8)\n",
            "Requirement already satisfied: idna>=2.0 in /usr/local/lib/python3.7/dist-packages (from yarl<2.0,>=1.0->aiohttp<4->gcsfs) (2.10)\n",
            "Requirement already satisfied: requests-oauthlib>=0.7.0 in /usr/local/lib/python3.7/dist-packages (from google-auth-oauthlib->gcsfs) (1.3.1)\n",
            "Requirement already satisfied: oauthlib>=3.0.0 in /usr/local/lib/python3.7/dist-packages (from requests-oauthlib>=0.7.0->google-auth-oauthlib->gcsfs) (3.2.0)\n",
            "Requirement already satisfied: certifi>=2017.4.17 in /usr/local/lib/python3.7/dist-packages (from requests->gcsfs) (2022.5.18.1)\n",
            "Requirement already satisfied: chardet<4,>=3.0.2 in /usr/local/lib/python3.7/dist-packages (from requests->gcsfs) (3.0.4)\n",
            "Requirement already satisfied: urllib3!=1.25.0,!=1.25.1,<1.26,>=1.21.1 in /usr/local/lib/python3.7/dist-packages (from requests->gcsfs) (1.24.3)\n",
            "Requirement already satisfied: google-cloud-core<2.0dev,>=1.0.0 in /usr/local/lib/python3.7/dist-packages (from google-cloud-storage->gcsfs) (1.0.3)\n",
            "Requirement already satisfied: google-resumable-media<0.5.0dev,>=0.3.1 in /usr/local/lib/python3.7/dist-packages (from google-cloud-storage->gcsfs) (0.4.1)\n",
            "Requirement already satisfied: google-api-core<2.0.0dev,>=1.14.0 in /usr/local/lib/python3.7/dist-packages (from google-cloud-core<2.0dev,>=1.0.0->google-cloud-storage->gcsfs) (1.31.6)\n",
            "Requirement already satisfied: pytz in /usr/local/lib/python3.7/dist-packages (from google-api-core<2.0.0dev,>=1.14.0->google-cloud-core<2.0dev,>=1.0.0->google-cloud-storage->gcsfs) (2022.1)\n",
            "Requirement already satisfied: packaging>=14.3 in /usr/local/lib/python3.7/dist-packages (from google-api-core<2.0.0dev,>=1.14.0->google-cloud-core<2.0dev,>=1.0.0->google-cloud-storage->gcsfs) (21.3)\n",
            "Requirement already satisfied: protobuf<4.0.0dev,>=3.12.0 in /usr/local/lib/python3.7/dist-packages (from google-api-core<2.0.0dev,>=1.14.0->google-cloud-core<2.0dev,>=1.0.0->google-cloud-storage->gcsfs) (3.17.3)\n",
            "Requirement already satisfied: googleapis-common-protos<2.0dev,>=1.6.0 in /usr/local/lib/python3.7/dist-packages (from google-api-core<2.0.0dev,>=1.14.0->google-cloud-core<2.0dev,>=1.0.0->google-cloud-storage->gcsfs) (1.56.2)\n",
            "Requirement already satisfied: pyparsing!=3.0.5,>=2.0.2 in /usr/local/lib/python3.7/dist-packages (from packaging>=14.3->google-api-core<2.0.0dev,>=1.14.0->google-cloud-core<2.0dev,>=1.0.0->google-cloud-storage->gcsfs) (3.0.9)\n",
            "Installing collected packages: multidict, frozenlist, yarl, asynctest, async-timeout, aiosignal, fsspec, aiohttp, gcsfs\n",
            "Successfully installed aiohttp-3.8.1 aiosignal-1.2.0 async-timeout-4.0.2 asynctest-0.13.0 frozenlist-1.3.0 fsspec-2022.5.0 gcsfs-2022.5.0 multidict-6.0.2 yarl-1.7.2\n"
          ]
        }
      ],
      "source": [
        "!pip install pandas\n",
        "!pip install gcsfs"
      ]
    },
    {
      "cell_type": "code",
      "source": [
        "!pip install pyspark"
      ],
      "metadata": {
        "colab": {
          "base_uri": "https://localhost:8080/"
        },
        "id": "1Z6JHbmBzGTD",
        "outputId": "10933e28-db15-4a3c-81d4-5e2cfa1189fa"
      },
      "execution_count": 2,
      "outputs": [
        {
          "output_type": "stream",
          "name": "stdout",
          "text": [
            "Looking in indexes: https://pypi.org/simple, https://us-python.pkg.dev/colab-wheels/public/simple/\n",
            "Collecting pyspark\n",
            "  Downloading pyspark-3.2.1.tar.gz (281.4 MB)\n",
            "\u001b[K     |████████████████████████████████| 281.4 MB 31 kB/s \n",
            "\u001b[?25hCollecting py4j==0.10.9.3\n",
            "  Downloading py4j-0.10.9.3-py2.py3-none-any.whl (198 kB)\n",
            "\u001b[K     |████████████████████████████████| 198 kB 51.6 MB/s \n",
            "\u001b[?25hBuilding wheels for collected packages: pyspark\n",
            "  Building wheel for pyspark (setup.py) ... \u001b[?25l\u001b[?25hdone\n",
            "  Created wheel for pyspark: filename=pyspark-3.2.1-py2.py3-none-any.whl size=281853642 sha256=d58b990040cde09fba0b0f620f0946466a29d9d75d829ef2e320eba8b9d55c02\n",
            "  Stored in directory: /root/.cache/pip/wheels/9f/f5/07/7cd8017084dce4e93e84e92efd1e1d5334db05f2e83bcef74f\n",
            "Successfully built pyspark\n",
            "Installing collected packages: py4j, pyspark\n",
            "Successfully installed py4j-0.10.9.3 pyspark-3.2.1\n"
          ]
        }
      ]
    },
    {
      "cell_type": "code",
      "source": [
        "import pandas as pd\n",
        "import psycopg2\n",
        "import requests\n",
        "import pymongo\n",
        "import gcsfs\n",
        "import os \n",
        "import csv"
      ],
      "metadata": {
        "colab": {
          "base_uri": "https://localhost:8080/"
        },
        "id": "R5Tkg7SPzGSJ",
        "outputId": "9035ee9f-6507-4f07-8086-82f293455aca"
      },
      "execution_count": 3,
      "outputs": [
        {
          "output_type": "stream",
          "name": "stderr",
          "text": [
            "/usr/local/lib/python3.7/dist-packages/psycopg2/__init__.py:144: UserWarning: The psycopg2 wheel package will be renamed from release 2.8; in order to keep installing from binary please use \"pip install psycopg2-binary\" instead. For details see: <http://initd.org/psycopg/docs/install.html#binary-install-from-pypi>.\n",
            "  \"\"\")\n"
          ]
        }
      ]
    },
    {
      "cell_type": "code",
      "source": [
        "from google.cloud import storage"
      ],
      "metadata": {
        "id": "c_dYNMXJ0aWN"
      },
      "execution_count": 4,
      "outputs": []
    },
    {
      "cell_type": "code",
      "source": [
        "from pyspark.sql import SparkSession\n",
        "from pyspark.sql.window import *\n",
        "from pyspark.sql.types import *\n",
        "from pyspark import SparkConf\n",
        "import pyspark.sql.functions as F \n",
        "import pyspark.sql.window as w"
      ],
      "metadata": {
        "id": "cqTZs3pAzGRM"
      },
      "execution_count": 5,
      "outputs": []
    },
    {
      "cell_type": "markdown",
      "source": [
        "# **GCP**\n",
        "Conectando backet"
      ],
      "metadata": {
        "id": "nAlQ4awk0lkx"
      }
    },
    {
      "cell_type": "code",
      "source": [
        "serviceAccount = r'/content/drive/MyDrive/arquivos/macro-mercury-349020-d9ed9a670580 (1).json'\n",
        "os.environ['GOOGLE_APPLICATION_CREDENTIALS'] = serviceAccount"
      ],
      "metadata": {
        "id": "L7iBaxiL0u0j"
      },
      "execution_count": 8,
      "outputs": []
    },
    {
      "cell_type": "code",
      "source": [
        "client = storage.Client()\n",
        "bucket = client.get_bucket('soulcode-bc17-telecom')"
      ],
      "metadata": {
        "id": "N1iGr64L1jbC"
      },
      "execution_count": 9,
      "outputs": []
    },
    {
      "cell_type": "markdown",
      "source": [
        "#**Meu_Municio_Acesso.csv**\n",
        "\n",
        "```\n",
        "```\n",
        "\n"
      ],
      "metadata": {
        "id": "FhWiPJvPOFEa"
      }
    },
    {
      "cell_type": "markdown",
      "source": [
        "##**Pandas**\n"
      ],
      "metadata": {
        "id": "D2g79IBe5QOT"
      }
    },
    {
      "cell_type": "code",
      "source": [
        "df1_extrai = pd.read_csv('https://storage.googleapis.com/telecomunicacao2/Meu_Municipio_Acessos.csv',sep=';')"
      ],
      "metadata": {
        "id": "zniuOlwD5PdK"
      },
      "execution_count": 94,
      "outputs": []
    },
    {
      "cell_type": "markdown",
      "source": [
        ""
      ],
      "metadata": {
        "id": "bX2mxLZ0Y7F6"
      }
    },
    {
      "cell_type": "markdown",
      "source": [
        "**Copy** "
      ],
      "metadata": {
        "id": "F1rCsA02ZLGq"
      }
    },
    {
      "cell_type": "code",
      "source": [
        "df1_pd = df1_extrai.copy()"
      ],
      "metadata": {
        "id": "fEAhVDi3KeFX"
      },
      "execution_count": 95,
      "outputs": []
    },
    {
      "cell_type": "markdown",
      "source": [
        "### Inserindo no Backet \n",
        "Original"
      ],
      "metadata": {
        "id": "HWpSravAY7H0"
      }
    },
    {
      "cell_type": "code",
      "source": [
        "from pandas._libs import index\n",
        "df1_extrai.to_csv('gs://soulcode-bc17-telecom/Original/Meu_Municipio_Acessos.csv',index=False)\n"
      ],
      "metadata": {
        "id": "KStwpU7JZXQi"
      },
      "execution_count": 152,
      "outputs": []
    },
    {
      "cell_type": "code",
      "source": [
        "df1_pd.head(2)"
      ],
      "metadata": {
        "id": "hSoOIfsY5PbX"
      },
      "execution_count": null,
      "outputs": []
    },
    {
      "cell_type": "markdown",
      "source": [
        "### Info"
      ],
      "metadata": {
        "id": "3MMYfsr2OXs2"
      }
    },
    {
      "cell_type": "code",
      "source": [
        "df1_pd.info()"
      ],
      "metadata": {
        "colab": {
          "base_uri": "https://localhost:8080/"
        },
        "id": "MiLQ8qc05OeB",
        "outputId": "b9f302f7-dda6-4b2f-ec68-a25ef4f3ed50"
      },
      "execution_count": 26,
      "outputs": [
        {
          "output_type": "stream",
          "name": "stdout",
          "text": [
            "<class 'pandas.core.frame.DataFrame'>\n",
            "RangeIndex: 66837 entries, 0 to 66836\n",
            "Data columns (total 11 columns):\n",
            " #   Column           Non-Null Count  Dtype \n",
            "---  ------           --------------  ----- \n",
            " 0   Ano              66837 non-null  int64 \n",
            " 1   Mês              66837 non-null  int64 \n",
            " 2   Acessos          66837 non-null  int64 \n",
            " 3   Serviço          66837 non-null  object\n",
            " 4   Densidade        66837 non-null  object\n",
            " 5   Código IBGE      66837 non-null  int64 \n",
            " 6   Município        66837 non-null  object\n",
            " 7   UF               66837 non-null  object\n",
            " 8   Nome UF          66837 non-null  object\n",
            " 9   Região           66837 non-null  object\n",
            " 10  Código Nacional  66837 non-null  int64 \n",
            "dtypes: int64(5), object(6)\n",
            "memory usage: 5.6+ MB\n"
          ]
        }
      ]
    },
    {
      "cell_type": "markdown",
      "source": [
        "### Unique"
      ],
      "metadata": {
        "id": "5_dvQbK6Og6e"
      }
    },
    {
      "cell_type": "code",
      "source": [
        "df1_pd['Município'].unique()"
      ],
      "metadata": {
        "colab": {
          "base_uri": "https://localhost:8080/"
        },
        "id": "4ihUQJC-De05",
        "outputId": "2201798f-1889-4651-8fbd-74eec93e7e8e"
      },
      "execution_count": 44,
      "outputs": [
        {
          "output_type": "execute_result",
          "data": {
            "text/plain": [
              "array(['Paulo Frontin - PR', 'Araruama - RJ', 'Pinhão - PR', ...,\n",
              "       'Ribeiro Gonçalves - PI', 'Itacurubi - RS', 'Carrapateira - PB'],\n",
              "      dtype=object)"
            ]
          },
          "metadata": {},
          "execution_count": 44
        }
      ]
    },
    {
      "cell_type": "code",
      "source": [
        "df1=df1_pd['Município'].str[:-5]"
      ],
      "metadata": {
        "id": "b9TFKDJAQrpN"
      },
      "execution_count": 99,
      "outputs": []
    },
    {
      "cell_type": "code",
      "source": [
        "df1_pd['Município']=df1_pd['Município'].str[:-5]"
      ],
      "metadata": {
        "id": "qhGZC4qDGUSp"
      },
      "execution_count": 103,
      "outputs": []
    },
    {
      "cell_type": "code",
      "source": [
        "df1_pd.head()"
      ],
      "metadata": {
        "colab": {
          "base_uri": "https://localhost:8080/",
          "height": 0
        },
        "id": "iUhEnKbAG3On",
        "outputId": "f4c35ecf-c88d-44b2-a5b8-bd4e8bc48cb8"
      },
      "execution_count": 104,
      "outputs": [
        {
          "output_type": "execute_result",
          "data": {
            "text/plain": [
              "    Ano  Mês  Acessos            Serviço        Densidade  Código IBGE  \\\n",
              "0  2021    6     5597    Telefonia Móvel  73,114931636659      4118709   \n",
              "1  2021    6      713   Banda Larga Fixa  27,993718099725      4118709   \n",
              "2  2021    6      132  TV por Assinatura  5,1825677267373      4118709   \n",
              "3  2021    6      327     Telefonia Fixa   12,83863368669      4118709   \n",
              "4  2021    6   162149    Telefonia Móvel  113,77138048893      3300209   \n",
              "\n",
              "       Município  UF         Nome UF   Região  Código Nacional  \n",
              "0  Paulo Frontin  PR          Paraná      Sul               42  \n",
              "1  Paulo Frontin  PR          Paraná      Sul               42  \n",
              "2  Paulo Frontin  PR          Paraná      Sul               42  \n",
              "3  Paulo Frontin  PR          Paraná      Sul               42  \n",
              "4       Araruama  RJ  Rio de Janeiro  Sudeste               22  "
            ],
            "text/html": [
              "\n",
              "  <div id=\"df-c628c8a7-9a35-4fbf-88ae-e2a2db1632c7\">\n",
              "    <div class=\"colab-df-container\">\n",
              "      <div>\n",
              "<style scoped>\n",
              "    .dataframe tbody tr th:only-of-type {\n",
              "        vertical-align: middle;\n",
              "    }\n",
              "\n",
              "    .dataframe tbody tr th {\n",
              "        vertical-align: top;\n",
              "    }\n",
              "\n",
              "    .dataframe thead th {\n",
              "        text-align: right;\n",
              "    }\n",
              "</style>\n",
              "<table border=\"1\" class=\"dataframe\">\n",
              "  <thead>\n",
              "    <tr style=\"text-align: right;\">\n",
              "      <th></th>\n",
              "      <th>Ano</th>\n",
              "      <th>Mês</th>\n",
              "      <th>Acessos</th>\n",
              "      <th>Serviço</th>\n",
              "      <th>Densidade</th>\n",
              "      <th>Código IBGE</th>\n",
              "      <th>Município</th>\n",
              "      <th>UF</th>\n",
              "      <th>Nome UF</th>\n",
              "      <th>Região</th>\n",
              "      <th>Código Nacional</th>\n",
              "    </tr>\n",
              "  </thead>\n",
              "  <tbody>\n",
              "    <tr>\n",
              "      <th>0</th>\n",
              "      <td>2021</td>\n",
              "      <td>6</td>\n",
              "      <td>5597</td>\n",
              "      <td>Telefonia Móvel</td>\n",
              "      <td>73,114931636659</td>\n",
              "      <td>4118709</td>\n",
              "      <td>Paulo Frontin</td>\n",
              "      <td>PR</td>\n",
              "      <td>Paraná</td>\n",
              "      <td>Sul</td>\n",
              "      <td>42</td>\n",
              "    </tr>\n",
              "    <tr>\n",
              "      <th>1</th>\n",
              "      <td>2021</td>\n",
              "      <td>6</td>\n",
              "      <td>713</td>\n",
              "      <td>Banda Larga Fixa</td>\n",
              "      <td>27,993718099725</td>\n",
              "      <td>4118709</td>\n",
              "      <td>Paulo Frontin</td>\n",
              "      <td>PR</td>\n",
              "      <td>Paraná</td>\n",
              "      <td>Sul</td>\n",
              "      <td>42</td>\n",
              "    </tr>\n",
              "    <tr>\n",
              "      <th>2</th>\n",
              "      <td>2021</td>\n",
              "      <td>6</td>\n",
              "      <td>132</td>\n",
              "      <td>TV por Assinatura</td>\n",
              "      <td>5,1825677267373</td>\n",
              "      <td>4118709</td>\n",
              "      <td>Paulo Frontin</td>\n",
              "      <td>PR</td>\n",
              "      <td>Paraná</td>\n",
              "      <td>Sul</td>\n",
              "      <td>42</td>\n",
              "    </tr>\n",
              "    <tr>\n",
              "      <th>3</th>\n",
              "      <td>2021</td>\n",
              "      <td>6</td>\n",
              "      <td>327</td>\n",
              "      <td>Telefonia Fixa</td>\n",
              "      <td>12,83863368669</td>\n",
              "      <td>4118709</td>\n",
              "      <td>Paulo Frontin</td>\n",
              "      <td>PR</td>\n",
              "      <td>Paraná</td>\n",
              "      <td>Sul</td>\n",
              "      <td>42</td>\n",
              "    </tr>\n",
              "    <tr>\n",
              "      <th>4</th>\n",
              "      <td>2021</td>\n",
              "      <td>6</td>\n",
              "      <td>162149</td>\n",
              "      <td>Telefonia Móvel</td>\n",
              "      <td>113,77138048893</td>\n",
              "      <td>3300209</td>\n",
              "      <td>Araruama</td>\n",
              "      <td>RJ</td>\n",
              "      <td>Rio de Janeiro</td>\n",
              "      <td>Sudeste</td>\n",
              "      <td>22</td>\n",
              "    </tr>\n",
              "  </tbody>\n",
              "</table>\n",
              "</div>\n",
              "      <button class=\"colab-df-convert\" onclick=\"convertToInteractive('df-c628c8a7-9a35-4fbf-88ae-e2a2db1632c7')\"\n",
              "              title=\"Convert this dataframe to an interactive table.\"\n",
              "              style=\"display:none;\">\n",
              "        \n",
              "  <svg xmlns=\"http://www.w3.org/2000/svg\" height=\"24px\"viewBox=\"0 0 24 24\"\n",
              "       width=\"24px\">\n",
              "    <path d=\"M0 0h24v24H0V0z\" fill=\"none\"/>\n",
              "    <path d=\"M18.56 5.44l.94 2.06.94-2.06 2.06-.94-2.06-.94-.94-2.06-.94 2.06-2.06.94zm-11 1L8.5 8.5l.94-2.06 2.06-.94-2.06-.94L8.5 2.5l-.94 2.06-2.06.94zm10 10l.94 2.06.94-2.06 2.06-.94-2.06-.94-.94-2.06-.94 2.06-2.06.94z\"/><path d=\"M17.41 7.96l-1.37-1.37c-.4-.4-.92-.59-1.43-.59-.52 0-1.04.2-1.43.59L10.3 9.45l-7.72 7.72c-.78.78-.78 2.05 0 2.83L4 21.41c.39.39.9.59 1.41.59.51 0 1.02-.2 1.41-.59l7.78-7.78 2.81-2.81c.8-.78.8-2.07 0-2.86zM5.41 20L4 18.59l7.72-7.72 1.47 1.35L5.41 20z\"/>\n",
              "  </svg>\n",
              "      </button>\n",
              "      \n",
              "  <style>\n",
              "    .colab-df-container {\n",
              "      display:flex;\n",
              "      flex-wrap:wrap;\n",
              "      gap: 12px;\n",
              "    }\n",
              "\n",
              "    .colab-df-convert {\n",
              "      background-color: #E8F0FE;\n",
              "      border: none;\n",
              "      border-radius: 50%;\n",
              "      cursor: pointer;\n",
              "      display: none;\n",
              "      fill: #1967D2;\n",
              "      height: 32px;\n",
              "      padding: 0 0 0 0;\n",
              "      width: 32px;\n",
              "    }\n",
              "\n",
              "    .colab-df-convert:hover {\n",
              "      background-color: #E2EBFA;\n",
              "      box-shadow: 0px 1px 2px rgba(60, 64, 67, 0.3), 0px 1px 3px 1px rgba(60, 64, 67, 0.15);\n",
              "      fill: #174EA6;\n",
              "    }\n",
              "\n",
              "    [theme=dark] .colab-df-convert {\n",
              "      background-color: #3B4455;\n",
              "      fill: #D2E3FC;\n",
              "    }\n",
              "\n",
              "    [theme=dark] .colab-df-convert:hover {\n",
              "      background-color: #434B5C;\n",
              "      box-shadow: 0px 1px 3px 1px rgba(0, 0, 0, 0.15);\n",
              "      filter: drop-shadow(0px 1px 2px rgba(0, 0, 0, 0.3));\n",
              "      fill: #FFFFFF;\n",
              "    }\n",
              "  </style>\n",
              "\n",
              "      <script>\n",
              "        const buttonEl =\n",
              "          document.querySelector('#df-c628c8a7-9a35-4fbf-88ae-e2a2db1632c7 button.colab-df-convert');\n",
              "        buttonEl.style.display =\n",
              "          google.colab.kernel.accessAllowed ? 'block' : 'none';\n",
              "\n",
              "        async function convertToInteractive(key) {\n",
              "          const element = document.querySelector('#df-c628c8a7-9a35-4fbf-88ae-e2a2db1632c7');\n",
              "          const dataTable =\n",
              "            await google.colab.kernel.invokeFunction('convertToInteractive',\n",
              "                                                     [key], {});\n",
              "          if (!dataTable) return;\n",
              "\n",
              "          const docLinkHtml = 'Like what you see? Visit the ' +\n",
              "            '<a target=\"_blank\" href=https://colab.research.google.com/notebooks/data_table.ipynb>data table notebook</a>'\n",
              "            + ' to learn more about interactive tables.';\n",
              "          element.innerHTML = '';\n",
              "          dataTable['output_type'] = 'display_data';\n",
              "          await google.colab.output.renderOutput(dataTable, element);\n",
              "          const docLink = document.createElement('div');\n",
              "          docLink.innerHTML = docLinkHtml;\n",
              "          element.appendChild(docLink);\n",
              "        }\n",
              "      </script>\n",
              "    </div>\n",
              "  </div>\n",
              "  "
            ]
          },
          "metadata": {},
          "execution_count": 104
        }
      ]
    },
    {
      "cell_type": "markdown",
      "source": [
        ""
      ],
      "metadata": {
        "id": "dzpa5wFsGS0D"
      }
    },
    {
      "cell_type": "markdown",
      "source": [
        "##**Spark**"
      ],
      "metadata": {
        "id": "oeazwmK6OMXO"
      }
    },
    {
      "cell_type": "markdown",
      "source": [
        "###SessionSpark\n"
      ],
      "metadata": {
        "id": "sfDi0LKWEIrf"
      }
    },
    {
      "cell_type": "code",
      "source": [
        "spark = SparkSession.builder.appName(\"pandas em spark\").getOrCreate()"
      ],
      "metadata": {
        "id": "fuhFVSTEDeyl"
      },
      "execution_count": 123,
      "outputs": []
    },
    {
      "cell_type": "code",
      "source": [
        "spark"
      ],
      "metadata": {
        "colab": {
          "base_uri": "https://localhost:8080/",
          "height": 0
        },
        "id": "YKmeI4cbk9Ec",
        "outputId": "a3d50de5-3207-4335-b71d-b0893fca445a"
      },
      "execution_count": 124,
      "outputs": [
        {
          "output_type": "execute_result",
          "data": {
            "text/plain": [
              "<pyspark.sql.session.SparkSession at 0x7f823f14a590>"
            ],
            "text/html": [
              "\n",
              "            <div>\n",
              "                <p><b>SparkSession - in-memory</b></p>\n",
              "                \n",
              "        <div>\n",
              "            <p><b>SparkContext</b></p>\n",
              "\n",
              "            <p><a href=\"http://19f13499f048:4050\">Spark UI</a></p>\n",
              "\n",
              "            <dl>\n",
              "              <dt>Version</dt>\n",
              "                <dd><code>v3.2.1</code></dd>\n",
              "              <dt>Master</dt>\n",
              "                <dd><code>local</code></dd>\n",
              "              <dt>AppName</dt>\n",
              "                <dd><code>Pandas em Spark</code></dd>\n",
              "            </dl>\n",
              "        </div>\n",
              "        \n",
              "            </div>\n",
              "        "
            ]
          },
          "metadata": {},
          "execution_count": 124
        }
      ]
    },
    {
      "cell_type": "code",
      "source": [
        "df1_spark = spark.createDataFrame(df1_pd)"
      ],
      "metadata": {
        "id": "QwHZpPGgDexK"
      },
      "execution_count": 125,
      "outputs": []
    },
    {
      "cell_type": "code",
      "source": [
        "df1_spark.show()"
      ],
      "metadata": {
        "colab": {
          "base_uri": "https://localhost:8080/"
        },
        "id": "arQeiATpDevY",
        "outputId": "2f9788fe-02de-4103-8fa4-905feea44d16"
      },
      "execution_count": 107,
      "outputs": [
        {
          "output_type": "stream",
          "name": "stdout",
          "text": [
            "+----+---+-------+-----------------+----------------+-----------+-----------------+---+--------------+--------+---------------+\n",
            "| Ano|Mês|Acessos|          Serviço|       Densidade|Código IBGE|        Município| UF|       Nome UF|  Região|Código Nacional|\n",
            "+----+---+-------+-----------------+----------------+-----------+-----------------+---+--------------+--------+---------------+\n",
            "|2021|  6|   5597|  Telefonia Móvel| 73,114931636659|    4118709|    Paulo Frontin| PR|        Paraná|     Sul|             42|\n",
            "|2021|  6|    713| Banda Larga Fixa| 27,993718099725|    4118709|    Paulo Frontin| PR|        Paraná|     Sul|             42|\n",
            "|2021|  6|    132|TV por Assinatura| 5,1825677267373|    4118709|    Paulo Frontin| PR|        Paraná|     Sul|             42|\n",
            "|2021|  6|    327|   Telefonia Fixa|  12,83863368669|    4118709|    Paulo Frontin| PR|        Paraná|     Sul|             42|\n",
            "|2021|  6| 162149|  Telefonia Móvel| 113,77138048893|    3300209|         Araruama| RJ|Rio de Janeiro| Sudeste|             22|\n",
            "|2021|  6|  32457| Banda Larga Fixa| 67,673734909614|    3300209|         Araruama| RJ|Rio de Janeiro| Sudeste|             22|\n",
            "|2021|  6|  11287|TV por Assinatura| 23,533704468214|    3300209|         Araruama| RJ|Rio de Janeiro| Sudeste|             22|\n",
            "|2021|  6|  10160|   Telefonia Fixa| 21,183878568003|    3300209|         Araruama| RJ|Rio de Janeiro| Sudeste|             22|\n",
            "|2021|  6|  23556|  Telefonia Móvel| 70,773058140606|    4119301|           Pinhão| PR|        Paraná|     Sul|             42|\n",
            "|2021|  6|   7269| Banda Larga Fixa| 64,745702324753|    4119301|           Pinhão| PR|        Paraná|     Sul|             42|\n",
            "|2021|  6|    294|TV por Assinatura| 2,6186870936136|    4119301|           Pinhão| PR|        Paraná|     Sul|             42|\n",
            "|2021|  6|    804|   Telefonia Fixa|  7,161307562127|    4119301|           Pinhão| PR|        Paraná|     Sul|             42|\n",
            "|2021|  6|  20349|  Telefonia Móvel| 87,231329690346|    4117305|       Ortigueira| PR|        Paraná|     Sul|             42|\n",
            "|2021|  6|   2120| Banda Larga Fixa| 27,997886951928|    4117305|       Ortigueira| PR|        Paraná|     Sul|             42|\n",
            "|2021|  6|   1136|TV por Assinatura|  15,00264131009|    4117305|       Ortigueira| PR|        Paraná|     Sul|             42|\n",
            "|2021|  6|    698|   Telefonia Fixa| 9,2181722134179|    4117305|       Ortigueira| PR|        Paraná|     Sul|             42|\n",
            "|2021|  6|   7617|  Telefonia Móvel| 63,604984004041|    2901809|Antônio Gonçalves| BA|         Bahia|Nordeste|             74|\n",
            "|2021|  6|    191| Banda Larga Fixa| 4,8244506188431|    2901809|Antônio Gonçalves| BA|         Bahia|Nordeste|             74|\n",
            "|2021|  6|     31|TV por Assinatura|0,78302601667088|    2901809|Antônio Gonçalves| BA|         Bahia|Nordeste|             74|\n",
            "|2021|  6|     75|   Telefonia Fixa| 1,8944177822682|    2901809|Antônio Gonçalves| BA|         Bahia|Nordeste|             74|\n",
            "+----+---+-------+-----------------+----------------+-----------+-----------------+---+--------------+--------+---------------+\n",
            "only showing top 20 rows\n",
            "\n"
          ]
        }
      ]
    },
    {
      "cell_type": "code",
      "source": [
        "df1_spark.select('Código Nacional').distinct().count()"
      ],
      "metadata": {
        "colab": {
          "base_uri": "https://localhost:8080/"
        },
        "id": "sNaaHp2XsCtb",
        "outputId": "7a9055fd-1472-4d82-dd01-e4f88fa7e908"
      },
      "execution_count": 82,
      "outputs": [
        {
          "output_type": "execute_result",
          "data": {
            "text/plain": [
              "67"
            ]
          },
          "metadata": {},
          "execution_count": 82
        }
      ]
    },
    {
      "cell_type": "code",
      "source": [
        "df1_spark.select('Código Nacional').distinct().show()"
      ],
      "metadata": {
        "colab": {
          "base_uri": "https://localhost:8080/"
        },
        "id": "8YREOhZQsNPL",
        "outputId": "d18e0f64-2944-45bc-883c-18fc0706c195"
      },
      "execution_count": 83,
      "outputs": [
        {
          "output_type": "stream",
          "name": "stdout",
          "text": [
            "+---------------+\n",
            "|Código Nacional|\n",
            "+---------------+\n",
            "|             65|\n",
            "|             19|\n",
            "|             54|\n",
            "|             22|\n",
            "|             77|\n",
            "|             34|\n",
            "|             94|\n",
            "|             43|\n",
            "|             32|\n",
            "|             84|\n",
            "|             31|\n",
            "|             98|\n",
            "|             95|\n",
            "|             71|\n",
            "|             68|\n",
            "|             87|\n",
            "|             63|\n",
            "|             27|\n",
            "|             51|\n",
            "|             17|\n",
            "+---------------+\n",
            "only showing top 20 rows\n",
            "\n"
          ]
        }
      ]
    },
    {
      "cell_type": "code",
      "source": [
        "df1_spark.select('Município').distinct().show()"
      ],
      "metadata": {
        "colab": {
          "base_uri": "https://localhost:8080/"
        },
        "id": "_tAwRp9BO00g",
        "outputId": "ff15e82a-c230-43fc-c467-652f9d76cf8a"
      },
      "execution_count": 111,
      "outputs": [
        {
          "output_type": "stream",
          "name": "stdout",
          "text": [
            "+--------------------+\n",
            "|           Município|\n",
            "+--------------------+\n",
            "|            Araruama|\n",
            "|        Borrazópolis|\n",
            "|              Utinga|\n",
            "|              Maruim|\n",
            "|             Ibiporã|\n",
            "|          Livramento|\n",
            "|    Senador Guiomard|\n",
            "|           Fronteira|\n",
            "|              Pongaí|\n",
            "| Leopoldo de Bulhões|\n",
            "|               Apodi|\n",
            "|      Benedito Leite|\n",
            "|   Tiradentes do Sul|\n",
            "|        Assis Brasil|\n",
            "|  Ribas do Rio Pardo|\n",
            "|Santo Antônio dos...|\n",
            "|Boa Esperança do Sul|\n",
            "|           Carrancas|\n",
            "|         Piranguinho|\n",
            "|            Rio Novo|\n",
            "+--------------------+\n",
            "only showing top 20 rows\n",
            "\n"
          ]
        }
      ]
    },
    {
      "cell_type": "markdown",
      "source": [
        "### Like"
      ],
      "metadata": {
        "id": "F-L7qb5XmP_U"
      }
    },
    {
      "cell_type": "code",
      "source": [
        "df1_spark.filter(F.col('Município').like(\"%Santo Antônio dos%\")).show()"
      ],
      "metadata": {
        "colab": {
          "base_uri": "https://localhost:8080/"
        },
        "id": "CCNhExLzO0ev",
        "outputId": "86bd6ef3-cc20-4f15-ca43-2f0d4ce8b4f2"
      },
      "execution_count": 113,
      "outputs": [
        {
          "output_type": "stream",
          "name": "stdout",
          "text": [
            "+----+---+-------+-----------------+---------------+-----------+--------------------+---+--------+--------+---------------+\n",
            "| Ano|Mês|Acessos|          Serviço|      Densidade|Código IBGE|           Município| UF| Nome UF|  Região|Código Nacional|\n",
            "+----+---+-------+-----------------+---------------+-----------+--------------------+---+--------+--------+---------------+\n",
            "|2021|  6|  11480|  Telefonia Móvel|77,558187577469|    2110302|Santo Antônio dos...| MA|Maranhão|Nordeste|             99|\n",
            "|2021|  6|     54| Banda Larga Fixa|1,3015184381779|    2110302|Santo Antônio dos...| MA|Maranhão|Nordeste|             99|\n",
            "|2021|  6|    428|TV por Assinatura|10,315738732225|    2110302|Santo Antônio dos...| MA|Maranhão|Nordeste|             99|\n",
            "|2021|  6|     46|   Telefonia Fixa|1,1087008917812|    2110302|Santo Antônio dos...| MA|Maranhão|Nordeste|             99|\n",
            "|2021|  6|   1914|  Telefonia Móvel|87,165281625115|    2209450|Santo Antônio dos...| PI|   Piauí|Nordeste|             86|\n",
            "|2021|  6|     93| Banda Larga Fixa|14,176829268293|    2209450|Santo Antônio dos...| PI|   Piauí|Nordeste|             86|\n",
            "|2021|  6|     82|TV por Assinatura|           12,5|    2209450|Santo Antônio dos...| PI|   Piauí|Nordeste|             86|\n",
            "|2021|  6|      9|   Telefonia Fixa|1,3719512195122|    2209450|Santo Antônio dos...| PI|   Piauí|Nordeste|             86|\n",
            "|2020| 12|    897|  Telefonia Móvel|41,412742382271|    2209450|Santo Antônio dos...| PI|   Piauí|Nordeste|             86|\n",
            "|2020| 12|     50| Banda Larga Fixa|7,6219512195122|    2209450|Santo Antônio dos...| PI|   Piauí|Nordeste|             86|\n",
            "|2020| 12|     87|TV por Assinatura|13,262195121951|    2209450|Santo Antônio dos...| PI|   Piauí|Nordeste|             86|\n",
            "|2020| 12|     16|   Telefonia Fixa|2,4390243902439|    2209450|Santo Antônio dos...| PI|   Piauí|Nordeste|             86|\n",
            "|2020| 12|   7035|  Telefonia Móvel|48,443740531607|    2110302|Santo Antônio dos...| MA|Maranhão|Nordeste|             99|\n",
            "|2020| 12|     60| Banda Larga Fixa|1,4461315979754|    2110302|Santo Antônio dos...| MA|Maranhão|Nordeste|             99|\n",
            "|2020| 12|    248|TV por Assinatura|5,9773439382984|    2110302|Santo Antônio dos...| MA|Maranhão|Nordeste|             99|\n",
            "|2020| 12|    105|   Telefonia Fixa| 2,530730296457|    2110302|Santo Antônio dos...| MA|Maranhão|Nordeste|             99|\n",
            "|2019| 12|   6641|  Telefonia Móvel| 45,71172907489|    2110302|Santo Antônio dos...| MA|Maranhão|Nordeste|             99|\n",
            "|2019| 12|     61| Banda Larga Fixa|1,4698795180723|    2110302|Santo Antônio dos...| MA|Maranhão|Nordeste|             99|\n",
            "|2019| 12|    214|TV por Assinatura|5,1566265060241|    2110302|Santo Antônio dos...| MA|Maranhão|Nordeste|             99|\n",
            "|2019| 12|    160|   Telefonia Fixa| 3,855421686747|    2110302|Santo Antônio dos...| MA|Maranhão|Nordeste|             99|\n",
            "+----+---+-------+-----------------+---------------+-----------+--------------------+---+--------+--------+---------------+\n",
            "only showing top 20 rows\n",
            "\n"
          ]
        }
      ]
    },
    {
      "cell_type": "code",
      "source": [
        "df1_spark.filter(F.col('Município').like(\"%Couto de Magalhãe%\")).show()"
      ],
      "metadata": {
        "colab": {
          "base_uri": "https://localhost:8080/"
        },
        "id": "xpF3F24fm-5D",
        "outputId": "623c13a5-f708-4568-a615-662c90dacd9d"
      },
      "execution_count": 126,
      "outputs": [
        {
          "output_type": "stream",
          "name": "stdout",
          "text": [
            "+----+---+-------+-----------------+---------------+-----------+--------------------+---+------------+-------+---------------+\n",
            "| Ano|Mês|Acessos|          Serviço|      Densidade|Código IBGE|           Município| UF|     Nome UF| Região|Código Nacional|\n",
            "+----+---+-------+-----------------+---------------+-----------+--------------------+---+------------+-------+---------------+\n",
            "|2021|  6|   3390|  Telefonia Móvel|73,841284196247|    3120102|Couto de Magalhãe...| MG|Minas Gerais|Sudeste|             38|\n",
            "|2021|  6|    372| Banda Larga Fixa|25,237449118046|    3120102|Couto de Magalhãe...| MG|Minas Gerais|Sudeste|             38|\n",
            "|2021|  6|    177|TV por Assinatura|12,008141112619|    3120102|Couto de Magalhãe...| MG|Minas Gerais|Sudeste|             38|\n",
            "|2021|  6|     91|   Telefonia Fixa|6,1736770691995|    3120102|Couto de Magalhãe...| MG|Minas Gerais|Sudeste|             38|\n",
            "|2020| 12|   2598|  Telefonia Móvel|58,738412841962|    3120102|Couto de Magalhãe...| MG|Minas Gerais|Sudeste|             38|\n",
            "|2020| 12|     69| Banda Larga Fixa|4,6811397557666|    3120102|Couto de Magalhãe...| MG|Minas Gerais|Sudeste|             38|\n",
            "|2020| 12|    168|TV por Assinatura|11,397557666214|    3120102|Couto de Magalhãe...| MG|Minas Gerais|Sudeste|             38|\n",
            "|2020| 12|    269|   Telefonia Fixa|18,249660786974|    3120102|Couto de Magalhãe...| MG|Minas Gerais|Sudeste|             38|\n",
            "|2019| 12|   2572|  Telefonia Móvel|58,321995464853|    3120102|Couto de Magalhãe...| MG|Minas Gerais|Sudeste|             38|\n",
            "|2019| 12|     66| Banda Larga Fixa|4,4897959183673|    3120102|Couto de Magalhãe...| MG|Minas Gerais|Sudeste|             38|\n",
            "|2019| 12|    123|TV por Assinatura|8,3673469387755|    3120102|Couto de Magalhãe...| MG|Minas Gerais|Sudeste|             38|\n",
            "|2019| 12|    328|   Telefonia Fixa|22,312925170068|    3120102|Couto de Magalhãe...| MG|Minas Gerais|Sudeste|             38|\n",
            "+----+---+-------+-----------------+---------------+-----------+--------------------+---+------------+-------+---------------+\n",
            "\n"
          ]
        }
      ]
    },
    {
      "cell_type": "code",
      "source": [
        "df1_spark.filter(F.col('Município').like(\"%MG%\")).count()"
      ],
      "metadata": {
        "colab": {
          "base_uri": "https://localhost:8080/"
        },
        "id": "B95cJ-u9noPe",
        "outputId": "ca476ddf-202c-44e1-f2e6-a7e5b469bc10"
      },
      "execution_count": 87,
      "outputs": [
        {
          "output_type": "execute_result",
          "data": {
            "text/plain": [
              "10235"
            ]
          },
          "metadata": {},
          "execution_count": 87
        }
      ]
    },
    {
      "cell_type": "markdown",
      "source": [
        "### Drop coluna\n",
        "* Código Nacional\n",
        "* Nome UF"
      ],
      "metadata": {
        "id": "QDHSxa1_RpXe"
      }
    },
    {
      "cell_type": "code",
      "source": [
        "df1_spark=df1_spark.drop(F.col('Código Nacional')).drop(F.col(' Município'))"
      ],
      "metadata": {
        "id": "RBTY6tR4R5FS"
      },
      "execution_count": 137,
      "outputs": []
    },
    {
      "cell_type": "code",
      "source": [
        "df1_spark.show(1)"
      ],
      "metadata": {
        "colab": {
          "base_uri": "https://localhost:8080/"
        },
        "id": "d8qSTUtCSpSK",
        "outputId": "e669aa68-f700-4a01-8c0c-53b08d0d0679"
      },
      "execution_count": 139,
      "outputs": [
        {
          "output_type": "stream",
          "name": "stdout",
          "text": [
            "+----+---+-------+---------------+---------------+-----------+-------------+---+-------+------+\n",
            "| Ano|Mês|Acessos|        Serviço|      Densidade|Código IBGE|    Município| UF|Nome UF|Região|\n",
            "+----+---+-------+---------------+---------------+-----------+-------------+---+-------+------+\n",
            "|2021|  6|   5597|Telefonia Móvel|73,114931636659|    4118709|Paulo Frontin| PR| Paraná|   Sul|\n",
            "+----+---+-------+---------------+---------------+-----------+-------------+---+-------+------+\n",
            "only showing top 1 row\n",
            "\n"
          ]
        }
      ]
    },
    {
      "cell_type": "markdown",
      "source": [
        ""
      ],
      "metadata": {
        "id": "Jg8oUWvyRpVv"
      }
    },
    {
      "cell_type": "markdown",
      "source": [
        "###witcolumnRenamed\n",
        "* Mês == Mes\n",
        "* Serviço == Servico\n",
        "* Código IBGE == Cod_IBGE\n",
        "* Município == Municipio\n",
        "* Região == Regiao"
      ],
      "metadata": {
        "id": "Id7NYiUwRdtX"
      }
    },
    {
      "cell_type": "code",
      "source": [
        "df1_spark=(df1_spark.withColumnRenamed(\"Mês\",\"Mes\")\n",
        "         .withColumnRenamed(\"Serviço\",\"Servico\")\n",
        "         .withColumnRenamed(\"Código IBGE\",\"Cod_IBGE\")\n",
        "         .withColumnRenamed(\"Município\",\"Municipio\")\n",
        "         .withColumnRenamed(\"Região\",\"Regiao\")\n",
        ")"
      ],
      "metadata": {
        "id": "tuHTzuR_noNz"
      },
      "execution_count": 142,
      "outputs": []
    },
    {
      "cell_type": "code",
      "source": [
        "df1_spark.show()"
      ],
      "metadata": {
        "colab": {
          "base_uri": "https://localhost:8080/"
        },
        "id": "KmG9ieZUV-mT",
        "outputId": "89847b45-2b0b-4ab0-ef2c-db210199bf59"
      },
      "execution_count": 143,
      "outputs": [
        {
          "output_type": "stream",
          "name": "stdout",
          "text": [
            "+----+---+-------+-----------------+----------------+--------+-----------------+---+--------------+--------+\n",
            "| Ano|Mes|Acessos|          Servico|       Densidade|Cod_IBGE|        Municipio| UF|       Nome UF|  Regiao|\n",
            "+----+---+-------+-----------------+----------------+--------+-----------------+---+--------------+--------+\n",
            "|2021|  6|   5597|  Telefonia Móvel| 73,114931636659| 4118709|    Paulo Frontin| PR|        Paraná|     Sul|\n",
            "|2021|  6|    713| Banda Larga Fixa| 27,993718099725| 4118709|    Paulo Frontin| PR|        Paraná|     Sul|\n",
            "|2021|  6|    132|TV por Assinatura| 5,1825677267373| 4118709|    Paulo Frontin| PR|        Paraná|     Sul|\n",
            "|2021|  6|    327|   Telefonia Fixa|  12,83863368669| 4118709|    Paulo Frontin| PR|        Paraná|     Sul|\n",
            "|2021|  6| 162149|  Telefonia Móvel| 113,77138048893| 3300209|         Araruama| RJ|Rio de Janeiro| Sudeste|\n",
            "|2021|  6|  32457| Banda Larga Fixa| 67,673734909614| 3300209|         Araruama| RJ|Rio de Janeiro| Sudeste|\n",
            "|2021|  6|  11287|TV por Assinatura| 23,533704468214| 3300209|         Araruama| RJ|Rio de Janeiro| Sudeste|\n",
            "|2021|  6|  10160|   Telefonia Fixa| 21,183878568003| 3300209|         Araruama| RJ|Rio de Janeiro| Sudeste|\n",
            "|2021|  6|  23556|  Telefonia Móvel| 70,773058140606| 4119301|           Pinhão| PR|        Paraná|     Sul|\n",
            "|2021|  6|   7269| Banda Larga Fixa| 64,745702324753| 4119301|           Pinhão| PR|        Paraná|     Sul|\n",
            "|2021|  6|    294|TV por Assinatura| 2,6186870936136| 4119301|           Pinhão| PR|        Paraná|     Sul|\n",
            "|2021|  6|    804|   Telefonia Fixa|  7,161307562127| 4119301|           Pinhão| PR|        Paraná|     Sul|\n",
            "|2021|  6|  20349|  Telefonia Móvel| 87,231329690346| 4117305|       Ortigueira| PR|        Paraná|     Sul|\n",
            "|2021|  6|   2120| Banda Larga Fixa| 27,997886951928| 4117305|       Ortigueira| PR|        Paraná|     Sul|\n",
            "|2021|  6|   1136|TV por Assinatura|  15,00264131009| 4117305|       Ortigueira| PR|        Paraná|     Sul|\n",
            "|2021|  6|    698|   Telefonia Fixa| 9,2181722134179| 4117305|       Ortigueira| PR|        Paraná|     Sul|\n",
            "|2021|  6|   7617|  Telefonia Móvel| 63,604984004041| 2901809|Antônio Gonçalves| BA|         Bahia|Nordeste|\n",
            "|2021|  6|    191| Banda Larga Fixa| 4,8244506188431| 2901809|Antônio Gonçalves| BA|         Bahia|Nordeste|\n",
            "|2021|  6|     31|TV por Assinatura|0,78302601667088| 2901809|Antônio Gonçalves| BA|         Bahia|Nordeste|\n",
            "|2021|  6|     75|   Telefonia Fixa| 1,8944177822682| 2901809|Antônio Gonçalves| BA|         Bahia|Nordeste|\n",
            "+----+---+-------+-----------------+----------------+--------+-----------------+---+--------------+--------+\n",
            "only showing top 20 rows\n",
            "\n"
          ]
        }
      ]
    },
    {
      "cell_type": "markdown",
      "source": [
        "###Inserindo bucket \n",
        "Tratados "
      ],
      "metadata": {
        "id": "ZDbRTnLwEItO"
      }
    },
    {
      "cell_type": "code",
      "source": [
        "df1_spark.toPandas().to_parquet('gs://soulcode-bc17-telecom/Tratados/Meu_Municipio_AcessosTratad.gzip',compression='gzip')"
      ],
      "metadata": {
        "id": "tWnz21C4We58"
      },
      "execution_count": 145,
      "outputs": []
    },
    {
      "cell_type": "markdown",
      "source": [
        "# **Velocidade_Contratada_SCM.csv**\n"
      ],
      "metadata": {
        "id": "w_eOiH6PzOrY"
      }
    },
    {
      "cell_type": "code",
      "source": [
        "df2_extrai=pd.read_csv('gs://telecomunicacao2/Velocidade_Contratada_SCM.csv',sep=\";\")"
      ],
      "metadata": {
        "id": "jIOwGc4teAJz"
      },
      "execution_count": 149,
      "outputs": []
    },
    {
      "cell_type": "markdown",
      "source": [
        "**Copy**"
      ],
      "metadata": {
        "id": "VzQT-0ZNhvL3"
      }
    },
    {
      "cell_type": "code",
      "source": [
        "df2_pd = df2_extrai.copy()"
      ],
      "metadata": {
        "id": "q5BofyrLfmVw"
      },
      "execution_count": 150,
      "outputs": []
    },
    {
      "cell_type": "markdown",
      "source": [
        "###Inserindo Bucket"
      ],
      "metadata": {
        "id": "1mki6icAygnZ"
      }
    },
    {
      "cell_type": "code",
      "source": [
        "df2_extrai.to_csv('gs://soulcode-bc17-telecom/Original/Velocidade_Contratada_SCM.csv',index=False)\n"
      ],
      "metadata": {
        "id": "q2CZAjYEygIz"
      },
      "execution_count": 190,
      "outputs": []
    },
    {
      "cell_type": "code",
      "source": [
        "df2_pd.head(2)"
      ],
      "metadata": {
        "colab": {
          "base_uri": "https://localhost:8080/",
          "height": 0
        },
        "id": "msOJz55sht__",
        "outputId": "531d5c1c-340f-47d8-a056-1024e0de3cbd"
      },
      "execution_count": 176,
      "outputs": [
        {
          "output_type": "execute_result",
          "data": {
            "text/plain": [
              "      Ano   Mês       razao_social                cnpj  \\\n",
              "0  2020.0  12.0  algar telecom s/a  71.208.516/0001-74   \n",
              "1  2020.0  12.0  algar telecom s/a  71.208.516/0001-74   \n",
              "\n",
              "  velocidade_contratada_mbps  uf   municipio  codigo_ibge  acessos      tipo  \\\n",
              "0                         40  MG  UBERLANDIA    3170206.0  16660.0  INTERNET   \n",
              "1                         40  SP      FRANCA    3516200.0   5093.0  INTERNET   \n",
              "\n",
              "      municipio_uf  \n",
              "0  Uberlândia - MG  \n",
              "1      Franca - SP  "
            ],
            "text/html": [
              "\n",
              "  <div id=\"df-c192ab3c-883f-4d52-82c4-8f442b378e0b\">\n",
              "    <div class=\"colab-df-container\">\n",
              "      <div>\n",
              "<style scoped>\n",
              "    .dataframe tbody tr th:only-of-type {\n",
              "        vertical-align: middle;\n",
              "    }\n",
              "\n",
              "    .dataframe tbody tr th {\n",
              "        vertical-align: top;\n",
              "    }\n",
              "\n",
              "    .dataframe thead th {\n",
              "        text-align: right;\n",
              "    }\n",
              "</style>\n",
              "<table border=\"1\" class=\"dataframe\">\n",
              "  <thead>\n",
              "    <tr style=\"text-align: right;\">\n",
              "      <th></th>\n",
              "      <th>Ano</th>\n",
              "      <th>Mês</th>\n",
              "      <th>razao_social</th>\n",
              "      <th>cnpj</th>\n",
              "      <th>velocidade_contratada_mbps</th>\n",
              "      <th>uf</th>\n",
              "      <th>municipio</th>\n",
              "      <th>codigo_ibge</th>\n",
              "      <th>acessos</th>\n",
              "      <th>tipo</th>\n",
              "      <th>municipio_uf</th>\n",
              "    </tr>\n",
              "  </thead>\n",
              "  <tbody>\n",
              "    <tr>\n",
              "      <th>0</th>\n",
              "      <td>2020.0</td>\n",
              "      <td>12.0</td>\n",
              "      <td>algar telecom s/a</td>\n",
              "      <td>71.208.516/0001-74</td>\n",
              "      <td>40</td>\n",
              "      <td>MG</td>\n",
              "      <td>UBERLANDIA</td>\n",
              "      <td>3170206.0</td>\n",
              "      <td>16660.0</td>\n",
              "      <td>INTERNET</td>\n",
              "      <td>Uberlândia - MG</td>\n",
              "    </tr>\n",
              "    <tr>\n",
              "      <th>1</th>\n",
              "      <td>2020.0</td>\n",
              "      <td>12.0</td>\n",
              "      <td>algar telecom s/a</td>\n",
              "      <td>71.208.516/0001-74</td>\n",
              "      <td>40</td>\n",
              "      <td>SP</td>\n",
              "      <td>FRANCA</td>\n",
              "      <td>3516200.0</td>\n",
              "      <td>5093.0</td>\n",
              "      <td>INTERNET</td>\n",
              "      <td>Franca - SP</td>\n",
              "    </tr>\n",
              "  </tbody>\n",
              "</table>\n",
              "</div>\n",
              "      <button class=\"colab-df-convert\" onclick=\"convertToInteractive('df-c192ab3c-883f-4d52-82c4-8f442b378e0b')\"\n",
              "              title=\"Convert this dataframe to an interactive table.\"\n",
              "              style=\"display:none;\">\n",
              "        \n",
              "  <svg xmlns=\"http://www.w3.org/2000/svg\" height=\"24px\"viewBox=\"0 0 24 24\"\n",
              "       width=\"24px\">\n",
              "    <path d=\"M0 0h24v24H0V0z\" fill=\"none\"/>\n",
              "    <path d=\"M18.56 5.44l.94 2.06.94-2.06 2.06-.94-2.06-.94-.94-2.06-.94 2.06-2.06.94zm-11 1L8.5 8.5l.94-2.06 2.06-.94-2.06-.94L8.5 2.5l-.94 2.06-2.06.94zm10 10l.94 2.06.94-2.06 2.06-.94-2.06-.94-.94-2.06-.94 2.06-2.06.94z\"/><path d=\"M17.41 7.96l-1.37-1.37c-.4-.4-.92-.59-1.43-.59-.52 0-1.04.2-1.43.59L10.3 9.45l-7.72 7.72c-.78.78-.78 2.05 0 2.83L4 21.41c.39.39.9.59 1.41.59.51 0 1.02-.2 1.41-.59l7.78-7.78 2.81-2.81c.8-.78.8-2.07 0-2.86zM5.41 20L4 18.59l7.72-7.72 1.47 1.35L5.41 20z\"/>\n",
              "  </svg>\n",
              "      </button>\n",
              "      \n",
              "  <style>\n",
              "    .colab-df-container {\n",
              "      display:flex;\n",
              "      flex-wrap:wrap;\n",
              "      gap: 12px;\n",
              "    }\n",
              "\n",
              "    .colab-df-convert {\n",
              "      background-color: #E8F0FE;\n",
              "      border: none;\n",
              "      border-radius: 50%;\n",
              "      cursor: pointer;\n",
              "      display: none;\n",
              "      fill: #1967D2;\n",
              "      height: 32px;\n",
              "      padding: 0 0 0 0;\n",
              "      width: 32px;\n",
              "    }\n",
              "\n",
              "    .colab-df-convert:hover {\n",
              "      background-color: #E2EBFA;\n",
              "      box-shadow: 0px 1px 2px rgba(60, 64, 67, 0.3), 0px 1px 3px 1px rgba(60, 64, 67, 0.15);\n",
              "      fill: #174EA6;\n",
              "    }\n",
              "\n",
              "    [theme=dark] .colab-df-convert {\n",
              "      background-color: #3B4455;\n",
              "      fill: #D2E3FC;\n",
              "    }\n",
              "\n",
              "    [theme=dark] .colab-df-convert:hover {\n",
              "      background-color: #434B5C;\n",
              "      box-shadow: 0px 1px 3px 1px rgba(0, 0, 0, 0.15);\n",
              "      filter: drop-shadow(0px 1px 2px rgba(0, 0, 0, 0.3));\n",
              "      fill: #FFFFFF;\n",
              "    }\n",
              "  </style>\n",
              "\n",
              "      <script>\n",
              "        const buttonEl =\n",
              "          document.querySelector('#df-c192ab3c-883f-4d52-82c4-8f442b378e0b button.colab-df-convert');\n",
              "        buttonEl.style.display =\n",
              "          google.colab.kernel.accessAllowed ? 'block' : 'none';\n",
              "\n",
              "        async function convertToInteractive(key) {\n",
              "          const element = document.querySelector('#df-c192ab3c-883f-4d52-82c4-8f442b378e0b');\n",
              "          const dataTable =\n",
              "            await google.colab.kernel.invokeFunction('convertToInteractive',\n",
              "                                                     [key], {});\n",
              "          if (!dataTable) return;\n",
              "\n",
              "          const docLinkHtml = 'Like what you see? Visit the ' +\n",
              "            '<a target=\"_blank\" href=https://colab.research.google.com/notebooks/data_table.ipynb>data table notebook</a>'\n",
              "            + ' to learn more about interactive tables.';\n",
              "          element.innerHTML = '';\n",
              "          dataTable['output_type'] = 'display_data';\n",
              "          await google.colab.output.renderOutput(dataTable, element);\n",
              "          const docLink = document.createElement('div');\n",
              "          docLink.innerHTML = docLinkHtml;\n",
              "          element.appendChild(docLink);\n",
              "        }\n",
              "      </script>\n",
              "    </div>\n",
              "  </div>\n",
              "  "
            ]
          },
          "metadata": {},
          "execution_count": 176
        }
      ]
    },
    {
      "cell_type": "markdown",
      "source": [
        "###Unique"
      ],
      "metadata": {
        "id": "Y2BnJO2MxmSR"
      }
    },
    {
      "cell_type": "code",
      "source": [
        "pd.unique(df2_pd['Mês'])"
      ],
      "metadata": {
        "colab": {
          "base_uri": "https://localhost:8080/"
        },
        "id": "tMIFC-RolfBw",
        "outputId": "f6b6368c-9565-4e75-ba73-cc644b43f514"
      },
      "execution_count": 155,
      "outputs": [
        {
          "output_type": "execute_result",
          "data": {
            "text/plain": [
              "array([12., 11., 10.,  9.,  8.,  7.,  6.,  5.,  4.,  3.,  2.,  1., nan])"
            ]
          },
          "metadata": {},
          "execution_count": 155
        }
      ]
    },
    {
      "cell_type": "markdown",
      "source": [
        "###Info"
      ],
      "metadata": {
        "id": "zZpNUXQixpgT"
      }
    },
    {
      "cell_type": "code",
      "source": [
        "df2_pd.info()"
      ],
      "metadata": {
        "colab": {
          "base_uri": "https://localhost:8080/"
        },
        "id": "HDtpopY0l_E2",
        "outputId": "374173f0-2298-4946-f08d-a6ff54904557"
      },
      "execution_count": 158,
      "outputs": [
        {
          "output_type": "stream",
          "name": "stdout",
          "text": [
            "<class 'pandas.core.frame.DataFrame'>\n",
            "RangeIndex: 5789372 entries, 0 to 5789371\n",
            "Data columns (total 11 columns):\n",
            " #   Column                      Dtype  \n",
            "---  ------                      -----  \n",
            " 0   Ano                         float64\n",
            " 1   Mês                         float64\n",
            " 2   razao_social                object \n",
            " 3   cnpj                        object \n",
            " 4   velocidade_contratada_mbps  object \n",
            " 5   uf                          object \n",
            " 6   municipio                   object \n",
            " 7   codigo_ibge                 float64\n",
            " 8   acessos                     float64\n",
            " 9   tipo                        object \n",
            " 10  municipio_uf                object \n",
            "dtypes: float64(4), object(7)\n",
            "memory usage: 485.9+ MB\n"
          ]
        }
      ]
    },
    {
      "cell_type": "markdown",
      "source": [
        "###Duplicated"
      ],
      "metadata": {
        "id": "JrreecvYxuVx"
      }
    },
    {
      "cell_type": "code",
      "source": [
        "df2_pd.duplicated().sum()"
      ],
      "metadata": {
        "colab": {
          "base_uri": "https://localhost:8080/"
        },
        "id": "ykoN2lhJme7V",
        "outputId": "d6ca5892-a1ae-452d-cbae-48aab47bc2db"
      },
      "execution_count": 162,
      "outputs": [
        {
          "output_type": "execute_result",
          "data": {
            "text/plain": [
              "11684"
            ]
          },
          "metadata": {},
          "execution_count": 162
        }
      ]
    },
    {
      "cell_type": "code",
      "source": [
        "df_pd=df2_pd[df2_pd.duplicated()]"
      ],
      "metadata": {
        "id": "UT6JxPTPpa4R"
      },
      "execution_count": 166,
      "outputs": []
    },
    {
      "cell_type": "code",
      "source": [
        "df_pd.head()"
      ],
      "metadata": {
        "id": "fgRxLa3xqNJs"
      },
      "execution_count": null,
      "outputs": []
    },
    {
      "cell_type": "code",
      "source": [
        "df2_pd= df2_pd.drop_duplicates()"
      ],
      "metadata": {
        "id": "Z-dlRSaJoobv"
      },
      "execution_count": 174,
      "outputs": []
    },
    {
      "cell_type": "code",
      "source": [
        "df2_pd.count()"
      ],
      "metadata": {
        "colab": {
          "base_uri": "https://localhost:8080/"
        },
        "id": "fZsYq-zhtoJz",
        "outputId": "d1690d21-77dd-4bf0-9a77-7010d3d88eec"
      },
      "execution_count": 182,
      "outputs": [
        {
          "output_type": "execute_result",
          "data": {
            "text/plain": [
              "Ano                           5777687\n",
              "Mês                           5777687\n",
              "razao_social                  5777687\n",
              "cnpj                          5777687\n",
              "velocidade_contratada_mbps    5777593\n",
              "uf                            5777687\n",
              "municipio                     5777687\n",
              "codigo_ibge                   5777687\n",
              "acessos                       5777432\n",
              "tipo                          5777687\n",
              "municipio_uf                  5777687\n",
              "dtype: int64"
            ]
          },
          "metadata": {},
          "execution_count": 182
        }
      ]
    },
    {
      "cell_type": "markdown",
      "source": [
        "###Isnull"
      ],
      "metadata": {
        "id": "OAIbhVHax6Ph"
      }
    },
    {
      "cell_type": "code",
      "source": [
        "pd.isnull(df2_pd).sum()"
      ],
      "metadata": {
        "colab": {
          "base_uri": "https://localhost:8080/"
        },
        "id": "yM58P2oZpa2d",
        "outputId": "c2fb5de7-26b1-48dc-9733-42e796f500d1"
      },
      "execution_count": 181,
      "outputs": [
        {
          "output_type": "execute_result",
          "data": {
            "text/plain": [
              "Ano                             1\n",
              "Mês                             1\n",
              "razao_social                    1\n",
              "cnpj                            1\n",
              "velocidade_contratada_mbps     95\n",
              "uf                              1\n",
              "municipio                       1\n",
              "codigo_ibge                     1\n",
              "acessos                       256\n",
              "tipo                            1\n",
              "municipio_uf                    1\n",
              "dtype: int64"
            ]
          },
          "metadata": {},
          "execution_count": 181
        }
      ]
    },
    {
      "cell_type": "markdown",
      "source": [
        "###Drop"
      ],
      "metadata": {
        "id": "yl7uw7e17Szf"
      }
    },
    {
      "cell_type": "markdown",
      "source": [
        "**Coluna**"
      ],
      "metadata": {
        "id": "Bjl8_m6k7Y4L"
      }
    },
    {
      "cell_type": "code",
      "source": [
        "df2_pd=df2_pd.drop(columns=['municipio_uf'])"
      ],
      "metadata": {
        "id": "SbXBN6eI7YYn"
      },
      "execution_count": 231,
      "outputs": []
    },
    {
      "cell_type": "code",
      "source": [
        "df2_pd.head()"
      ],
      "metadata": {
        "colab": {
          "base_uri": "https://localhost:8080/",
          "height": 0
        },
        "id": "uB6Ko4FY85UP",
        "outputId": "503d696c-1538-455f-a13e-9a6fd845939e"
      },
      "execution_count": 232,
      "outputs": [
        {
          "output_type": "execute_result",
          "data": {
            "text/plain": [
              "      Ano   Mes       razao_social                cnpj  \\\n",
              "0  2020.0  12.0  algar telecom s/a  71.208.516/0001-74   \n",
              "1  2020.0  12.0  algar telecom s/a  71.208.516/0001-74   \n",
              "2  2020.0  12.0  algar telecom s/a  71.208.516/0001-74   \n",
              "3  2020.0  12.0  algar telecom s/a  71.208.516/0001-74   \n",
              "4  2020.0  12.0  algar telecom s/a  71.208.516/0001-74   \n",
              "\n",
              "  velocidade_contratada_mbps  uf      municipio   Cod_IBGE  acessos      tipo  \n",
              "0                         40  MG     UBERLANDIA  3170206.0  16660.0  INTERNET  \n",
              "1                         40  SP         FRANCA  3516200.0   5093.0  INTERNET  \n",
              "2                         10  MG     UBERLANDIA  3170206.0  10507.0  INTERNET  \n",
              "3                         60  MG    CAPINOPOLIS  3112604.0    498.0  INTERNET  \n",
              "4                        100  MG  SANTA JULIANA  3157708.0    508.0  INTERNET  "
            ],
            "text/html": [
              "\n",
              "  <div id=\"df-9d3de4e5-e97c-4fa6-89cf-dd339ea33354\">\n",
              "    <div class=\"colab-df-container\">\n",
              "      <div>\n",
              "<style scoped>\n",
              "    .dataframe tbody tr th:only-of-type {\n",
              "        vertical-align: middle;\n",
              "    }\n",
              "\n",
              "    .dataframe tbody tr th {\n",
              "        vertical-align: top;\n",
              "    }\n",
              "\n",
              "    .dataframe thead th {\n",
              "        text-align: right;\n",
              "    }\n",
              "</style>\n",
              "<table border=\"1\" class=\"dataframe\">\n",
              "  <thead>\n",
              "    <tr style=\"text-align: right;\">\n",
              "      <th></th>\n",
              "      <th>Ano</th>\n",
              "      <th>Mes</th>\n",
              "      <th>razao_social</th>\n",
              "      <th>cnpj</th>\n",
              "      <th>velocidade_contratada_mbps</th>\n",
              "      <th>uf</th>\n",
              "      <th>municipio</th>\n",
              "      <th>Cod_IBGE</th>\n",
              "      <th>acessos</th>\n",
              "      <th>tipo</th>\n",
              "    </tr>\n",
              "  </thead>\n",
              "  <tbody>\n",
              "    <tr>\n",
              "      <th>0</th>\n",
              "      <td>2020.0</td>\n",
              "      <td>12.0</td>\n",
              "      <td>algar telecom s/a</td>\n",
              "      <td>71.208.516/0001-74</td>\n",
              "      <td>40</td>\n",
              "      <td>MG</td>\n",
              "      <td>UBERLANDIA</td>\n",
              "      <td>3170206.0</td>\n",
              "      <td>16660.0</td>\n",
              "      <td>INTERNET</td>\n",
              "    </tr>\n",
              "    <tr>\n",
              "      <th>1</th>\n",
              "      <td>2020.0</td>\n",
              "      <td>12.0</td>\n",
              "      <td>algar telecom s/a</td>\n",
              "      <td>71.208.516/0001-74</td>\n",
              "      <td>40</td>\n",
              "      <td>SP</td>\n",
              "      <td>FRANCA</td>\n",
              "      <td>3516200.0</td>\n",
              "      <td>5093.0</td>\n",
              "      <td>INTERNET</td>\n",
              "    </tr>\n",
              "    <tr>\n",
              "      <th>2</th>\n",
              "      <td>2020.0</td>\n",
              "      <td>12.0</td>\n",
              "      <td>algar telecom s/a</td>\n",
              "      <td>71.208.516/0001-74</td>\n",
              "      <td>10</td>\n",
              "      <td>MG</td>\n",
              "      <td>UBERLANDIA</td>\n",
              "      <td>3170206.0</td>\n",
              "      <td>10507.0</td>\n",
              "      <td>INTERNET</td>\n",
              "    </tr>\n",
              "    <tr>\n",
              "      <th>3</th>\n",
              "      <td>2020.0</td>\n",
              "      <td>12.0</td>\n",
              "      <td>algar telecom s/a</td>\n",
              "      <td>71.208.516/0001-74</td>\n",
              "      <td>60</td>\n",
              "      <td>MG</td>\n",
              "      <td>CAPINOPOLIS</td>\n",
              "      <td>3112604.0</td>\n",
              "      <td>498.0</td>\n",
              "      <td>INTERNET</td>\n",
              "    </tr>\n",
              "    <tr>\n",
              "      <th>4</th>\n",
              "      <td>2020.0</td>\n",
              "      <td>12.0</td>\n",
              "      <td>algar telecom s/a</td>\n",
              "      <td>71.208.516/0001-74</td>\n",
              "      <td>100</td>\n",
              "      <td>MG</td>\n",
              "      <td>SANTA JULIANA</td>\n",
              "      <td>3157708.0</td>\n",
              "      <td>508.0</td>\n",
              "      <td>INTERNET</td>\n",
              "    </tr>\n",
              "  </tbody>\n",
              "</table>\n",
              "</div>\n",
              "      <button class=\"colab-df-convert\" onclick=\"convertToInteractive('df-9d3de4e5-e97c-4fa6-89cf-dd339ea33354')\"\n",
              "              title=\"Convert this dataframe to an interactive table.\"\n",
              "              style=\"display:none;\">\n",
              "        \n",
              "  <svg xmlns=\"http://www.w3.org/2000/svg\" height=\"24px\"viewBox=\"0 0 24 24\"\n",
              "       width=\"24px\">\n",
              "    <path d=\"M0 0h24v24H0V0z\" fill=\"none\"/>\n",
              "    <path d=\"M18.56 5.44l.94 2.06.94-2.06 2.06-.94-2.06-.94-.94-2.06-.94 2.06-2.06.94zm-11 1L8.5 8.5l.94-2.06 2.06-.94-2.06-.94L8.5 2.5l-.94 2.06-2.06.94zm10 10l.94 2.06.94-2.06 2.06-.94-2.06-.94-.94-2.06-.94 2.06-2.06.94z\"/><path d=\"M17.41 7.96l-1.37-1.37c-.4-.4-.92-.59-1.43-.59-.52 0-1.04.2-1.43.59L10.3 9.45l-7.72 7.72c-.78.78-.78 2.05 0 2.83L4 21.41c.39.39.9.59 1.41.59.51 0 1.02-.2 1.41-.59l7.78-7.78 2.81-2.81c.8-.78.8-2.07 0-2.86zM5.41 20L4 18.59l7.72-7.72 1.47 1.35L5.41 20z\"/>\n",
              "  </svg>\n",
              "      </button>\n",
              "      \n",
              "  <style>\n",
              "    .colab-df-container {\n",
              "      display:flex;\n",
              "      flex-wrap:wrap;\n",
              "      gap: 12px;\n",
              "    }\n",
              "\n",
              "    .colab-df-convert {\n",
              "      background-color: #E8F0FE;\n",
              "      border: none;\n",
              "      border-radius: 50%;\n",
              "      cursor: pointer;\n",
              "      display: none;\n",
              "      fill: #1967D2;\n",
              "      height: 32px;\n",
              "      padding: 0 0 0 0;\n",
              "      width: 32px;\n",
              "    }\n",
              "\n",
              "    .colab-df-convert:hover {\n",
              "      background-color: #E2EBFA;\n",
              "      box-shadow: 0px 1px 2px rgba(60, 64, 67, 0.3), 0px 1px 3px 1px rgba(60, 64, 67, 0.15);\n",
              "      fill: #174EA6;\n",
              "    }\n",
              "\n",
              "    [theme=dark] .colab-df-convert {\n",
              "      background-color: #3B4455;\n",
              "      fill: #D2E3FC;\n",
              "    }\n",
              "\n",
              "    [theme=dark] .colab-df-convert:hover {\n",
              "      background-color: #434B5C;\n",
              "      box-shadow: 0px 1px 3px 1px rgba(0, 0, 0, 0.15);\n",
              "      filter: drop-shadow(0px 1px 2px rgba(0, 0, 0, 0.3));\n",
              "      fill: #FFFFFF;\n",
              "    }\n",
              "  </style>\n",
              "\n",
              "      <script>\n",
              "        const buttonEl =\n",
              "          document.querySelector('#df-9d3de4e5-e97c-4fa6-89cf-dd339ea33354 button.colab-df-convert');\n",
              "        buttonEl.style.display =\n",
              "          google.colab.kernel.accessAllowed ? 'block' : 'none';\n",
              "\n",
              "        async function convertToInteractive(key) {\n",
              "          const element = document.querySelector('#df-9d3de4e5-e97c-4fa6-89cf-dd339ea33354');\n",
              "          const dataTable =\n",
              "            await google.colab.kernel.invokeFunction('convertToInteractive',\n",
              "                                                     [key], {});\n",
              "          if (!dataTable) return;\n",
              "\n",
              "          const docLinkHtml = 'Like what you see? Visit the ' +\n",
              "            '<a target=\"_blank\" href=https://colab.research.google.com/notebooks/data_table.ipynb>data table notebook</a>'\n",
              "            + ' to learn more about interactive tables.';\n",
              "          element.innerHTML = '';\n",
              "          dataTable['output_type'] = 'display_data';\n",
              "          await google.colab.output.renderOutput(dataTable, element);\n",
              "          const docLink = document.createElement('div');\n",
              "          docLink.innerHTML = docLinkHtml;\n",
              "          element.appendChild(docLink);\n",
              "        }\n",
              "      </script>\n",
              "    </div>\n",
              "  </div>\n",
              "  "
            ]
          },
          "metadata": {},
          "execution_count": 232
        }
      ]
    },
    {
      "cell_type": "markdown",
      "source": [
        "**Linhas** \n",
        "* Valores  isnull == 360\n",
        "* df2_pd == 5777687\n",
        "* isnull 0.006% == df2_pd"
      ],
      "metadata": {
        "id": "MZkqTQ4atEs7"
      }
    },
    {
      "cell_type": "code",
      "source": [
        "df2_pd=df2_pd.dropna()"
      ],
      "metadata": {
        "id": "lVPfalUjtEUL"
      },
      "execution_count": 213,
      "outputs": []
    },
    {
      "cell_type": "code",
      "source": [
        "pd.isnull(df2_pd).sum()"
      ],
      "metadata": {
        "colab": {
          "base_uri": "https://localhost:8080/"
        },
        "id": "MHKjIMQhxAKz",
        "outputId": "dfe6c5f8-bf80-4620-8c75-bf9d8f728889"
      },
      "execution_count": 214,
      "outputs": [
        {
          "output_type": "execute_result",
          "data": {
            "text/plain": [
              "Ano                           0\n",
              "Mês                           0\n",
              "razao_social                  0\n",
              "cnpj                          0\n",
              "velocidade_contratada_mbps    0\n",
              "uf                            0\n",
              "municipio                     0\n",
              "codigo_ibge                   0\n",
              "acessos                       0\n",
              "tipo                          0\n",
              "municipio_uf                  0\n",
              "dtype: int64"
            ]
          },
          "metadata": {},
          "execution_count": 214
        }
      ]
    },
    {
      "cell_type": "markdown",
      "source": [
        "###Unique"
      ],
      "metadata": {
        "id": "8Ft23ii30JTp"
      }
    },
    {
      "cell_type": "code",
      "source": [
        "pd.unique(df2_pd['municipio_uf'])"
      ],
      "metadata": {
        "colab": {
          "base_uri": "https://localhost:8080/"
        },
        "id": "02vJIMVF0FnT",
        "outputId": "75ee179f-3377-4d32-ad05-4cb1e5893eea"
      },
      "execution_count": 215,
      "outputs": [
        {
          "output_type": "execute_result",
          "data": {
            "text/plain": [
              "array(['Uberlândia - MG', 'Franca - SP', 'Capinópolis - MG', ...,\n",
              "       'Quixaba - PB', 'Quixaba - PE', 'São Valério - TO'], dtype=object)"
            ]
          },
          "metadata": {},
          "execution_count": 215
        }
      ]
    },
    {
      "cell_type": "markdown",
      "source": [
        "###Rename \n"
      ],
      "metadata": {
        "id": "pI2l-UMD5dbf"
      }
    },
    {
      "cell_type": "code",
      "source": [
        "df2_pd.rename(columns = {'Mês':'Mes','codigo_ibge':'Cod_IBGE'},inplace=True)"
      ],
      "metadata": {
        "id": "ewhbYM1554jY"
      },
      "execution_count": 225,
      "outputs": []
    },
    {
      "cell_type": "code",
      "source": [
        "df2_pd.head(1)"
      ],
      "metadata": {
        "colab": {
          "base_uri": "https://localhost:8080/",
          "height": 162
        },
        "id": "-AIc11TF1ufQ",
        "outputId": "9c54d1a7-7f2c-4803-f1b4-98527510d0e2"
      },
      "execution_count": 233,
      "outputs": [
        {
          "output_type": "execute_result",
          "data": {
            "text/plain": [
              "      Ano   Mes       razao_social                cnpj  \\\n",
              "0  2020.0  12.0  algar telecom s/a  71.208.516/0001-74   \n",
              "\n",
              "  velocidade_contratada_mbps  uf   municipio   Cod_IBGE  acessos      tipo  \n",
              "0                         40  MG  UBERLANDIA  3170206.0  16660.0  INTERNET  "
            ],
            "text/html": [
              "\n",
              "  <div id=\"df-d2a30bfa-4cb0-4126-826b-aba941cf1f2c\">\n",
              "    <div class=\"colab-df-container\">\n",
              "      <div>\n",
              "<style scoped>\n",
              "    .dataframe tbody tr th:only-of-type {\n",
              "        vertical-align: middle;\n",
              "    }\n",
              "\n",
              "    .dataframe tbody tr th {\n",
              "        vertical-align: top;\n",
              "    }\n",
              "\n",
              "    .dataframe thead th {\n",
              "        text-align: right;\n",
              "    }\n",
              "</style>\n",
              "<table border=\"1\" class=\"dataframe\">\n",
              "  <thead>\n",
              "    <tr style=\"text-align: right;\">\n",
              "      <th></th>\n",
              "      <th>Ano</th>\n",
              "      <th>Mes</th>\n",
              "      <th>razao_social</th>\n",
              "      <th>cnpj</th>\n",
              "      <th>velocidade_contratada_mbps</th>\n",
              "      <th>uf</th>\n",
              "      <th>municipio</th>\n",
              "      <th>Cod_IBGE</th>\n",
              "      <th>acessos</th>\n",
              "      <th>tipo</th>\n",
              "    </tr>\n",
              "  </thead>\n",
              "  <tbody>\n",
              "    <tr>\n",
              "      <th>0</th>\n",
              "      <td>2020.0</td>\n",
              "      <td>12.0</td>\n",
              "      <td>algar telecom s/a</td>\n",
              "      <td>71.208.516/0001-74</td>\n",
              "      <td>40</td>\n",
              "      <td>MG</td>\n",
              "      <td>UBERLANDIA</td>\n",
              "      <td>3170206.0</td>\n",
              "      <td>16660.0</td>\n",
              "      <td>INTERNET</td>\n",
              "    </tr>\n",
              "  </tbody>\n",
              "</table>\n",
              "</div>\n",
              "      <button class=\"colab-df-convert\" onclick=\"convertToInteractive('df-d2a30bfa-4cb0-4126-826b-aba941cf1f2c')\"\n",
              "              title=\"Convert this dataframe to an interactive table.\"\n",
              "              style=\"display:none;\">\n",
              "        \n",
              "  <svg xmlns=\"http://www.w3.org/2000/svg\" height=\"24px\"viewBox=\"0 0 24 24\"\n",
              "       width=\"24px\">\n",
              "    <path d=\"M0 0h24v24H0V0z\" fill=\"none\"/>\n",
              "    <path d=\"M18.56 5.44l.94 2.06.94-2.06 2.06-.94-2.06-.94-.94-2.06-.94 2.06-2.06.94zm-11 1L8.5 8.5l.94-2.06 2.06-.94-2.06-.94L8.5 2.5l-.94 2.06-2.06.94zm10 10l.94 2.06.94-2.06 2.06-.94-2.06-.94-.94-2.06-.94 2.06-2.06.94z\"/><path d=\"M17.41 7.96l-1.37-1.37c-.4-.4-.92-.59-1.43-.59-.52 0-1.04.2-1.43.59L10.3 9.45l-7.72 7.72c-.78.78-.78 2.05 0 2.83L4 21.41c.39.39.9.59 1.41.59.51 0 1.02-.2 1.41-.59l7.78-7.78 2.81-2.81c.8-.78.8-2.07 0-2.86zM5.41 20L4 18.59l7.72-7.72 1.47 1.35L5.41 20z\"/>\n",
              "  </svg>\n",
              "      </button>\n",
              "      \n",
              "  <style>\n",
              "    .colab-df-container {\n",
              "      display:flex;\n",
              "      flex-wrap:wrap;\n",
              "      gap: 12px;\n",
              "    }\n",
              "\n",
              "    .colab-df-convert {\n",
              "      background-color: #E8F0FE;\n",
              "      border: none;\n",
              "      border-radius: 50%;\n",
              "      cursor: pointer;\n",
              "      display: none;\n",
              "      fill: #1967D2;\n",
              "      height: 32px;\n",
              "      padding: 0 0 0 0;\n",
              "      width: 32px;\n",
              "    }\n",
              "\n",
              "    .colab-df-convert:hover {\n",
              "      background-color: #E2EBFA;\n",
              "      box-shadow: 0px 1px 2px rgba(60, 64, 67, 0.3), 0px 1px 3px 1px rgba(60, 64, 67, 0.15);\n",
              "      fill: #174EA6;\n",
              "    }\n",
              "\n",
              "    [theme=dark] .colab-df-convert {\n",
              "      background-color: #3B4455;\n",
              "      fill: #D2E3FC;\n",
              "    }\n",
              "\n",
              "    [theme=dark] .colab-df-convert:hover {\n",
              "      background-color: #434B5C;\n",
              "      box-shadow: 0px 1px 3px 1px rgba(0, 0, 0, 0.15);\n",
              "      filter: drop-shadow(0px 1px 2px rgba(0, 0, 0, 0.3));\n",
              "      fill: #FFFFFF;\n",
              "    }\n",
              "  </style>\n",
              "\n",
              "      <script>\n",
              "        const buttonEl =\n",
              "          document.querySelector('#df-d2a30bfa-4cb0-4126-826b-aba941cf1f2c button.colab-df-convert');\n",
              "        buttonEl.style.display =\n",
              "          google.colab.kernel.accessAllowed ? 'block' : 'none';\n",
              "\n",
              "        async function convertToInteractive(key) {\n",
              "          const element = document.querySelector('#df-d2a30bfa-4cb0-4126-826b-aba941cf1f2c');\n",
              "          const dataTable =\n",
              "            await google.colab.kernel.invokeFunction('convertToInteractive',\n",
              "                                                     [key], {});\n",
              "          if (!dataTable) return;\n",
              "\n",
              "          const docLinkHtml = 'Like what you see? Visit the ' +\n",
              "            '<a target=\"_blank\" href=https://colab.research.google.com/notebooks/data_table.ipynb>data table notebook</a>'\n",
              "            + ' to learn more about interactive tables.';\n",
              "          element.innerHTML = '';\n",
              "          dataTable['output_type'] = 'display_data';\n",
              "          await google.colab.output.renderOutput(dataTable, element);\n",
              "          const docLink = document.createElement('div');\n",
              "          docLink.innerHTML = docLinkHtml;\n",
              "          element.appendChild(docLink);\n",
              "        }\n",
              "      </script>\n",
              "    </div>\n",
              "  </div>\n",
              "  "
            ]
          },
          "metadata": {},
          "execution_count": 233
        }
      ]
    },
    {
      "cell_type": "markdown",
      "source": [
        "###Inserindo bucket \n",
        "Tratados"
      ],
      "metadata": {
        "id": "LKxHxOP7-Ua-"
      }
    },
    {
      "cell_type": "code",
      "source": [
        "df2_pd.to_parquet('gs://soulcode-bc17-telecom/Tratados/Velocidade_Contratada_Tratad.gzip',compression='gzip')"
      ],
      "metadata": {
        "id": "ApddnQOf-Zhf"
      },
      "execution_count": 235,
      "outputs": []
    },
    {
      "cell_type": "code",
      "source": [
        "df2_pd.head(1)"
      ],
      "metadata": {
        "colab": {
          "base_uri": "https://localhost:8080/",
          "height": 0
        },
        "id": "b49GA3Zt38Mo",
        "outputId": "959dcf4f-4927-4760-a193-9f8ef1e48e9c"
      },
      "execution_count": 217,
      "outputs": [
        {
          "output_type": "execute_result",
          "data": {
            "text/plain": [
              "      Ano   Mês       razao_social                cnpj  \\\n",
              "0  2020.0  12.0  algar telecom s/a  71.208.516/0001-74   \n",
              "\n",
              "  velocidade_contratada_mbps  uf   municipio  codigo_ibge  acessos      tipo  \\\n",
              "0                         40  MG  UBERLANDIA    3170206.0  16660.0  INTERNET   \n",
              "\n",
              "      municipio_uf  \n",
              "0  Uberlândia - MG  "
            ],
            "text/html": [
              "\n",
              "  <div id=\"df-b6f53e2d-2cf4-4db2-8d68-2bd42042cc2e\">\n",
              "    <div class=\"colab-df-container\">\n",
              "      <div>\n",
              "<style scoped>\n",
              "    .dataframe tbody tr th:only-of-type {\n",
              "        vertical-align: middle;\n",
              "    }\n",
              "\n",
              "    .dataframe tbody tr th {\n",
              "        vertical-align: top;\n",
              "    }\n",
              "\n",
              "    .dataframe thead th {\n",
              "        text-align: right;\n",
              "    }\n",
              "</style>\n",
              "<table border=\"1\" class=\"dataframe\">\n",
              "  <thead>\n",
              "    <tr style=\"text-align: right;\">\n",
              "      <th></th>\n",
              "      <th>Ano</th>\n",
              "      <th>Mês</th>\n",
              "      <th>razao_social</th>\n",
              "      <th>cnpj</th>\n",
              "      <th>velocidade_contratada_mbps</th>\n",
              "      <th>uf</th>\n",
              "      <th>municipio</th>\n",
              "      <th>codigo_ibge</th>\n",
              "      <th>acessos</th>\n",
              "      <th>tipo</th>\n",
              "      <th>municipio_uf</th>\n",
              "    </tr>\n",
              "  </thead>\n",
              "  <tbody>\n",
              "    <tr>\n",
              "      <th>0</th>\n",
              "      <td>2020.0</td>\n",
              "      <td>12.0</td>\n",
              "      <td>algar telecom s/a</td>\n",
              "      <td>71.208.516/0001-74</td>\n",
              "      <td>40</td>\n",
              "      <td>MG</td>\n",
              "      <td>UBERLANDIA</td>\n",
              "      <td>3170206.0</td>\n",
              "      <td>16660.0</td>\n",
              "      <td>INTERNET</td>\n",
              "      <td>Uberlândia - MG</td>\n",
              "    </tr>\n",
              "  </tbody>\n",
              "</table>\n",
              "</div>\n",
              "      <button class=\"colab-df-convert\" onclick=\"convertToInteractive('df-b6f53e2d-2cf4-4db2-8d68-2bd42042cc2e')\"\n",
              "              title=\"Convert this dataframe to an interactive table.\"\n",
              "              style=\"display:none;\">\n",
              "        \n",
              "  <svg xmlns=\"http://www.w3.org/2000/svg\" height=\"24px\"viewBox=\"0 0 24 24\"\n",
              "       width=\"24px\">\n",
              "    <path d=\"M0 0h24v24H0V0z\" fill=\"none\"/>\n",
              "    <path d=\"M18.56 5.44l.94 2.06.94-2.06 2.06-.94-2.06-.94-.94-2.06-.94 2.06-2.06.94zm-11 1L8.5 8.5l.94-2.06 2.06-.94-2.06-.94L8.5 2.5l-.94 2.06-2.06.94zm10 10l.94 2.06.94-2.06 2.06-.94-2.06-.94-.94-2.06-.94 2.06-2.06.94z\"/><path d=\"M17.41 7.96l-1.37-1.37c-.4-.4-.92-.59-1.43-.59-.52 0-1.04.2-1.43.59L10.3 9.45l-7.72 7.72c-.78.78-.78 2.05 0 2.83L4 21.41c.39.39.9.59 1.41.59.51 0 1.02-.2 1.41-.59l7.78-7.78 2.81-2.81c.8-.78.8-2.07 0-2.86zM5.41 20L4 18.59l7.72-7.72 1.47 1.35L5.41 20z\"/>\n",
              "  </svg>\n",
              "      </button>\n",
              "      \n",
              "  <style>\n",
              "    .colab-df-container {\n",
              "      display:flex;\n",
              "      flex-wrap:wrap;\n",
              "      gap: 12px;\n",
              "    }\n",
              "\n",
              "    .colab-df-convert {\n",
              "      background-color: #E8F0FE;\n",
              "      border: none;\n",
              "      border-radius: 50%;\n",
              "      cursor: pointer;\n",
              "      display: none;\n",
              "      fill: #1967D2;\n",
              "      height: 32px;\n",
              "      padding: 0 0 0 0;\n",
              "      width: 32px;\n",
              "    }\n",
              "\n",
              "    .colab-df-convert:hover {\n",
              "      background-color: #E2EBFA;\n",
              "      box-shadow: 0px 1px 2px rgba(60, 64, 67, 0.3), 0px 1px 3px 1px rgba(60, 64, 67, 0.15);\n",
              "      fill: #174EA6;\n",
              "    }\n",
              "\n",
              "    [theme=dark] .colab-df-convert {\n",
              "      background-color: #3B4455;\n",
              "      fill: #D2E3FC;\n",
              "    }\n",
              "\n",
              "    [theme=dark] .colab-df-convert:hover {\n",
              "      background-color: #434B5C;\n",
              "      box-shadow: 0px 1px 3px 1px rgba(0, 0, 0, 0.15);\n",
              "      filter: drop-shadow(0px 1px 2px rgba(0, 0, 0, 0.3));\n",
              "      fill: #FFFFFF;\n",
              "    }\n",
              "  </style>\n",
              "\n",
              "      <script>\n",
              "        const buttonEl =\n",
              "          document.querySelector('#df-b6f53e2d-2cf4-4db2-8d68-2bd42042cc2e button.colab-df-convert');\n",
              "        buttonEl.style.display =\n",
              "          google.colab.kernel.accessAllowed ? 'block' : 'none';\n",
              "\n",
              "        async function convertToInteractive(key) {\n",
              "          const element = document.querySelector('#df-b6f53e2d-2cf4-4db2-8d68-2bd42042cc2e');\n",
              "          const dataTable =\n",
              "            await google.colab.kernel.invokeFunction('convertToInteractive',\n",
              "                                                     [key], {});\n",
              "          if (!dataTable) return;\n",
              "\n",
              "          const docLinkHtml = 'Like what you see? Visit the ' +\n",
              "            '<a target=\"_blank\" href=https://colab.research.google.com/notebooks/data_table.ipynb>data table notebook</a>'\n",
              "            + ' to learn more about interactive tables.';\n",
              "          element.innerHTML = '';\n",
              "          dataTable['output_type'] = 'display_data';\n",
              "          await google.colab.output.renderOutput(dataTable, element);\n",
              "          const docLink = document.createElement('div');\n",
              "          docLink.innerHTML = docLinkHtml;\n",
              "          element.appendChild(docLink);\n",
              "        }\n",
              "      </script>\n",
              "    </div>\n",
              "  </div>\n",
              "  "
            ]
          },
          "metadata": {},
          "execution_count": 217
        }
      ]
    },
    {
      "cell_type": "markdown",
      "source": [
        "# **Acessos_Telefonia_Movel_Pre_Pos_Total.json**"
      ],
      "metadata": {
        "id": "uKl2Xto9zPn3"
      }
    },
    {
      "cell_type": "markdown",
      "source": [
        "\n",
        "\n",
        "\n",
        "\n"
      ],
      "metadata": {
        "id": "DBVBhXaQzkEY"
      }
    },
    {
      "cell_type": "code",
      "source": [
        "df3_extrai = pd.read_json('gs://soulcode-bc17-telecom/Acessos_Telefonia_Movel_Pre_Pos_Total.json')"
      ],
      "metadata": {
        "id": "PC4SSFUuzGE7"
      },
      "execution_count": 10,
      "outputs": []
    },
    {
      "cell_type": "code",
      "source": [
        "df3_pd=df3_extrai.copy()"
      ],
      "metadata": {
        "id": "3xJRX8qi0IZe"
      },
      "execution_count": 13,
      "outputs": []
    },
    {
      "cell_type": "code",
      "source": [
        "df3_pd.head()"
      ],
      "metadata": {
        "colab": {
          "base_uri": "https://localhost:8080/",
          "height": 206
        },
        "id": "huVvZRZN16k_",
        "outputId": "23435747-3f69-45d4-c794-cd65aef6453e"
      },
      "execution_count": 23,
      "outputs": [
        {
          "output_type": "execute_result",
          "data": {
            "text/plain": [
              "    Ano  Mês Modalidade de Cobrança    Acessos\n",
              "0  2022    3               Pós-pago  138629611\n",
              "1  2022    3               Pré-pago  119642952\n",
              "2  2022    2               Pós-pago  137439913\n",
              "3  2022    2               Pré-pago  119004007\n",
              "4  2022    1               Pós-pago  136500794"
            ],
            "text/html": [
              "\n",
              "  <div id=\"df-0917da1b-a2dd-4a55-bbcb-96d7f8ff848d\">\n",
              "    <div class=\"colab-df-container\">\n",
              "      <div>\n",
              "<style scoped>\n",
              "    .dataframe tbody tr th:only-of-type {\n",
              "        vertical-align: middle;\n",
              "    }\n",
              "\n",
              "    .dataframe tbody tr th {\n",
              "        vertical-align: top;\n",
              "    }\n",
              "\n",
              "    .dataframe thead th {\n",
              "        text-align: right;\n",
              "    }\n",
              "</style>\n",
              "<table border=\"1\" class=\"dataframe\">\n",
              "  <thead>\n",
              "    <tr style=\"text-align: right;\">\n",
              "      <th></th>\n",
              "      <th>Ano</th>\n",
              "      <th>Mês</th>\n",
              "      <th>Modalidade de Cobrança</th>\n",
              "      <th>Acessos</th>\n",
              "    </tr>\n",
              "  </thead>\n",
              "  <tbody>\n",
              "    <tr>\n",
              "      <th>0</th>\n",
              "      <td>2022</td>\n",
              "      <td>3</td>\n",
              "      <td>Pós-pago</td>\n",
              "      <td>138629611</td>\n",
              "    </tr>\n",
              "    <tr>\n",
              "      <th>1</th>\n",
              "      <td>2022</td>\n",
              "      <td>3</td>\n",
              "      <td>Pré-pago</td>\n",
              "      <td>119642952</td>\n",
              "    </tr>\n",
              "    <tr>\n",
              "      <th>2</th>\n",
              "      <td>2022</td>\n",
              "      <td>2</td>\n",
              "      <td>Pós-pago</td>\n",
              "      <td>137439913</td>\n",
              "    </tr>\n",
              "    <tr>\n",
              "      <th>3</th>\n",
              "      <td>2022</td>\n",
              "      <td>2</td>\n",
              "      <td>Pré-pago</td>\n",
              "      <td>119004007</td>\n",
              "    </tr>\n",
              "    <tr>\n",
              "      <th>4</th>\n",
              "      <td>2022</td>\n",
              "      <td>1</td>\n",
              "      <td>Pós-pago</td>\n",
              "      <td>136500794</td>\n",
              "    </tr>\n",
              "  </tbody>\n",
              "</table>\n",
              "</div>\n",
              "      <button class=\"colab-df-convert\" onclick=\"convertToInteractive('df-0917da1b-a2dd-4a55-bbcb-96d7f8ff848d')\"\n",
              "              title=\"Convert this dataframe to an interactive table.\"\n",
              "              style=\"display:none;\">\n",
              "        \n",
              "  <svg xmlns=\"http://www.w3.org/2000/svg\" height=\"24px\"viewBox=\"0 0 24 24\"\n",
              "       width=\"24px\">\n",
              "    <path d=\"M0 0h24v24H0V0z\" fill=\"none\"/>\n",
              "    <path d=\"M18.56 5.44l.94 2.06.94-2.06 2.06-.94-2.06-.94-.94-2.06-.94 2.06-2.06.94zm-11 1L8.5 8.5l.94-2.06 2.06-.94-2.06-.94L8.5 2.5l-.94 2.06-2.06.94zm10 10l.94 2.06.94-2.06 2.06-.94-2.06-.94-.94-2.06-.94 2.06-2.06.94z\"/><path d=\"M17.41 7.96l-1.37-1.37c-.4-.4-.92-.59-1.43-.59-.52 0-1.04.2-1.43.59L10.3 9.45l-7.72 7.72c-.78.78-.78 2.05 0 2.83L4 21.41c.39.39.9.59 1.41.59.51 0 1.02-.2 1.41-.59l7.78-7.78 2.81-2.81c.8-.78.8-2.07 0-2.86zM5.41 20L4 18.59l7.72-7.72 1.47 1.35L5.41 20z\"/>\n",
              "  </svg>\n",
              "      </button>\n",
              "      \n",
              "  <style>\n",
              "    .colab-df-container {\n",
              "      display:flex;\n",
              "      flex-wrap:wrap;\n",
              "      gap: 12px;\n",
              "    }\n",
              "\n",
              "    .colab-df-convert {\n",
              "      background-color: #E8F0FE;\n",
              "      border: none;\n",
              "      border-radius: 50%;\n",
              "      cursor: pointer;\n",
              "      display: none;\n",
              "      fill: #1967D2;\n",
              "      height: 32px;\n",
              "      padding: 0 0 0 0;\n",
              "      width: 32px;\n",
              "    }\n",
              "\n",
              "    .colab-df-convert:hover {\n",
              "      background-color: #E2EBFA;\n",
              "      box-shadow: 0px 1px 2px rgba(60, 64, 67, 0.3), 0px 1px 3px 1px rgba(60, 64, 67, 0.15);\n",
              "      fill: #174EA6;\n",
              "    }\n",
              "\n",
              "    [theme=dark] .colab-df-convert {\n",
              "      background-color: #3B4455;\n",
              "      fill: #D2E3FC;\n",
              "    }\n",
              "\n",
              "    [theme=dark] .colab-df-convert:hover {\n",
              "      background-color: #434B5C;\n",
              "      box-shadow: 0px 1px 3px 1px rgba(0, 0, 0, 0.15);\n",
              "      filter: drop-shadow(0px 1px 2px rgba(0, 0, 0, 0.3));\n",
              "      fill: #FFFFFF;\n",
              "    }\n",
              "  </style>\n",
              "\n",
              "      <script>\n",
              "        const buttonEl =\n",
              "          document.querySelector('#df-0917da1b-a2dd-4a55-bbcb-96d7f8ff848d button.colab-df-convert');\n",
              "        buttonEl.style.display =\n",
              "          google.colab.kernel.accessAllowed ? 'block' : 'none';\n",
              "\n",
              "        async function convertToInteractive(key) {\n",
              "          const element = document.querySelector('#df-0917da1b-a2dd-4a55-bbcb-96d7f8ff848d');\n",
              "          const dataTable =\n",
              "            await google.colab.kernel.invokeFunction('convertToInteractive',\n",
              "                                                     [key], {});\n",
              "          if (!dataTable) return;\n",
              "\n",
              "          const docLinkHtml = 'Like what you see? Visit the ' +\n",
              "            '<a target=\"_blank\" href=https://colab.research.google.com/notebooks/data_table.ipynb>data table notebook</a>'\n",
              "            + ' to learn more about interactive tables.';\n",
              "          element.innerHTML = '';\n",
              "          dataTable['output_type'] = 'display_data';\n",
              "          await google.colab.output.renderOutput(dataTable, element);\n",
              "          const docLink = document.createElement('div');\n",
              "          docLink.innerHTML = docLinkHtml;\n",
              "          element.appendChild(docLink);\n",
              "        }\n",
              "      </script>\n",
              "    </div>\n",
              "  </div>\n",
              "  "
            ]
          },
          "metadata": {},
          "execution_count": 23
        }
      ]
    },
    {
      "cell_type": "markdown",
      "source": [
        "## Duplicated"
      ],
      "metadata": {
        "id": "0CBq2lAg10se"
      }
    },
    {
      "cell_type": "code",
      "source": [
        "df3_test=df3_pd[df3_pd.duplicated()]"
      ],
      "metadata": {
        "id": "kArKCRqZ1OtO"
      },
      "execution_count": 16,
      "outputs": []
    },
    {
      "cell_type": "code",
      "source": [
        "df3_test.count()"
      ],
      "metadata": {
        "colab": {
          "base_uri": "https://localhost:8080/"
        },
        "id": "KzFjVxMQ0IWB",
        "outputId": "c90e47fc-7024-4a75-d5c4-7bb186bf7912"
      },
      "execution_count": 18,
      "outputs": [
        {
          "output_type": "execute_result",
          "data": {
            "text/plain": [
              "Ano                       0\n",
              "Mês                       0\n",
              "Modalidade de Cobrança    0\n",
              "Acessos                   0\n",
              "dtype: int64"
            ]
          },
          "metadata": {},
          "execution_count": 18
        }
      ]
    },
    {
      "cell_type": "markdown",
      "source": [
        "## Info"
      ],
      "metadata": {
        "id": "TueNlMmo2Dmv"
      }
    },
    {
      "cell_type": "code",
      "source": [
        "df3_pd.info()"
      ],
      "metadata": {
        "colab": {
          "base_uri": "https://localhost:8080/"
        },
        "id": "Y8YCkuov0IQ8",
        "outputId": "5e7aa376-1699-4d5a-b275-bc15d614b388"
      },
      "execution_count": 19,
      "outputs": [
        {
          "output_type": "stream",
          "name": "stdout",
          "text": [
            "<class 'pandas.core.frame.DataFrame'>\n",
            "Int64Index: 412 entries, 0 to 411\n",
            "Data columns (total 4 columns):\n",
            " #   Column                  Non-Null Count  Dtype \n",
            "---  ------                  --------------  ----- \n",
            " 0   Ano                     412 non-null    int64 \n",
            " 1   Mês                     412 non-null    int64 \n",
            " 2   Modalidade de Cobrança  412 non-null    object\n",
            " 3   Acessos                 412 non-null    int64 \n",
            "dtypes: int64(3), object(1)\n",
            "memory usage: 16.1+ KB\n"
          ]
        }
      ]
    },
    {
      "cell_type": "markdown",
      "source": [
        "## Unique "
      ],
      "metadata": {
        "id": "zgXxHu2z2PMG"
      }
    },
    {
      "cell_type": "code",
      "source": [
        "pd.unique(df3_pd['Mês'])"
      ],
      "metadata": {
        "colab": {
          "base_uri": "https://localhost:8080/"
        },
        "id": "w4CISW5D0IOH",
        "outputId": "58954e5a-7fbb-480c-e7b4-ed83fd19037a"
      },
      "execution_count": 30,
      "outputs": [
        {
          "output_type": "execute_result",
          "data": {
            "text/plain": [
              "array([ 3,  2,  1, 12, 11, 10,  9,  8,  7,  6,  5,  4])"
            ]
          },
          "metadata": {},
          "execution_count": 30
        }
      ]
    },
    {
      "cell_type": "markdown",
      "source": [
        "## Rename"
      ],
      "metadata": {
        "id": "megzpK0u4V91"
      }
    },
    {
      "cell_type": "code",
      "source": [
        "df3_pd.rename(columns = {'Mês':'Mes','Modalidade de Cobrança':'ModalidadeCobranca'},inplace=True)"
      ],
      "metadata": {
        "id": "3fpYVqGN0IHp"
      },
      "execution_count": 31,
      "outputs": []
    },
    {
      "cell_type": "code",
      "source": [
        "df3_pd.head()"
      ],
      "metadata": {
        "id": "nG7Jc5Ou0IER"
      },
      "execution_count": null,
      "outputs": []
    },
    {
      "cell_type": "markdown",
      "source": [
        "## Inserindo Bucket"
      ],
      "metadata": {
        "id": "_Py_TTQM48Pf"
      }
    },
    {
      "cell_type": "code",
      "source": [
        "df3_pd.to_parquet('gs://soulcode-bc17-telecom/Tratados/Acessos_Telefonia_Movel_Pre_Pos_TotalTratad.gzip',compression='gzip')"
      ],
      "metadata": {
        "id": "WpmaZ2Kz0IBQ"
      },
      "execution_count": 33,
      "outputs": []
    },
    {
      "cell_type": "markdown",
      "source": [
        "#**Densidade_Telefonia_Movel.json**"
      ],
      "metadata": {
        "id": "J2ArVQCX6SXl"
      }
    },
    {
      "cell_type": "code",
      "source": [
        "df4_extrai = pd.read_json('gs://soulcode-bc17-telecom/Densidade_Telefonia_Movel.json')"
      ],
      "metadata": {
        "id": "65esdsONDVTN"
      },
      "execution_count": 45,
      "outputs": []
    },
    {
      "cell_type": "code",
      "source": [
        "df4_pd = df4_extrai.copy()"
      ],
      "metadata": {
        "id": "aKWgWXjkDkqm"
      },
      "execution_count": 63,
      "outputs": []
    },
    {
      "cell_type": "code",
      "source": [
        "df4_pd.count()"
      ],
      "metadata": {
        "colab": {
          "base_uri": "https://localhost:8080/"
        },
        "id": "t89nmFbaDvO_",
        "outputId": "2e77d640-204a-434a-9695-354c646b512c"
      },
      "execution_count": 64,
      "outputs": [
        {
          "output_type": "execute_result",
          "data": {
            "text/plain": [
              "Ano                           223046\n",
              "Mês                           223046\n",
              "UF                            222998\n",
              "Município                     222998\n",
              "Código IBGE                   222998\n",
              "Densidade                     222998\n",
              "Nível Geográfico Densidade    223046\n",
              "dtype: int64"
            ]
          },
          "metadata": {},
          "execution_count": 64
        }
      ]
    },
    {
      "cell_type": "code",
      "source": [
        "df4_pd.info()"
      ],
      "metadata": {
        "colab": {
          "base_uri": "https://localhost:8080/"
        },
        "id": "cX-VXF6WD48l",
        "outputId": "fa46710d-318b-43a6-84a1-f7fdeef620bf"
      },
      "execution_count": 49,
      "outputs": [
        {
          "output_type": "stream",
          "name": "stdout",
          "text": [
            "<class 'pandas.core.frame.DataFrame'>\n",
            "Int64Index: 223046 entries, 0 to 223045\n",
            "Data columns (total 7 columns):\n",
            " #   Column                      Non-Null Count   Dtype  \n",
            "---  ------                      --------------   -----  \n",
            " 0   Ano                         223046 non-null  int64  \n",
            " 1   Mês                         223046 non-null  int64  \n",
            " 2   UF                          222998 non-null  object \n",
            " 3   Município                   222998 non-null  object \n",
            " 4   Código IBGE                 222998 non-null  float64\n",
            " 5   Densidade                   222998 non-null  object \n",
            " 6   Nível Geográfico Densidade  223046 non-null  object \n",
            "dtypes: float64(1), int64(2), object(4)\n",
            "memory usage: 13.6+ MB\n"
          ]
        }
      ]
    },
    {
      "cell_type": "code",
      "source": [
        "pd.unique(df4_pd['Nível Geográfico Densidade'])"
      ],
      "metadata": {
        "colab": {
          "base_uri": "https://localhost:8080/"
        },
        "id": "w81HgUYqEC8M",
        "outputId": "212fb315-9227-4218-a200-163ff89fc868"
      },
      "execution_count": 65,
      "outputs": [
        {
          "output_type": "execute_result",
          "data": {
            "text/plain": [
              "array(['Brasil', 'UF', 'Municipio'], dtype=object)"
            ]
          },
          "metadata": {},
          "execution_count": 65
        }
      ]
    },
    {
      "cell_type": "code",
      "source": [
        "df4_test=df4_pd[df4_pd.duplicated()]"
      ],
      "metadata": {
        "id": "ns18x6pOajLL"
      },
      "execution_count": 55,
      "outputs": []
    },
    {
      "cell_type": "code",
      "source": [
        "df4_test.count()"
      ],
      "metadata": {
        "colab": {
          "base_uri": "https://localhost:8080/"
        },
        "id": "0SwO0qdzaq4q",
        "outputId": "33e17275-4390-48f0-c927-23c231e8a0e9"
      },
      "execution_count": 56,
      "outputs": [
        {
          "output_type": "execute_result",
          "data": {
            "text/plain": [
              "Ano                           0\n",
              "Mês                           0\n",
              "UF                            0\n",
              "Município                     0\n",
              "Código IBGE                   0\n",
              "Densidade                     0\n",
              "Nível Geográfico Densidade    0\n",
              "dtype: int64"
            ]
          },
          "metadata": {},
          "execution_count": 56
        }
      ]
    },
    {
      "cell_type": "markdown",
      "source": [
        "## Rename"
      ],
      "metadata": {
        "id": "piF0k8dTfqkq"
      }
    },
    {
      "cell_type": "code",
      "source": [
        "df4_pd.rename(columns = {'Mês':'Mes','Município':'Municipio','Código IBGE':'Cod_IBGE','Nível Geográfico Densidade':'NivelGeografico'},inplace=True)"
      ],
      "metadata": {
        "id": "06n_V0r3fgoi"
      },
      "execution_count": 66,
      "outputs": []
    },
    {
      "cell_type": "code",
      "source": [
        "df4_pd.head()"
      ],
      "metadata": {
        "colab": {
          "base_uri": "https://localhost:8080/",
          "height": 206
        },
        "id": "Q3tF2ZW1hnXh",
        "outputId": "ebca2155-375c-4cf2-d9bf-784add4c1972"
      },
      "execution_count": 67,
      "outputs": [
        {
          "output_type": "execute_result",
          "data": {
            "text/plain": [
              "    Ano  Mes      UF Municipio  Cod_IBGE        Densidade NivelGeografico\n",
              "0  2022    3  Brasil    Brasil       0.0  121,96723524202          Brasil\n",
              "1  2022    2  Brasil    Brasil       0.0  121,10367262288          Brasil\n",
              "2  2022    1  Brasil    Brasil       0.0  120,73751906513          Brasil\n",
              "3  2021   12  Brasil    Brasil       0.0  120,28536970803          Brasil\n",
              "4  2021   11  Brasil    Brasil       0.0  119,48517870301          Brasil"
            ],
            "text/html": [
              "\n",
              "  <div id=\"df-ff69a9bc-fb56-47d0-8bca-ec6abc7f964f\">\n",
              "    <div class=\"colab-df-container\">\n",
              "      <div>\n",
              "<style scoped>\n",
              "    .dataframe tbody tr th:only-of-type {\n",
              "        vertical-align: middle;\n",
              "    }\n",
              "\n",
              "    .dataframe tbody tr th {\n",
              "        vertical-align: top;\n",
              "    }\n",
              "\n",
              "    .dataframe thead th {\n",
              "        text-align: right;\n",
              "    }\n",
              "</style>\n",
              "<table border=\"1\" class=\"dataframe\">\n",
              "  <thead>\n",
              "    <tr style=\"text-align: right;\">\n",
              "      <th></th>\n",
              "      <th>Ano</th>\n",
              "      <th>Mes</th>\n",
              "      <th>UF</th>\n",
              "      <th>Municipio</th>\n",
              "      <th>Cod_IBGE</th>\n",
              "      <th>Densidade</th>\n",
              "      <th>NivelGeografico</th>\n",
              "    </tr>\n",
              "  </thead>\n",
              "  <tbody>\n",
              "    <tr>\n",
              "      <th>0</th>\n",
              "      <td>2022</td>\n",
              "      <td>3</td>\n",
              "      <td>Brasil</td>\n",
              "      <td>Brasil</td>\n",
              "      <td>0.0</td>\n",
              "      <td>121,96723524202</td>\n",
              "      <td>Brasil</td>\n",
              "    </tr>\n",
              "    <tr>\n",
              "      <th>1</th>\n",
              "      <td>2022</td>\n",
              "      <td>2</td>\n",
              "      <td>Brasil</td>\n",
              "      <td>Brasil</td>\n",
              "      <td>0.0</td>\n",
              "      <td>121,10367262288</td>\n",
              "      <td>Brasil</td>\n",
              "    </tr>\n",
              "    <tr>\n",
              "      <th>2</th>\n",
              "      <td>2022</td>\n",
              "      <td>1</td>\n",
              "      <td>Brasil</td>\n",
              "      <td>Brasil</td>\n",
              "      <td>0.0</td>\n",
              "      <td>120,73751906513</td>\n",
              "      <td>Brasil</td>\n",
              "    </tr>\n",
              "    <tr>\n",
              "      <th>3</th>\n",
              "      <td>2021</td>\n",
              "      <td>12</td>\n",
              "      <td>Brasil</td>\n",
              "      <td>Brasil</td>\n",
              "      <td>0.0</td>\n",
              "      <td>120,28536970803</td>\n",
              "      <td>Brasil</td>\n",
              "    </tr>\n",
              "    <tr>\n",
              "      <th>4</th>\n",
              "      <td>2021</td>\n",
              "      <td>11</td>\n",
              "      <td>Brasil</td>\n",
              "      <td>Brasil</td>\n",
              "      <td>0.0</td>\n",
              "      <td>119,48517870301</td>\n",
              "      <td>Brasil</td>\n",
              "    </tr>\n",
              "  </tbody>\n",
              "</table>\n",
              "</div>\n",
              "      <button class=\"colab-df-convert\" onclick=\"convertToInteractive('df-ff69a9bc-fb56-47d0-8bca-ec6abc7f964f')\"\n",
              "              title=\"Convert this dataframe to an interactive table.\"\n",
              "              style=\"display:none;\">\n",
              "        \n",
              "  <svg xmlns=\"http://www.w3.org/2000/svg\" height=\"24px\"viewBox=\"0 0 24 24\"\n",
              "       width=\"24px\">\n",
              "    <path d=\"M0 0h24v24H0V0z\" fill=\"none\"/>\n",
              "    <path d=\"M18.56 5.44l.94 2.06.94-2.06 2.06-.94-2.06-.94-.94-2.06-.94 2.06-2.06.94zm-11 1L8.5 8.5l.94-2.06 2.06-.94-2.06-.94L8.5 2.5l-.94 2.06-2.06.94zm10 10l.94 2.06.94-2.06 2.06-.94-2.06-.94-.94-2.06-.94 2.06-2.06.94z\"/><path d=\"M17.41 7.96l-1.37-1.37c-.4-.4-.92-.59-1.43-.59-.52 0-1.04.2-1.43.59L10.3 9.45l-7.72 7.72c-.78.78-.78 2.05 0 2.83L4 21.41c.39.39.9.59 1.41.59.51 0 1.02-.2 1.41-.59l7.78-7.78 2.81-2.81c.8-.78.8-2.07 0-2.86zM5.41 20L4 18.59l7.72-7.72 1.47 1.35L5.41 20z\"/>\n",
              "  </svg>\n",
              "      </button>\n",
              "      \n",
              "  <style>\n",
              "    .colab-df-container {\n",
              "      display:flex;\n",
              "      flex-wrap:wrap;\n",
              "      gap: 12px;\n",
              "    }\n",
              "\n",
              "    .colab-df-convert {\n",
              "      background-color: #E8F0FE;\n",
              "      border: none;\n",
              "      border-radius: 50%;\n",
              "      cursor: pointer;\n",
              "      display: none;\n",
              "      fill: #1967D2;\n",
              "      height: 32px;\n",
              "      padding: 0 0 0 0;\n",
              "      width: 32px;\n",
              "    }\n",
              "\n",
              "    .colab-df-convert:hover {\n",
              "      background-color: #E2EBFA;\n",
              "      box-shadow: 0px 1px 2px rgba(60, 64, 67, 0.3), 0px 1px 3px 1px rgba(60, 64, 67, 0.15);\n",
              "      fill: #174EA6;\n",
              "    }\n",
              "\n",
              "    [theme=dark] .colab-df-convert {\n",
              "      background-color: #3B4455;\n",
              "      fill: #D2E3FC;\n",
              "    }\n",
              "\n",
              "    [theme=dark] .colab-df-convert:hover {\n",
              "      background-color: #434B5C;\n",
              "      box-shadow: 0px 1px 3px 1px rgba(0, 0, 0, 0.15);\n",
              "      filter: drop-shadow(0px 1px 2px rgba(0, 0, 0, 0.3));\n",
              "      fill: #FFFFFF;\n",
              "    }\n",
              "  </style>\n",
              "\n",
              "      <script>\n",
              "        const buttonEl =\n",
              "          document.querySelector('#df-ff69a9bc-fb56-47d0-8bca-ec6abc7f964f button.colab-df-convert');\n",
              "        buttonEl.style.display =\n",
              "          google.colab.kernel.accessAllowed ? 'block' : 'none';\n",
              "\n",
              "        async function convertToInteractive(key) {\n",
              "          const element = document.querySelector('#df-ff69a9bc-fb56-47d0-8bca-ec6abc7f964f');\n",
              "          const dataTable =\n",
              "            await google.colab.kernel.invokeFunction('convertToInteractive',\n",
              "                                                     [key], {});\n",
              "          if (!dataTable) return;\n",
              "\n",
              "          const docLinkHtml = 'Like what you see? Visit the ' +\n",
              "            '<a target=\"_blank\" href=https://colab.research.google.com/notebooks/data_table.ipynb>data table notebook</a>'\n",
              "            + ' to learn more about interactive tables.';\n",
              "          element.innerHTML = '';\n",
              "          dataTable['output_type'] = 'display_data';\n",
              "          await google.colab.output.renderOutput(dataTable, element);\n",
              "          const docLink = document.createElement('div');\n",
              "          docLink.innerHTML = docLinkHtml;\n",
              "          element.appendChild(docLink);\n",
              "        }\n",
              "      </script>\n",
              "    </div>\n",
              "  </div>\n",
              "  "
            ]
          },
          "metadata": {},
          "execution_count": 67
        }
      ]
    },
    {
      "cell_type": "markdown",
      "source": [
        "## Inserindo no Bucket "
      ],
      "metadata": {
        "id": "xRLO2qm8i-eC"
      }
    },
    {
      "cell_type": "code",
      "source": [
        "df4_pd.to_parquet('gs://soulcode-bc17-telecom/Tratados/Densidade_Telefonia_Movel.gzip',compression='gzip')"
      ],
      "metadata": {
        "id": "Kv0jez64i8nx"
      },
      "execution_count": 68,
      "outputs": []
    }
  ]
}